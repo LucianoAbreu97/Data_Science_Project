{
  "nbformat": 4,
  "nbformat_minor": 0,
  "metadata": {
    "colab": {
      "provenance": []
    },
    "kernelspec": {
      "name": "python3",
      "display_name": "Python 3"
    },
    "language_info": {
      "name": "python"
    }
  },
  "cells": [
    {
      "cell_type": "code",
      "execution_count": null,
      "metadata": {
        "colab": {
          "base_uri": "https://localhost:8080/",
          "height": 73
        },
        "id": "pY_xTTq9Sdyz",
        "outputId": "7a036fda-23f9-4073-f312-3c5eeb65b5a1"
      },
      "outputs": [
        {
          "output_type": "display_data",
          "data": {
            "text/plain": [
              "<IPython.core.display.HTML object>"
            ],
            "text/html": [
              "\n",
              "     <input type=\"file\" id=\"files-0fba28ea-de4d-4774-8281-063acfb7649b\" name=\"files[]\" multiple disabled\n",
              "        style=\"border:none\" />\n",
              "     <output id=\"result-0fba28ea-de4d-4774-8281-063acfb7649b\">\n",
              "      Upload widget is only available when the cell has been executed in the\n",
              "      current browser session. Please rerun this cell to enable.\n",
              "      </output>\n",
              "      <script>// Copyright 2017 Google LLC\n",
              "//\n",
              "// Licensed under the Apache License, Version 2.0 (the \"License\");\n",
              "// you may not use this file except in compliance with the License.\n",
              "// You may obtain a copy of the License at\n",
              "//\n",
              "//      http://www.apache.org/licenses/LICENSE-2.0\n",
              "//\n",
              "// Unless required by applicable law or agreed to in writing, software\n",
              "// distributed under the License is distributed on an \"AS IS\" BASIS,\n",
              "// WITHOUT WARRANTIES OR CONDITIONS OF ANY KIND, either express or implied.\n",
              "// See the License for the specific language governing permissions and\n",
              "// limitations under the License.\n",
              "\n",
              "/**\n",
              " * @fileoverview Helpers for google.colab Python module.\n",
              " */\n",
              "(function(scope) {\n",
              "function span(text, styleAttributes = {}) {\n",
              "  const element = document.createElement('span');\n",
              "  element.textContent = text;\n",
              "  for (const key of Object.keys(styleAttributes)) {\n",
              "    element.style[key] = styleAttributes[key];\n",
              "  }\n",
              "  return element;\n",
              "}\n",
              "\n",
              "// Max number of bytes which will be uploaded at a time.\n",
              "const MAX_PAYLOAD_SIZE = 100 * 1024;\n",
              "\n",
              "function _uploadFiles(inputId, outputId) {\n",
              "  const steps = uploadFilesStep(inputId, outputId);\n",
              "  const outputElement = document.getElementById(outputId);\n",
              "  // Cache steps on the outputElement to make it available for the next call\n",
              "  // to uploadFilesContinue from Python.\n",
              "  outputElement.steps = steps;\n",
              "\n",
              "  return _uploadFilesContinue(outputId);\n",
              "}\n",
              "\n",
              "// This is roughly an async generator (not supported in the browser yet),\n",
              "// where there are multiple asynchronous steps and the Python side is going\n",
              "// to poll for completion of each step.\n",
              "// This uses a Promise to block the python side on completion of each step,\n",
              "// then passes the result of the previous step as the input to the next step.\n",
              "function _uploadFilesContinue(outputId) {\n",
              "  const outputElement = document.getElementById(outputId);\n",
              "  const steps = outputElement.steps;\n",
              "\n",
              "  const next = steps.next(outputElement.lastPromiseValue);\n",
              "  return Promise.resolve(next.value.promise).then((value) => {\n",
              "    // Cache the last promise value to make it available to the next\n",
              "    // step of the generator.\n",
              "    outputElement.lastPromiseValue = value;\n",
              "    return next.value.response;\n",
              "  });\n",
              "}\n",
              "\n",
              "/**\n",
              " * Generator function which is called between each async step of the upload\n",
              " * process.\n",
              " * @param {string} inputId Element ID of the input file picker element.\n",
              " * @param {string} outputId Element ID of the output display.\n",
              " * @return {!Iterable<!Object>} Iterable of next steps.\n",
              " */\n",
              "function* uploadFilesStep(inputId, outputId) {\n",
              "  const inputElement = document.getElementById(inputId);\n",
              "  inputElement.disabled = false;\n",
              "\n",
              "  const outputElement = document.getElementById(outputId);\n",
              "  outputElement.innerHTML = '';\n",
              "\n",
              "  const pickedPromise = new Promise((resolve) => {\n",
              "    inputElement.addEventListener('change', (e) => {\n",
              "      resolve(e.target.files);\n",
              "    });\n",
              "  });\n",
              "\n",
              "  const cancel = document.createElement('button');\n",
              "  inputElement.parentElement.appendChild(cancel);\n",
              "  cancel.textContent = 'Cancel upload';\n",
              "  const cancelPromise = new Promise((resolve) => {\n",
              "    cancel.onclick = () => {\n",
              "      resolve(null);\n",
              "    };\n",
              "  });\n",
              "\n",
              "  // Wait for the user to pick the files.\n",
              "  const files = yield {\n",
              "    promise: Promise.race([pickedPromise, cancelPromise]),\n",
              "    response: {\n",
              "      action: 'starting',\n",
              "    }\n",
              "  };\n",
              "\n",
              "  cancel.remove();\n",
              "\n",
              "  // Disable the input element since further picks are not allowed.\n",
              "  inputElement.disabled = true;\n",
              "\n",
              "  if (!files) {\n",
              "    return {\n",
              "      response: {\n",
              "        action: 'complete',\n",
              "      }\n",
              "    };\n",
              "  }\n",
              "\n",
              "  for (const file of files) {\n",
              "    const li = document.createElement('li');\n",
              "    li.append(span(file.name, {fontWeight: 'bold'}));\n",
              "    li.append(span(\n",
              "        `(${file.type || 'n/a'}) - ${file.size} bytes, ` +\n",
              "        `last modified: ${\n",
              "            file.lastModifiedDate ? file.lastModifiedDate.toLocaleDateString() :\n",
              "                                    'n/a'} - `));\n",
              "    const percent = span('0% done');\n",
              "    li.appendChild(percent);\n",
              "\n",
              "    outputElement.appendChild(li);\n",
              "\n",
              "    const fileDataPromise = new Promise((resolve) => {\n",
              "      const reader = new FileReader();\n",
              "      reader.onload = (e) => {\n",
              "        resolve(e.target.result);\n",
              "      };\n",
              "      reader.readAsArrayBuffer(file);\n",
              "    });\n",
              "    // Wait for the data to be ready.\n",
              "    let fileData = yield {\n",
              "      promise: fileDataPromise,\n",
              "      response: {\n",
              "        action: 'continue',\n",
              "      }\n",
              "    };\n",
              "\n",
              "    // Use a chunked sending to avoid message size limits. See b/62115660.\n",
              "    let position = 0;\n",
              "    do {\n",
              "      const length = Math.min(fileData.byteLength - position, MAX_PAYLOAD_SIZE);\n",
              "      const chunk = new Uint8Array(fileData, position, length);\n",
              "      position += length;\n",
              "\n",
              "      const base64 = btoa(String.fromCharCode.apply(null, chunk));\n",
              "      yield {\n",
              "        response: {\n",
              "          action: 'append',\n",
              "          file: file.name,\n",
              "          data: base64,\n",
              "        },\n",
              "      };\n",
              "\n",
              "      let percentDone = fileData.byteLength === 0 ?\n",
              "          100 :\n",
              "          Math.round((position / fileData.byteLength) * 100);\n",
              "      percent.textContent = `${percentDone}% done`;\n",
              "\n",
              "    } while (position < fileData.byteLength);\n",
              "  }\n",
              "\n",
              "  // All done.\n",
              "  yield {\n",
              "    response: {\n",
              "      action: 'complete',\n",
              "    }\n",
              "  };\n",
              "}\n",
              "\n",
              "scope.google = scope.google || {};\n",
              "scope.google.colab = scope.google.colab || {};\n",
              "scope.google.colab._files = {\n",
              "  _uploadFiles,\n",
              "  _uploadFilesContinue,\n",
              "};\n",
              "})(self);\n",
              "</script> "
            ]
          },
          "metadata": {}
        },
        {
          "output_type": "stream",
          "name": "stdout",
          "text": [
            "Saving DatasetVacina.csv to DatasetVacina.csv\n"
          ]
        }
      ],
      "source": [
        "#Importando o arquivo csv.\n",
        "from google.colab import files\n",
        "uploaded = files.upload()"
      ]
    },
    {
      "cell_type": "code",
      "source": [
        "#Importando a biblioteca pandas.\n",
        "import pandas as pd"
      ],
      "metadata": {
        "id": "tP4eWGwweZCG"
      },
      "execution_count": null,
      "outputs": []
    },
    {
      "cell_type": "markdown",
      "source": [],
      "metadata": {
        "id": "pg4wVyVHdB_8"
      }
    },
    {
      "cell_type": "code",
      "source": [
        "df = pd.read_csv(\"/content/DatasetVacina.csv\", sep=\";\")"
      ],
      "metadata": {
        "colab": {
          "base_uri": "https://localhost:8080/"
        },
        "id": "uCtk5IEdedzG",
        "outputId": "f744726e-2853-4eb7-969f-01f8120840b8"
      },
      "execution_count": null,
      "outputs": [
        {
          "output_type": "stream",
          "name": "stderr",
          "text": [
            "<ipython-input-3-6c2972773ea8>:1: DtypeWarning: Columns (12,26,31,33,34,37,58) have mixed types. Specify dtype option on import or set low_memory=False.\n",
            "  df = pd.read_csv(\"/content/DatasetVacina.csv\", sep=\";\")\n"
          ]
        }
      ]
    },
    {
      "cell_type": "markdown",
      "source": [],
      "metadata": {
        "id": "La7vspMEc8qV"
      }
    },
    {
      "cell_type": "markdown",
      "source": [
        "## **Analise exploratória dos dados**"
      ],
      "metadata": {
        "id": "w3YBzjKVltFd"
      }
    },
    {
      "cell_type": "code",
      "source": [
        "#Verificando a quantidade de linhas e colunas.\n",
        "df.shape"
      ],
      "metadata": {
        "colab": {
          "base_uri": "https://localhost:8080/"
        },
        "id": "fFuQRDWqly2w",
        "outputId": "9ebdeb32-d743-4449-e05c-4335ff34c75d"
      },
      "execution_count": null,
      "outputs": [
        {
          "output_type": "execute_result",
          "data": {
            "text/plain": [
              "(543061, 64)"
            ]
          },
          "metadata": {},
          "execution_count": 4
        }
      ]
    },
    {
      "cell_type": "code",
      "source": [
        "#Verificando os tipos de dados das colunas.\n",
        "print(df.dtypes)"
      ],
      "metadata": {
        "colab": {
          "base_uri": "https://localhost:8080/"
        },
        "id": "MOZ1q4wSl3ly",
        "outputId": "6c8f4688-b46d-4292-e24a-3f63fab647a5"
      },
      "execution_count": null,
      "outputs": [
        {
          "output_type": "stream",
          "name": "stdout",
          "text": [
            "sintomas              object\n",
            "profissionalSaude     object\n",
            "racaCor               object\n",
            "outrosSintomas        object\n",
            "outrasCondicoes       object\n",
            "                      ...   \n",
            "dataColetaTeste1      object\n",
            "dataColetaTeste2      object\n",
            "dataColetaTeste3      object\n",
            "dataColetaTeste4      object\n",
            "idade                float64\n",
            "Length: 64, dtype: object\n"
          ]
        }
      ]
    },
    {
      "cell_type": "code",
      "source": [
        "#Verificando os dados nulos.\n",
        "df.isnull().sum()"
      ],
      "metadata": {
        "colab": {
          "base_uri": "https://localhost:8080/"
        },
        "id": "S6eORV_Dy3um",
        "outputId": "00f08cc0-5d27-427f-9a8d-15d73db538a3"
      },
      "execution_count": null,
      "outputs": [
        {
          "output_type": "execute_result",
          "data": {
            "text/plain": [
              "sintomas                  2\n",
              "profissionalSaude         2\n",
              "racaCor                  97\n",
              "outrosSintomas       468027\n",
              "outrasCondicoes      528048\n",
              "                      ...  \n",
              "dataColetaTeste1      99739\n",
              "dataColetaTeste2       6841\n",
              "dataColetaTeste3       1008\n",
              "dataColetaTeste4        100\n",
              "idade                126648\n",
              "Length: 64, dtype: int64"
            ]
          },
          "metadata": {},
          "execution_count": 6
        }
      ]
    },
    {
      "cell_type": "code",
      "source": [
        "#Verificando as colunas do arquivo csv.\n",
        "df.columns"
      ],
      "metadata": {
        "colab": {
          "base_uri": "https://localhost:8080/"
        },
        "id": "j3hpYEuKldCT",
        "outputId": "692c2b59-393f-4cd0-bb88-17e05aa52c0f"
      },
      "execution_count": null,
      "outputs": [
        {
          "output_type": "execute_result",
          "data": {
            "text/plain": [
              "Index(['sintomas', 'profissionalSaude', 'racaCor', 'outrosSintomas',\n",
              "       'outrasCondicoes', 'profissionalSeguranca', 'cbo', 'condicoes', 'sexo',\n",
              "       'estado', 'estadoIBGE', 'municipio', 'municipioIBGE', 'origem',\n",
              "       'estadoNotificacao', 'municipioNotificacao', 'municipioNotificacaoIBGE',\n",
              "       'evolucaoCaso', 'classificacaoFinal', 'codigoEstrategiaCovid',\n",
              "       'codigoBuscaAtivaAssintomatico', 'outroBuscaAtivaAssintomatico',\n",
              "       'codigoTriagemPopulacaoEspecifica', 'outroTriagemPopulacaoEspecifica',\n",
              "       'codigoLocalRealizacaoTestagem', 'outroLocalRealizacaoTestagem',\n",
              "       'codigoRecebeuVacina', 'codigoLaboratorioPrimeiraDose',\n",
              "       'codigoLaboratorioSegundaDose', 'lotePrimeiraDose', 'loteSegundaDose',\n",
              "       'codigoContemComunidadeTradicional', 'source_id', 'excluido',\n",
              "       'validado', 'codigoDosesVacina', 'estadoNotificacaoIBGE',\n",
              "       'totalTestesRealizados', 'dataNotificacao', 'dataInicioSintomas',\n",
              "       'dataEncerramento', 'dataPrimeiraDose', 'dataSegundaDose',\n",
              "       'codigoEstadoTeste1', 'codigoTipoTeste1', 'codigoFabricanteTeste1',\n",
              "       'codigoResultadoTeste1', 'codigoEstadoTeste2', 'codigoTipoTeste2',\n",
              "       'codigoFabricanteTeste2', 'codigoResultadoTeste2', 'codigoEstadoTeste3',\n",
              "       'codigoTipoTeste3', 'codigoFabricanteTeste3', 'codigoResultadoTeste3',\n",
              "       'codigoEstadoTeste4', 'codigoTipoTeste4', 'codigoFabricanteTeste4',\n",
              "       'codigoResultadoTeste4', 'dataColetaTeste1', 'dataColetaTeste2',\n",
              "       'dataColetaTeste3', 'dataColetaTeste4', 'idade'],\n",
              "      dtype='object')"
            ]
          },
          "metadata": {},
          "execution_count": 7
        }
      ]
    },
    {
      "cell_type": "code",
      "source": [
        "#Removendo as colunas desnecessárias.\n",
        "df = df.drop(['profissionalSaude', 'cbo', 'outrosSintomas', 'outrosSintomas', 'outrasCondicoes', 'profissionalSeguranca', 'codigoRecebeuVacina', 'classificacaoFinal', 'origem',\n",
        "       'outrasCondicoes', 'profissionalSeguranca', 'estadoIBGE', 'municipioIBGE', 'estadoNotificacao', 'municipioNotificacao', 'municipioNotificacaoIBGE', 'condicoes',\n",
        "       'codigoEstrategiaCovid','codigoBuscaAtivaAssintomatico', 'outroBuscaAtivaAssintomatico', 'codigoTriagemPopulacaoEspecifica', 'outroTriagemPopulacaoEspecifica',\n",
        "       'codigoLocalRealizacaoTestagem', 'outroLocalRealizacaoTestagem', 'codigoLaboratorioPrimeiraDose', 'codigoLaboratorioSegundaDose', 'codigoContemComunidadeTradicional', 'source_id', 'excluido',\n",
        "       'validado', 'codigoDosesVacina', 'estadoNotificacaoIBGE', 'totalTestesRealizados', 'dataNotificacao', 'dataInicioSintomas', 'dataEncerramento', 'codigoEstadoTeste1', 'codigoTipoTeste1', 'codigoFabricanteTeste1',\n",
        "       'codigoResultadoTeste1', 'codigoEstadoTeste2', 'codigoTipoTeste2', 'codigoFabricanteTeste2', 'codigoResultadoTeste2', 'codigoEstadoTeste3', 'codigoTipoTeste3', 'codigoFabricanteTeste3', 'codigoResultadoTeste3',\n",
        "       'codigoEstadoTeste4', 'codigoTipoTeste4', 'codigoFabricanteTeste4', 'codigoResultadoTeste4', 'dataColetaTeste1', 'dataColetaTeste2', 'dataColetaTeste3', 'dataColetaTeste4',], axis=1)"
      ],
      "metadata": {
        "id": "jcprBc4clbJx"
      },
      "execution_count": null,
      "outputs": []
    },
    {
      "cell_type": "code",
      "source": [
        "#Verificando novamente as colunas.\n",
        "df.columns"
      ],
      "metadata": {
        "colab": {
          "base_uri": "https://localhost:8080/"
        },
        "id": "wt2K5devzOUU",
        "outputId": "baf665b0-58b3-46f0-88f7-15f2f5b6d39d"
      },
      "execution_count": null,
      "outputs": [
        {
          "output_type": "execute_result",
          "data": {
            "text/plain": [
              "Index(['sintomas', 'racaCor', 'sexo', 'estado', 'municipio', 'evolucaoCaso',\n",
              "       'lotePrimeiraDose', 'loteSegundaDose', 'dataPrimeiraDose',\n",
              "       'dataSegundaDose', 'idade'],\n",
              "      dtype='object')"
            ]
          },
          "metadata": {},
          "execution_count": 9
        }
      ]
    },
    {
      "cell_type": "code",
      "source": [
        "#Verificando os dados das colunas.\n",
        "df.sample(5)"
      ],
      "metadata": {
        "colab": {
          "base_uri": "https://localhost:8080/",
          "height": 206
        },
        "id": "KOYlEIsmzR6U",
        "outputId": "5bf0142c-d9fd-45dd-f56c-be00c5d37042"
      },
      "execution_count": null,
      "outputs": [
        {
          "output_type": "execute_result",
          "data": {
            "text/plain": [
              "                                                 sintomas   racaCor  \\\n",
              "355499             Dor de Cabeça, Tosse, Dispneia, Coriza  Ignorado   \n",
              "422852             Dor de Cabeça, Dor de Garganta, Coriza    Branca   \n",
              "406806                                      Assintomático     Parda   \n",
              "181057                                              Tosse    Branca   \n",
              "46641   Coriza, Dor de Cabeça, Tosse, Dor de Garganta,...   Amarela   \n",
              "\n",
              "             sexo estado          municipio evolucaoCaso lotePrimeiraDose  \\\n",
              "355499   Feminino  Ceará  Juazeiro do Norte     Ignorado           210384   \n",
              "422852   Feminino  Ceará             Iguatu          NaN          28235BD   \n",
              "406806  Masculino  Ceará                Icó          NaN              NaN   \n",
              "181057  Masculino  Ceará          Fortaleza          NaN           210090   \n",
              "46641   Masculino  Ceará          Fortaleza          NaN           EX2405   \n",
              "\n",
              "       loteSegundaDose dataPrimeiraDose dataSegundaDose  idade  \n",
              "355499          210415       2021-09-04      2021-10-02   19.0  \n",
              "422852          FH8023       2021-08-27      2021-11-08   22.0  \n",
              "406806             NaN             None            None    8.0  \n",
              "181057          210210       2021-03-30      2021-05-28    NaN  \n",
              "46641           FA9096       2021-05-07      2021-07-23    NaN  "
            ],
            "text/html": [
              "\n",
              "  <div id=\"df-ad8dce73-1149-4ef6-8b42-e497ffa56071\">\n",
              "    <div class=\"colab-df-container\">\n",
              "      <div>\n",
              "<style scoped>\n",
              "    .dataframe tbody tr th:only-of-type {\n",
              "        vertical-align: middle;\n",
              "    }\n",
              "\n",
              "    .dataframe tbody tr th {\n",
              "        vertical-align: top;\n",
              "    }\n",
              "\n",
              "    .dataframe thead th {\n",
              "        text-align: right;\n",
              "    }\n",
              "</style>\n",
              "<table border=\"1\" class=\"dataframe\">\n",
              "  <thead>\n",
              "    <tr style=\"text-align: right;\">\n",
              "      <th></th>\n",
              "      <th>sintomas</th>\n",
              "      <th>racaCor</th>\n",
              "      <th>sexo</th>\n",
              "      <th>estado</th>\n",
              "      <th>municipio</th>\n",
              "      <th>evolucaoCaso</th>\n",
              "      <th>lotePrimeiraDose</th>\n",
              "      <th>loteSegundaDose</th>\n",
              "      <th>dataPrimeiraDose</th>\n",
              "      <th>dataSegundaDose</th>\n",
              "      <th>idade</th>\n",
              "    </tr>\n",
              "  </thead>\n",
              "  <tbody>\n",
              "    <tr>\n",
              "      <th>355499</th>\n",
              "      <td>Dor de Cabeça, Tosse, Dispneia, Coriza</td>\n",
              "      <td>Ignorado</td>\n",
              "      <td>Feminino</td>\n",
              "      <td>Ceará</td>\n",
              "      <td>Juazeiro do Norte</td>\n",
              "      <td>Ignorado</td>\n",
              "      <td>210384</td>\n",
              "      <td>210415</td>\n",
              "      <td>2021-09-04</td>\n",
              "      <td>2021-10-02</td>\n",
              "      <td>19.0</td>\n",
              "    </tr>\n",
              "    <tr>\n",
              "      <th>422852</th>\n",
              "      <td>Dor de Cabeça, Dor de Garganta, Coriza</td>\n",
              "      <td>Branca</td>\n",
              "      <td>Feminino</td>\n",
              "      <td>Ceará</td>\n",
              "      <td>Iguatu</td>\n",
              "      <td>NaN</td>\n",
              "      <td>28235BD</td>\n",
              "      <td>FH8023</td>\n",
              "      <td>2021-08-27</td>\n",
              "      <td>2021-11-08</td>\n",
              "      <td>22.0</td>\n",
              "    </tr>\n",
              "    <tr>\n",
              "      <th>406806</th>\n",
              "      <td>Assintomático</td>\n",
              "      <td>Parda</td>\n",
              "      <td>Masculino</td>\n",
              "      <td>Ceará</td>\n",
              "      <td>Icó</td>\n",
              "      <td>NaN</td>\n",
              "      <td>NaN</td>\n",
              "      <td>NaN</td>\n",
              "      <td>None</td>\n",
              "      <td>None</td>\n",
              "      <td>8.0</td>\n",
              "    </tr>\n",
              "    <tr>\n",
              "      <th>181057</th>\n",
              "      <td>Tosse</td>\n",
              "      <td>Branca</td>\n",
              "      <td>Masculino</td>\n",
              "      <td>Ceará</td>\n",
              "      <td>Fortaleza</td>\n",
              "      <td>NaN</td>\n",
              "      <td>210090</td>\n",
              "      <td>210210</td>\n",
              "      <td>2021-03-30</td>\n",
              "      <td>2021-05-28</td>\n",
              "      <td>NaN</td>\n",
              "    </tr>\n",
              "    <tr>\n",
              "      <th>46641</th>\n",
              "      <td>Coriza, Dor de Cabeça, Tosse, Dor de Garganta,...</td>\n",
              "      <td>Amarela</td>\n",
              "      <td>Masculino</td>\n",
              "      <td>Ceará</td>\n",
              "      <td>Fortaleza</td>\n",
              "      <td>NaN</td>\n",
              "      <td>EX2405</td>\n",
              "      <td>FA9096</td>\n",
              "      <td>2021-05-07</td>\n",
              "      <td>2021-07-23</td>\n",
              "      <td>NaN</td>\n",
              "    </tr>\n",
              "  </tbody>\n",
              "</table>\n",
              "</div>\n",
              "      <button class=\"colab-df-convert\" onclick=\"convertToInteractive('df-ad8dce73-1149-4ef6-8b42-e497ffa56071')\"\n",
              "              title=\"Convert this dataframe to an interactive table.\"\n",
              "              style=\"display:none;\">\n",
              "        \n",
              "  <svg xmlns=\"http://www.w3.org/2000/svg\" height=\"24px\"viewBox=\"0 0 24 24\"\n",
              "       width=\"24px\">\n",
              "    <path d=\"M0 0h24v24H0V0z\" fill=\"none\"/>\n",
              "    <path d=\"M18.56 5.44l.94 2.06.94-2.06 2.06-.94-2.06-.94-.94-2.06-.94 2.06-2.06.94zm-11 1L8.5 8.5l.94-2.06 2.06-.94-2.06-.94L8.5 2.5l-.94 2.06-2.06.94zm10 10l.94 2.06.94-2.06 2.06-.94-2.06-.94-.94-2.06-.94 2.06-2.06.94z\"/><path d=\"M17.41 7.96l-1.37-1.37c-.4-.4-.92-.59-1.43-.59-.52 0-1.04.2-1.43.59L10.3 9.45l-7.72 7.72c-.78.78-.78 2.05 0 2.83L4 21.41c.39.39.9.59 1.41.59.51 0 1.02-.2 1.41-.59l7.78-7.78 2.81-2.81c.8-.78.8-2.07 0-2.86zM5.41 20L4 18.59l7.72-7.72 1.47 1.35L5.41 20z\"/>\n",
              "  </svg>\n",
              "      </button>\n",
              "      \n",
              "  <style>\n",
              "    .colab-df-container {\n",
              "      display:flex;\n",
              "      flex-wrap:wrap;\n",
              "      gap: 12px;\n",
              "    }\n",
              "\n",
              "    .colab-df-convert {\n",
              "      background-color: #E8F0FE;\n",
              "      border: none;\n",
              "      border-radius: 50%;\n",
              "      cursor: pointer;\n",
              "      display: none;\n",
              "      fill: #1967D2;\n",
              "      height: 32px;\n",
              "      padding: 0 0 0 0;\n",
              "      width: 32px;\n",
              "    }\n",
              "\n",
              "    .colab-df-convert:hover {\n",
              "      background-color: #E2EBFA;\n",
              "      box-shadow: 0px 1px 2px rgba(60, 64, 67, 0.3), 0px 1px 3px 1px rgba(60, 64, 67, 0.15);\n",
              "      fill: #174EA6;\n",
              "    }\n",
              "\n",
              "    [theme=dark] .colab-df-convert {\n",
              "      background-color: #3B4455;\n",
              "      fill: #D2E3FC;\n",
              "    }\n",
              "\n",
              "    [theme=dark] .colab-df-convert:hover {\n",
              "      background-color: #434B5C;\n",
              "      box-shadow: 0px 1px 3px 1px rgba(0, 0, 0, 0.15);\n",
              "      filter: drop-shadow(0px 1px 2px rgba(0, 0, 0, 0.3));\n",
              "      fill: #FFFFFF;\n",
              "    }\n",
              "  </style>\n",
              "\n",
              "      <script>\n",
              "        const buttonEl =\n",
              "          document.querySelector('#df-ad8dce73-1149-4ef6-8b42-e497ffa56071 button.colab-df-convert');\n",
              "        buttonEl.style.display =\n",
              "          google.colab.kernel.accessAllowed ? 'block' : 'none';\n",
              "\n",
              "        async function convertToInteractive(key) {\n",
              "          const element = document.querySelector('#df-ad8dce73-1149-4ef6-8b42-e497ffa56071');\n",
              "          const dataTable =\n",
              "            await google.colab.kernel.invokeFunction('convertToInteractive',\n",
              "                                                     [key], {});\n",
              "          if (!dataTable) return;\n",
              "\n",
              "          const docLinkHtml = 'Like what you see? Visit the ' +\n",
              "            '<a target=\"_blank\" href=https://colab.research.google.com/notebooks/data_table.ipynb>data table notebook</a>'\n",
              "            + ' to learn more about interactive tables.';\n",
              "          element.innerHTML = '';\n",
              "          dataTable['output_type'] = 'display_data';\n",
              "          await google.colab.output.renderOutput(dataTable, element);\n",
              "          const docLink = document.createElement('div');\n",
              "          docLink.innerHTML = docLinkHtml;\n",
              "          element.appendChild(docLink);\n",
              "        }\n",
              "      </script>\n",
              "    </div>\n",
              "  </div>\n",
              "  "
            ]
          },
          "metadata": {},
          "execution_count": 10
        }
      ]
    },
    {
      "cell_type": "code",
      "source": [
        "df.shape"
      ],
      "metadata": {
        "colab": {
          "base_uri": "https://localhost:8080/"
        },
        "id": "YjD0Gcf8-byt",
        "outputId": "d6c48430-45b4-4ee6-f69f-7f0c63081092"
      },
      "execution_count": null,
      "outputs": [
        {
          "output_type": "execute_result",
          "data": {
            "text/plain": [
              "(543061, 11)"
            ]
          },
          "metadata": {},
          "execution_count": 11
        }
      ]
    },
    {
      "cell_type": "code",
      "source": [
        "#Verificando os dados nulos.\n",
        "df.isnull().sum()"
      ],
      "metadata": {
        "colab": {
          "base_uri": "https://localhost:8080/"
        },
        "id": "ldXf6jbt-dVV",
        "outputId": "758efc87-d518-4c2b-daf4-ee61d08c878a"
      },
      "execution_count": null,
      "outputs": [
        {
          "output_type": "execute_result",
          "data": {
            "text/plain": [
              "sintomas                 2\n",
              "racaCor                 97\n",
              "sexo                     0\n",
              "estado                   0\n",
              "municipio                1\n",
              "evolucaoCaso        269030\n",
              "lotePrimeiraDose    206609\n",
              "loteSegundaDose     235651\n",
              "dataPrimeiraDose         0\n",
              "dataSegundaDose          1\n",
              "idade               126648\n",
              "dtype: int64"
            ]
          },
          "metadata": {},
          "execution_count": 12
        }
      ]
    },
    {
      "cell_type": "markdown",
      "source": [
        "## Pre-processamento dos **dados**"
      ],
      "metadata": {
        "id": "Ag90ejTu_K-h"
      }
    },
    {
      "cell_type": "code",
      "source": [
        "#Removendo os dados nulos.\n",
        "df.dropna(subset=['sintomas'], inplace=True)"
      ],
      "metadata": {
        "id": "3-WxcGV8JC4O"
      },
      "execution_count": null,
      "outputs": []
    },
    {
      "cell_type": "code",
      "source": [
        "df.dropna(subset=['municipio'], inplace=True)"
      ],
      "metadata": {
        "id": "LkG2DdNCJqKn"
      },
      "execution_count": null,
      "outputs": []
    },
    {
      "cell_type": "code",
      "source": [
        "df.isnull().sum()"
      ],
      "metadata": {
        "colab": {
          "base_uri": "https://localhost:8080/"
        },
        "id": "YEF2UQDJJxgq",
        "outputId": "9db4ae18-44c8-45e5-d83a-ef004816e1d9"
      },
      "execution_count": null,
      "outputs": [
        {
          "output_type": "execute_result",
          "data": {
            "text/plain": [
              "sintomas                 0\n",
              "racaCor                 95\n",
              "sexo                     0\n",
              "estado                   0\n",
              "municipio                0\n",
              "evolucaoCaso        269029\n",
              "lotePrimeiraDose    206606\n",
              "loteSegundaDose     235648\n",
              "dataPrimeiraDose         0\n",
              "dataSegundaDose          1\n",
              "idade               126646\n",
              "dtype: int64"
            ]
          },
          "metadata": {},
          "execution_count": 15
        }
      ]
    },
    {
      "cell_type": "code",
      "source": [
        "#Filtrando os casos de Fortaleza-CE.\n",
        "df02 = df[df['municipio'] == 'Fortaleza']"
      ],
      "metadata": {
        "id": "1PMbrS9l_NRJ"
      },
      "execution_count": null,
      "outputs": []
    },
    {
      "cell_type": "code",
      "source": [
        "#Checagem dos ultimos valores do arquivo.\n",
        "df02.tail(10)"
      ],
      "metadata": {
        "colab": {
          "base_uri": "https://localhost:8080/",
          "height": 363
        },
        "id": "XvNT1ijyAytE",
        "outputId": "f68fdb6a-fa05-4c16-e724-6498842aa750"
      },
      "execution_count": null,
      "outputs": [
        {
          "output_type": "execute_result",
          "data": {
            "text/plain": [
              "                                                 sintomas   racaCor  \\\n",
              "543015                               Tosse, Febre, Coriza    Branca   \n",
              "543017                             Tosse, Dispneia, Febre     Parda   \n",
              "543024                                      Assintomático     Parda   \n",
              "543026                                      Assintomático     Parda   \n",
              "543027               Coriza, Tosse, Outros, Dor de Cabeça     Parda   \n",
              "543029  Distúrbios Gustativos, Dor de Cabeça, Tosse, D...     Parda   \n",
              "543030                                             Outros  Ignorado   \n",
              "543043                                      Assintomático    Branca   \n",
              "543049  Coriza, Distúrbios Olfativos, Distúrbios Gusta...     Parda   \n",
              "543050      Coriza, Dor de Cabeça, Febre, Dor de Garganta     Parda   \n",
              "\n",
              "             sexo estado  municipio evolucaoCaso lotePrimeiraDose  \\\n",
              "543015   Feminino  Ceará  Fortaleza          NaN           FD7209   \n",
              "543017   Feminino  Ceará  Fortaleza          NaN              NaN   \n",
              "543024   Feminino  Ceará  Fortaleza          NaN       214VCD064Z   \n",
              "543026  Masculino  Ceará  Fortaleza          NaN              NaN   \n",
              "543027  Masculino  Ceará  Fortaleza          NaN              NaN   \n",
              "543029   Feminino  Ceará  Fortaleza          NaN        202010034   \n",
              "543030  Masculino  Ceará  Fortaleza          NaN              NaN   \n",
              "543043  Masculino  Ceará  Fortaleza          NaN              NaN   \n",
              "543049   Feminino  Ceará  Fortaleza         Cura           EX2405   \n",
              "543050  Masculino  Ceará  Fortaleza          NaN              NaN   \n",
              "\n",
              "       loteSegundaDose dataPrimeiraDose dataSegundaDose  idade  \n",
              "543015         31045BD       2021-08-14      2021-10-13   22.0  \n",
              "543017             NaN             None            None    NaN  \n",
              "543024          210121       2021-05-29      2021-08-23   27.0  \n",
              "543026             NaN             None            None    0.0  \n",
              "543027             NaN             None            None    NaN  \n",
              "543029          210133       2021-02-05      2021-04-24   27.0  \n",
              "543030             NaN             None            None   16.0  \n",
              "543043          210121             None      2021-08-30   50.0  \n",
              "543049          FD7221       2021-05-17      2021-08-02   51.0  \n",
              "543050             NaN             None            None   32.0  "
            ],
            "text/html": [
              "\n",
              "  <div id=\"df-dee1a63f-a149-4fe6-8d30-dcc1443eda29\">\n",
              "    <div class=\"colab-df-container\">\n",
              "      <div>\n",
              "<style scoped>\n",
              "    .dataframe tbody tr th:only-of-type {\n",
              "        vertical-align: middle;\n",
              "    }\n",
              "\n",
              "    .dataframe tbody tr th {\n",
              "        vertical-align: top;\n",
              "    }\n",
              "\n",
              "    .dataframe thead th {\n",
              "        text-align: right;\n",
              "    }\n",
              "</style>\n",
              "<table border=\"1\" class=\"dataframe\">\n",
              "  <thead>\n",
              "    <tr style=\"text-align: right;\">\n",
              "      <th></th>\n",
              "      <th>sintomas</th>\n",
              "      <th>racaCor</th>\n",
              "      <th>sexo</th>\n",
              "      <th>estado</th>\n",
              "      <th>municipio</th>\n",
              "      <th>evolucaoCaso</th>\n",
              "      <th>lotePrimeiraDose</th>\n",
              "      <th>loteSegundaDose</th>\n",
              "      <th>dataPrimeiraDose</th>\n",
              "      <th>dataSegundaDose</th>\n",
              "      <th>idade</th>\n",
              "    </tr>\n",
              "  </thead>\n",
              "  <tbody>\n",
              "    <tr>\n",
              "      <th>543015</th>\n",
              "      <td>Tosse, Febre, Coriza</td>\n",
              "      <td>Branca</td>\n",
              "      <td>Feminino</td>\n",
              "      <td>Ceará</td>\n",
              "      <td>Fortaleza</td>\n",
              "      <td>NaN</td>\n",
              "      <td>FD7209</td>\n",
              "      <td>31045BD</td>\n",
              "      <td>2021-08-14</td>\n",
              "      <td>2021-10-13</td>\n",
              "      <td>22.0</td>\n",
              "    </tr>\n",
              "    <tr>\n",
              "      <th>543017</th>\n",
              "      <td>Tosse, Dispneia, Febre</td>\n",
              "      <td>Parda</td>\n",
              "      <td>Feminino</td>\n",
              "      <td>Ceará</td>\n",
              "      <td>Fortaleza</td>\n",
              "      <td>NaN</td>\n",
              "      <td>NaN</td>\n",
              "      <td>NaN</td>\n",
              "      <td>None</td>\n",
              "      <td>None</td>\n",
              "      <td>NaN</td>\n",
              "    </tr>\n",
              "    <tr>\n",
              "      <th>543024</th>\n",
              "      <td>Assintomático</td>\n",
              "      <td>Parda</td>\n",
              "      <td>Feminino</td>\n",
              "      <td>Ceará</td>\n",
              "      <td>Fortaleza</td>\n",
              "      <td>NaN</td>\n",
              "      <td>214VCD064Z</td>\n",
              "      <td>210121</td>\n",
              "      <td>2021-05-29</td>\n",
              "      <td>2021-08-23</td>\n",
              "      <td>27.0</td>\n",
              "    </tr>\n",
              "    <tr>\n",
              "      <th>543026</th>\n",
              "      <td>Assintomático</td>\n",
              "      <td>Parda</td>\n",
              "      <td>Masculino</td>\n",
              "      <td>Ceará</td>\n",
              "      <td>Fortaleza</td>\n",
              "      <td>NaN</td>\n",
              "      <td>NaN</td>\n",
              "      <td>NaN</td>\n",
              "      <td>None</td>\n",
              "      <td>None</td>\n",
              "      <td>0.0</td>\n",
              "    </tr>\n",
              "    <tr>\n",
              "      <th>543027</th>\n",
              "      <td>Coriza, Tosse, Outros, Dor de Cabeça</td>\n",
              "      <td>Parda</td>\n",
              "      <td>Masculino</td>\n",
              "      <td>Ceará</td>\n",
              "      <td>Fortaleza</td>\n",
              "      <td>NaN</td>\n",
              "      <td>NaN</td>\n",
              "      <td>NaN</td>\n",
              "      <td>None</td>\n",
              "      <td>None</td>\n",
              "      <td>NaN</td>\n",
              "    </tr>\n",
              "    <tr>\n",
              "      <th>543029</th>\n",
              "      <td>Distúrbios Gustativos, Dor de Cabeça, Tosse, D...</td>\n",
              "      <td>Parda</td>\n",
              "      <td>Feminino</td>\n",
              "      <td>Ceará</td>\n",
              "      <td>Fortaleza</td>\n",
              "      <td>NaN</td>\n",
              "      <td>202010034</td>\n",
              "      <td>210133</td>\n",
              "      <td>2021-02-05</td>\n",
              "      <td>2021-04-24</td>\n",
              "      <td>27.0</td>\n",
              "    </tr>\n",
              "    <tr>\n",
              "      <th>543030</th>\n",
              "      <td>Outros</td>\n",
              "      <td>Ignorado</td>\n",
              "      <td>Masculino</td>\n",
              "      <td>Ceará</td>\n",
              "      <td>Fortaleza</td>\n",
              "      <td>NaN</td>\n",
              "      <td>NaN</td>\n",
              "      <td>NaN</td>\n",
              "      <td>None</td>\n",
              "      <td>None</td>\n",
              "      <td>16.0</td>\n",
              "    </tr>\n",
              "    <tr>\n",
              "      <th>543043</th>\n",
              "      <td>Assintomático</td>\n",
              "      <td>Branca</td>\n",
              "      <td>Masculino</td>\n",
              "      <td>Ceará</td>\n",
              "      <td>Fortaleza</td>\n",
              "      <td>NaN</td>\n",
              "      <td>NaN</td>\n",
              "      <td>210121</td>\n",
              "      <td>None</td>\n",
              "      <td>2021-08-30</td>\n",
              "      <td>50.0</td>\n",
              "    </tr>\n",
              "    <tr>\n",
              "      <th>543049</th>\n",
              "      <td>Coriza, Distúrbios Olfativos, Distúrbios Gusta...</td>\n",
              "      <td>Parda</td>\n",
              "      <td>Feminino</td>\n",
              "      <td>Ceará</td>\n",
              "      <td>Fortaleza</td>\n",
              "      <td>Cura</td>\n",
              "      <td>EX2405</td>\n",
              "      <td>FD7221</td>\n",
              "      <td>2021-05-17</td>\n",
              "      <td>2021-08-02</td>\n",
              "      <td>51.0</td>\n",
              "    </tr>\n",
              "    <tr>\n",
              "      <th>543050</th>\n",
              "      <td>Coriza, Dor de Cabeça, Febre, Dor de Garganta</td>\n",
              "      <td>Parda</td>\n",
              "      <td>Masculino</td>\n",
              "      <td>Ceará</td>\n",
              "      <td>Fortaleza</td>\n",
              "      <td>NaN</td>\n",
              "      <td>NaN</td>\n",
              "      <td>NaN</td>\n",
              "      <td>None</td>\n",
              "      <td>None</td>\n",
              "      <td>32.0</td>\n",
              "    </tr>\n",
              "  </tbody>\n",
              "</table>\n",
              "</div>\n",
              "      <button class=\"colab-df-convert\" onclick=\"convertToInteractive('df-dee1a63f-a149-4fe6-8d30-dcc1443eda29')\"\n",
              "              title=\"Convert this dataframe to an interactive table.\"\n",
              "              style=\"display:none;\">\n",
              "        \n",
              "  <svg xmlns=\"http://www.w3.org/2000/svg\" height=\"24px\"viewBox=\"0 0 24 24\"\n",
              "       width=\"24px\">\n",
              "    <path d=\"M0 0h24v24H0V0z\" fill=\"none\"/>\n",
              "    <path d=\"M18.56 5.44l.94 2.06.94-2.06 2.06-.94-2.06-.94-.94-2.06-.94 2.06-2.06.94zm-11 1L8.5 8.5l.94-2.06 2.06-.94-2.06-.94L8.5 2.5l-.94 2.06-2.06.94zm10 10l.94 2.06.94-2.06 2.06-.94-2.06-.94-.94-2.06-.94 2.06-2.06.94z\"/><path d=\"M17.41 7.96l-1.37-1.37c-.4-.4-.92-.59-1.43-.59-.52 0-1.04.2-1.43.59L10.3 9.45l-7.72 7.72c-.78.78-.78 2.05 0 2.83L4 21.41c.39.39.9.59 1.41.59.51 0 1.02-.2 1.41-.59l7.78-7.78 2.81-2.81c.8-.78.8-2.07 0-2.86zM5.41 20L4 18.59l7.72-7.72 1.47 1.35L5.41 20z\"/>\n",
              "  </svg>\n",
              "      </button>\n",
              "      \n",
              "  <style>\n",
              "    .colab-df-container {\n",
              "      display:flex;\n",
              "      flex-wrap:wrap;\n",
              "      gap: 12px;\n",
              "    }\n",
              "\n",
              "    .colab-df-convert {\n",
              "      background-color: #E8F0FE;\n",
              "      border: none;\n",
              "      border-radius: 50%;\n",
              "      cursor: pointer;\n",
              "      display: none;\n",
              "      fill: #1967D2;\n",
              "      height: 32px;\n",
              "      padding: 0 0 0 0;\n",
              "      width: 32px;\n",
              "    }\n",
              "\n",
              "    .colab-df-convert:hover {\n",
              "      background-color: #E2EBFA;\n",
              "      box-shadow: 0px 1px 2px rgba(60, 64, 67, 0.3), 0px 1px 3px 1px rgba(60, 64, 67, 0.15);\n",
              "      fill: #174EA6;\n",
              "    }\n",
              "\n",
              "    [theme=dark] .colab-df-convert {\n",
              "      background-color: #3B4455;\n",
              "      fill: #D2E3FC;\n",
              "    }\n",
              "\n",
              "    [theme=dark] .colab-df-convert:hover {\n",
              "      background-color: #434B5C;\n",
              "      box-shadow: 0px 1px 3px 1px rgba(0, 0, 0, 0.15);\n",
              "      filter: drop-shadow(0px 1px 2px rgba(0, 0, 0, 0.3));\n",
              "      fill: #FFFFFF;\n",
              "    }\n",
              "  </style>\n",
              "\n",
              "      <script>\n",
              "        const buttonEl =\n",
              "          document.querySelector('#df-dee1a63f-a149-4fe6-8d30-dcc1443eda29 button.colab-df-convert');\n",
              "        buttonEl.style.display =\n",
              "          google.colab.kernel.accessAllowed ? 'block' : 'none';\n",
              "\n",
              "        async function convertToInteractive(key) {\n",
              "          const element = document.querySelector('#df-dee1a63f-a149-4fe6-8d30-dcc1443eda29');\n",
              "          const dataTable =\n",
              "            await google.colab.kernel.invokeFunction('convertToInteractive',\n",
              "                                                     [key], {});\n",
              "          if (!dataTable) return;\n",
              "\n",
              "          const docLinkHtml = 'Like what you see? Visit the ' +\n",
              "            '<a target=\"_blank\" href=https://colab.research.google.com/notebooks/data_table.ipynb>data table notebook</a>'\n",
              "            + ' to learn more about interactive tables.';\n",
              "          element.innerHTML = '';\n",
              "          dataTable['output_type'] = 'display_data';\n",
              "          await google.colab.output.renderOutput(dataTable, element);\n",
              "          const docLink = document.createElement('div');\n",
              "          docLink.innerHTML = docLinkHtml;\n",
              "          element.appendChild(docLink);\n",
              "        }\n",
              "      </script>\n",
              "    </div>\n",
              "  </div>\n",
              "  "
            ]
          },
          "metadata": {},
          "execution_count": 17
        }
      ]
    },
    {
      "cell_type": "code",
      "source": [
        "#Transformando os valores Assintomáticos de sintomas em 0 e o restante em 1.\n",
        "df02.loc[df02['sintomas'] == 'Assintomático', 'sintomas'] = 0\n",
        "df02.loc[df02['sintomas'] != 0, 'sintomas'] = 1"
      ],
      "metadata": {
        "id": "a_clX0t4A6zb"
      },
      "execution_count": null,
      "outputs": []
    },
    {
      "cell_type": "code",
      "source": [
        "df02.tail(10)"
      ],
      "metadata": {
        "colab": {
          "base_uri": "https://localhost:8080/",
          "height": 363
        },
        "id": "YN-s0EVG_tXr",
        "outputId": "0e3b143d-6caf-4229-9371-2fd95205eaef"
      },
      "execution_count": null,
      "outputs": [
        {
          "output_type": "execute_result",
          "data": {
            "text/plain": [
              "       sintomas   racaCor       sexo estado  municipio evolucaoCaso  \\\n",
              "543015        1    Branca   Feminino  Ceará  Fortaleza          NaN   \n",
              "543017        1     Parda   Feminino  Ceará  Fortaleza          NaN   \n",
              "543024        0     Parda   Feminino  Ceará  Fortaleza          NaN   \n",
              "543026        0     Parda  Masculino  Ceará  Fortaleza          NaN   \n",
              "543027        1     Parda  Masculino  Ceará  Fortaleza          NaN   \n",
              "543029        1     Parda   Feminino  Ceará  Fortaleza          NaN   \n",
              "543030        1  Ignorado  Masculino  Ceará  Fortaleza          NaN   \n",
              "543043        0    Branca  Masculino  Ceará  Fortaleza          NaN   \n",
              "543049        1     Parda   Feminino  Ceará  Fortaleza         Cura   \n",
              "543050        1     Parda  Masculino  Ceará  Fortaleza          NaN   \n",
              "\n",
              "       lotePrimeiraDose loteSegundaDose dataPrimeiraDose dataSegundaDose  \\\n",
              "543015           FD7209         31045BD       2021-08-14      2021-10-13   \n",
              "543017              NaN             NaN             None            None   \n",
              "543024       214VCD064Z          210121       2021-05-29      2021-08-23   \n",
              "543026              NaN             NaN             None            None   \n",
              "543027              NaN             NaN             None            None   \n",
              "543029        202010034          210133       2021-02-05      2021-04-24   \n",
              "543030              NaN             NaN             None            None   \n",
              "543043              NaN          210121             None      2021-08-30   \n",
              "543049           EX2405          FD7221       2021-05-17      2021-08-02   \n",
              "543050              NaN             NaN             None            None   \n",
              "\n",
              "        idade  \n",
              "543015   22.0  \n",
              "543017    NaN  \n",
              "543024   27.0  \n",
              "543026    0.0  \n",
              "543027    NaN  \n",
              "543029   27.0  \n",
              "543030   16.0  \n",
              "543043   50.0  \n",
              "543049   51.0  \n",
              "543050   32.0  "
            ],
            "text/html": [
              "\n",
              "  <div id=\"df-59557445-8aaa-4cd9-8513-547efbc20386\">\n",
              "    <div class=\"colab-df-container\">\n",
              "      <div>\n",
              "<style scoped>\n",
              "    .dataframe tbody tr th:only-of-type {\n",
              "        vertical-align: middle;\n",
              "    }\n",
              "\n",
              "    .dataframe tbody tr th {\n",
              "        vertical-align: top;\n",
              "    }\n",
              "\n",
              "    .dataframe thead th {\n",
              "        text-align: right;\n",
              "    }\n",
              "</style>\n",
              "<table border=\"1\" class=\"dataframe\">\n",
              "  <thead>\n",
              "    <tr style=\"text-align: right;\">\n",
              "      <th></th>\n",
              "      <th>sintomas</th>\n",
              "      <th>racaCor</th>\n",
              "      <th>sexo</th>\n",
              "      <th>estado</th>\n",
              "      <th>municipio</th>\n",
              "      <th>evolucaoCaso</th>\n",
              "      <th>lotePrimeiraDose</th>\n",
              "      <th>loteSegundaDose</th>\n",
              "      <th>dataPrimeiraDose</th>\n",
              "      <th>dataSegundaDose</th>\n",
              "      <th>idade</th>\n",
              "    </tr>\n",
              "  </thead>\n",
              "  <tbody>\n",
              "    <tr>\n",
              "      <th>543015</th>\n",
              "      <td>1</td>\n",
              "      <td>Branca</td>\n",
              "      <td>Feminino</td>\n",
              "      <td>Ceará</td>\n",
              "      <td>Fortaleza</td>\n",
              "      <td>NaN</td>\n",
              "      <td>FD7209</td>\n",
              "      <td>31045BD</td>\n",
              "      <td>2021-08-14</td>\n",
              "      <td>2021-10-13</td>\n",
              "      <td>22.0</td>\n",
              "    </tr>\n",
              "    <tr>\n",
              "      <th>543017</th>\n",
              "      <td>1</td>\n",
              "      <td>Parda</td>\n",
              "      <td>Feminino</td>\n",
              "      <td>Ceará</td>\n",
              "      <td>Fortaleza</td>\n",
              "      <td>NaN</td>\n",
              "      <td>NaN</td>\n",
              "      <td>NaN</td>\n",
              "      <td>None</td>\n",
              "      <td>None</td>\n",
              "      <td>NaN</td>\n",
              "    </tr>\n",
              "    <tr>\n",
              "      <th>543024</th>\n",
              "      <td>0</td>\n",
              "      <td>Parda</td>\n",
              "      <td>Feminino</td>\n",
              "      <td>Ceará</td>\n",
              "      <td>Fortaleza</td>\n",
              "      <td>NaN</td>\n",
              "      <td>214VCD064Z</td>\n",
              "      <td>210121</td>\n",
              "      <td>2021-05-29</td>\n",
              "      <td>2021-08-23</td>\n",
              "      <td>27.0</td>\n",
              "    </tr>\n",
              "    <tr>\n",
              "      <th>543026</th>\n",
              "      <td>0</td>\n",
              "      <td>Parda</td>\n",
              "      <td>Masculino</td>\n",
              "      <td>Ceará</td>\n",
              "      <td>Fortaleza</td>\n",
              "      <td>NaN</td>\n",
              "      <td>NaN</td>\n",
              "      <td>NaN</td>\n",
              "      <td>None</td>\n",
              "      <td>None</td>\n",
              "      <td>0.0</td>\n",
              "    </tr>\n",
              "    <tr>\n",
              "      <th>543027</th>\n",
              "      <td>1</td>\n",
              "      <td>Parda</td>\n",
              "      <td>Masculino</td>\n",
              "      <td>Ceará</td>\n",
              "      <td>Fortaleza</td>\n",
              "      <td>NaN</td>\n",
              "      <td>NaN</td>\n",
              "      <td>NaN</td>\n",
              "      <td>None</td>\n",
              "      <td>None</td>\n",
              "      <td>NaN</td>\n",
              "    </tr>\n",
              "    <tr>\n",
              "      <th>543029</th>\n",
              "      <td>1</td>\n",
              "      <td>Parda</td>\n",
              "      <td>Feminino</td>\n",
              "      <td>Ceará</td>\n",
              "      <td>Fortaleza</td>\n",
              "      <td>NaN</td>\n",
              "      <td>202010034</td>\n",
              "      <td>210133</td>\n",
              "      <td>2021-02-05</td>\n",
              "      <td>2021-04-24</td>\n",
              "      <td>27.0</td>\n",
              "    </tr>\n",
              "    <tr>\n",
              "      <th>543030</th>\n",
              "      <td>1</td>\n",
              "      <td>Ignorado</td>\n",
              "      <td>Masculino</td>\n",
              "      <td>Ceará</td>\n",
              "      <td>Fortaleza</td>\n",
              "      <td>NaN</td>\n",
              "      <td>NaN</td>\n",
              "      <td>NaN</td>\n",
              "      <td>None</td>\n",
              "      <td>None</td>\n",
              "      <td>16.0</td>\n",
              "    </tr>\n",
              "    <tr>\n",
              "      <th>543043</th>\n",
              "      <td>0</td>\n",
              "      <td>Branca</td>\n",
              "      <td>Masculino</td>\n",
              "      <td>Ceará</td>\n",
              "      <td>Fortaleza</td>\n",
              "      <td>NaN</td>\n",
              "      <td>NaN</td>\n",
              "      <td>210121</td>\n",
              "      <td>None</td>\n",
              "      <td>2021-08-30</td>\n",
              "      <td>50.0</td>\n",
              "    </tr>\n",
              "    <tr>\n",
              "      <th>543049</th>\n",
              "      <td>1</td>\n",
              "      <td>Parda</td>\n",
              "      <td>Feminino</td>\n",
              "      <td>Ceará</td>\n",
              "      <td>Fortaleza</td>\n",
              "      <td>Cura</td>\n",
              "      <td>EX2405</td>\n",
              "      <td>FD7221</td>\n",
              "      <td>2021-05-17</td>\n",
              "      <td>2021-08-02</td>\n",
              "      <td>51.0</td>\n",
              "    </tr>\n",
              "    <tr>\n",
              "      <th>543050</th>\n",
              "      <td>1</td>\n",
              "      <td>Parda</td>\n",
              "      <td>Masculino</td>\n",
              "      <td>Ceará</td>\n",
              "      <td>Fortaleza</td>\n",
              "      <td>NaN</td>\n",
              "      <td>NaN</td>\n",
              "      <td>NaN</td>\n",
              "      <td>None</td>\n",
              "      <td>None</td>\n",
              "      <td>32.0</td>\n",
              "    </tr>\n",
              "  </tbody>\n",
              "</table>\n",
              "</div>\n",
              "      <button class=\"colab-df-convert\" onclick=\"convertToInteractive('df-59557445-8aaa-4cd9-8513-547efbc20386')\"\n",
              "              title=\"Convert this dataframe to an interactive table.\"\n",
              "              style=\"display:none;\">\n",
              "        \n",
              "  <svg xmlns=\"http://www.w3.org/2000/svg\" height=\"24px\"viewBox=\"0 0 24 24\"\n",
              "       width=\"24px\">\n",
              "    <path d=\"M0 0h24v24H0V0z\" fill=\"none\"/>\n",
              "    <path d=\"M18.56 5.44l.94 2.06.94-2.06 2.06-.94-2.06-.94-.94-2.06-.94 2.06-2.06.94zm-11 1L8.5 8.5l.94-2.06 2.06-.94-2.06-.94L8.5 2.5l-.94 2.06-2.06.94zm10 10l.94 2.06.94-2.06 2.06-.94-2.06-.94-.94-2.06-.94 2.06-2.06.94z\"/><path d=\"M17.41 7.96l-1.37-1.37c-.4-.4-.92-.59-1.43-.59-.52 0-1.04.2-1.43.59L10.3 9.45l-7.72 7.72c-.78.78-.78 2.05 0 2.83L4 21.41c.39.39.9.59 1.41.59.51 0 1.02-.2 1.41-.59l7.78-7.78 2.81-2.81c.8-.78.8-2.07 0-2.86zM5.41 20L4 18.59l7.72-7.72 1.47 1.35L5.41 20z\"/>\n",
              "  </svg>\n",
              "      </button>\n",
              "      \n",
              "  <style>\n",
              "    .colab-df-container {\n",
              "      display:flex;\n",
              "      flex-wrap:wrap;\n",
              "      gap: 12px;\n",
              "    }\n",
              "\n",
              "    .colab-df-convert {\n",
              "      background-color: #E8F0FE;\n",
              "      border: none;\n",
              "      border-radius: 50%;\n",
              "      cursor: pointer;\n",
              "      display: none;\n",
              "      fill: #1967D2;\n",
              "      height: 32px;\n",
              "      padding: 0 0 0 0;\n",
              "      width: 32px;\n",
              "    }\n",
              "\n",
              "    .colab-df-convert:hover {\n",
              "      background-color: #E2EBFA;\n",
              "      box-shadow: 0px 1px 2px rgba(60, 64, 67, 0.3), 0px 1px 3px 1px rgba(60, 64, 67, 0.15);\n",
              "      fill: #174EA6;\n",
              "    }\n",
              "\n",
              "    [theme=dark] .colab-df-convert {\n",
              "      background-color: #3B4455;\n",
              "      fill: #D2E3FC;\n",
              "    }\n",
              "\n",
              "    [theme=dark] .colab-df-convert:hover {\n",
              "      background-color: #434B5C;\n",
              "      box-shadow: 0px 1px 3px 1px rgba(0, 0, 0, 0.15);\n",
              "      filter: drop-shadow(0px 1px 2px rgba(0, 0, 0, 0.3));\n",
              "      fill: #FFFFFF;\n",
              "    }\n",
              "  </style>\n",
              "\n",
              "      <script>\n",
              "        const buttonEl =\n",
              "          document.querySelector('#df-59557445-8aaa-4cd9-8513-547efbc20386 button.colab-df-convert');\n",
              "        buttonEl.style.display =\n",
              "          google.colab.kernel.accessAllowed ? 'block' : 'none';\n",
              "\n",
              "        async function convertToInteractive(key) {\n",
              "          const element = document.querySelector('#df-59557445-8aaa-4cd9-8513-547efbc20386');\n",
              "          const dataTable =\n",
              "            await google.colab.kernel.invokeFunction('convertToInteractive',\n",
              "                                                     [key], {});\n",
              "          if (!dataTable) return;\n",
              "\n",
              "          const docLinkHtml = 'Like what you see? Visit the ' +\n",
              "            '<a target=\"_blank\" href=https://colab.research.google.com/notebooks/data_table.ipynb>data table notebook</a>'\n",
              "            + ' to learn more about interactive tables.';\n",
              "          element.innerHTML = '';\n",
              "          dataTable['output_type'] = 'display_data';\n",
              "          await google.colab.output.renderOutput(dataTable, element);\n",
              "          const docLink = document.createElement('div');\n",
              "          docLink.innerHTML = docLinkHtml;\n",
              "          element.appendChild(docLink);\n",
              "        }\n",
              "      </script>\n",
              "    </div>\n",
              "  </div>\n",
              "  "
            ]
          },
          "metadata": {},
          "execution_count": 19
        }
      ]
    },
    {
      "cell_type": "code",
      "source": [
        "#Modificando os dados da coluna Sexo, 1 para masculino e 0 para feminino.\n",
        "df02['sexo'] = df['sexo'].map({'Masculino': 1, 'Feminino': 0})"
      ],
      "metadata": {
        "colab": {
          "base_uri": "https://localhost:8080/"
        },
        "id": "AmdyvvjIKnBA",
        "outputId": "5062d6e0-72ad-4c76-c7ef-24d35da105cd"
      },
      "execution_count": null,
      "outputs": [
        {
          "output_type": "stream",
          "name": "stderr",
          "text": [
            "<ipython-input-20-ba984f0fedcd>:2: SettingWithCopyWarning: \n",
            "A value is trying to be set on a copy of a slice from a DataFrame.\n",
            "Try using .loc[row_indexer,col_indexer] = value instead\n",
            "\n",
            "See the caveats in the documentation: https://pandas.pydata.org/pandas-docs/stable/user_guide/indexing.html#returning-a-view-versus-a-copy\n",
            "  df02['sexo'] = df['sexo'].map({'Masculino': 1, 'Feminino': 0})\n"
          ]
        }
      ]
    },
    {
      "cell_type": "code",
      "source": [
        "df02.tail(10)"
      ],
      "metadata": {
        "colab": {
          "base_uri": "https://localhost:8080/",
          "height": 363
        },
        "id": "B66NzEzJKw4u",
        "outputId": "65d07816-6c59-4ecc-8ba2-45b6c1506c3b"
      },
      "execution_count": null,
      "outputs": [
        {
          "output_type": "execute_result",
          "data": {
            "text/plain": [
              "       sintomas   racaCor  sexo estado  municipio evolucaoCaso  \\\n",
              "543015        1    Branca   0.0  Ceará  Fortaleza          NaN   \n",
              "543017        1     Parda   0.0  Ceará  Fortaleza          NaN   \n",
              "543024        0     Parda   0.0  Ceará  Fortaleza          NaN   \n",
              "543026        0     Parda   1.0  Ceará  Fortaleza          NaN   \n",
              "543027        1     Parda   1.0  Ceará  Fortaleza          NaN   \n",
              "543029        1     Parda   0.0  Ceará  Fortaleza          NaN   \n",
              "543030        1  Ignorado   1.0  Ceará  Fortaleza          NaN   \n",
              "543043        0    Branca   1.0  Ceará  Fortaleza          NaN   \n",
              "543049        1     Parda   0.0  Ceará  Fortaleza         Cura   \n",
              "543050        1     Parda   1.0  Ceará  Fortaleza          NaN   \n",
              "\n",
              "       lotePrimeiraDose loteSegundaDose dataPrimeiraDose dataSegundaDose  \\\n",
              "543015           FD7209         31045BD       2021-08-14      2021-10-13   \n",
              "543017              NaN             NaN             None            None   \n",
              "543024       214VCD064Z          210121       2021-05-29      2021-08-23   \n",
              "543026              NaN             NaN             None            None   \n",
              "543027              NaN             NaN             None            None   \n",
              "543029        202010034          210133       2021-02-05      2021-04-24   \n",
              "543030              NaN             NaN             None            None   \n",
              "543043              NaN          210121             None      2021-08-30   \n",
              "543049           EX2405          FD7221       2021-05-17      2021-08-02   \n",
              "543050              NaN             NaN             None            None   \n",
              "\n",
              "        idade  \n",
              "543015   22.0  \n",
              "543017    NaN  \n",
              "543024   27.0  \n",
              "543026    0.0  \n",
              "543027    NaN  \n",
              "543029   27.0  \n",
              "543030   16.0  \n",
              "543043   50.0  \n",
              "543049   51.0  \n",
              "543050   32.0  "
            ],
            "text/html": [
              "\n",
              "  <div id=\"df-a66009ac-ab7f-4ced-8bc3-985a780f05ef\">\n",
              "    <div class=\"colab-df-container\">\n",
              "      <div>\n",
              "<style scoped>\n",
              "    .dataframe tbody tr th:only-of-type {\n",
              "        vertical-align: middle;\n",
              "    }\n",
              "\n",
              "    .dataframe tbody tr th {\n",
              "        vertical-align: top;\n",
              "    }\n",
              "\n",
              "    .dataframe thead th {\n",
              "        text-align: right;\n",
              "    }\n",
              "</style>\n",
              "<table border=\"1\" class=\"dataframe\">\n",
              "  <thead>\n",
              "    <tr style=\"text-align: right;\">\n",
              "      <th></th>\n",
              "      <th>sintomas</th>\n",
              "      <th>racaCor</th>\n",
              "      <th>sexo</th>\n",
              "      <th>estado</th>\n",
              "      <th>municipio</th>\n",
              "      <th>evolucaoCaso</th>\n",
              "      <th>lotePrimeiraDose</th>\n",
              "      <th>loteSegundaDose</th>\n",
              "      <th>dataPrimeiraDose</th>\n",
              "      <th>dataSegundaDose</th>\n",
              "      <th>idade</th>\n",
              "    </tr>\n",
              "  </thead>\n",
              "  <tbody>\n",
              "    <tr>\n",
              "      <th>543015</th>\n",
              "      <td>1</td>\n",
              "      <td>Branca</td>\n",
              "      <td>0.0</td>\n",
              "      <td>Ceará</td>\n",
              "      <td>Fortaleza</td>\n",
              "      <td>NaN</td>\n",
              "      <td>FD7209</td>\n",
              "      <td>31045BD</td>\n",
              "      <td>2021-08-14</td>\n",
              "      <td>2021-10-13</td>\n",
              "      <td>22.0</td>\n",
              "    </tr>\n",
              "    <tr>\n",
              "      <th>543017</th>\n",
              "      <td>1</td>\n",
              "      <td>Parda</td>\n",
              "      <td>0.0</td>\n",
              "      <td>Ceará</td>\n",
              "      <td>Fortaleza</td>\n",
              "      <td>NaN</td>\n",
              "      <td>NaN</td>\n",
              "      <td>NaN</td>\n",
              "      <td>None</td>\n",
              "      <td>None</td>\n",
              "      <td>NaN</td>\n",
              "    </tr>\n",
              "    <tr>\n",
              "      <th>543024</th>\n",
              "      <td>0</td>\n",
              "      <td>Parda</td>\n",
              "      <td>0.0</td>\n",
              "      <td>Ceará</td>\n",
              "      <td>Fortaleza</td>\n",
              "      <td>NaN</td>\n",
              "      <td>214VCD064Z</td>\n",
              "      <td>210121</td>\n",
              "      <td>2021-05-29</td>\n",
              "      <td>2021-08-23</td>\n",
              "      <td>27.0</td>\n",
              "    </tr>\n",
              "    <tr>\n",
              "      <th>543026</th>\n",
              "      <td>0</td>\n",
              "      <td>Parda</td>\n",
              "      <td>1.0</td>\n",
              "      <td>Ceará</td>\n",
              "      <td>Fortaleza</td>\n",
              "      <td>NaN</td>\n",
              "      <td>NaN</td>\n",
              "      <td>NaN</td>\n",
              "      <td>None</td>\n",
              "      <td>None</td>\n",
              "      <td>0.0</td>\n",
              "    </tr>\n",
              "    <tr>\n",
              "      <th>543027</th>\n",
              "      <td>1</td>\n",
              "      <td>Parda</td>\n",
              "      <td>1.0</td>\n",
              "      <td>Ceará</td>\n",
              "      <td>Fortaleza</td>\n",
              "      <td>NaN</td>\n",
              "      <td>NaN</td>\n",
              "      <td>NaN</td>\n",
              "      <td>None</td>\n",
              "      <td>None</td>\n",
              "      <td>NaN</td>\n",
              "    </tr>\n",
              "    <tr>\n",
              "      <th>543029</th>\n",
              "      <td>1</td>\n",
              "      <td>Parda</td>\n",
              "      <td>0.0</td>\n",
              "      <td>Ceará</td>\n",
              "      <td>Fortaleza</td>\n",
              "      <td>NaN</td>\n",
              "      <td>202010034</td>\n",
              "      <td>210133</td>\n",
              "      <td>2021-02-05</td>\n",
              "      <td>2021-04-24</td>\n",
              "      <td>27.0</td>\n",
              "    </tr>\n",
              "    <tr>\n",
              "      <th>543030</th>\n",
              "      <td>1</td>\n",
              "      <td>Ignorado</td>\n",
              "      <td>1.0</td>\n",
              "      <td>Ceará</td>\n",
              "      <td>Fortaleza</td>\n",
              "      <td>NaN</td>\n",
              "      <td>NaN</td>\n",
              "      <td>NaN</td>\n",
              "      <td>None</td>\n",
              "      <td>None</td>\n",
              "      <td>16.0</td>\n",
              "    </tr>\n",
              "    <tr>\n",
              "      <th>543043</th>\n",
              "      <td>0</td>\n",
              "      <td>Branca</td>\n",
              "      <td>1.0</td>\n",
              "      <td>Ceará</td>\n",
              "      <td>Fortaleza</td>\n",
              "      <td>NaN</td>\n",
              "      <td>NaN</td>\n",
              "      <td>210121</td>\n",
              "      <td>None</td>\n",
              "      <td>2021-08-30</td>\n",
              "      <td>50.0</td>\n",
              "    </tr>\n",
              "    <tr>\n",
              "      <th>543049</th>\n",
              "      <td>1</td>\n",
              "      <td>Parda</td>\n",
              "      <td>0.0</td>\n",
              "      <td>Ceará</td>\n",
              "      <td>Fortaleza</td>\n",
              "      <td>Cura</td>\n",
              "      <td>EX2405</td>\n",
              "      <td>FD7221</td>\n",
              "      <td>2021-05-17</td>\n",
              "      <td>2021-08-02</td>\n",
              "      <td>51.0</td>\n",
              "    </tr>\n",
              "    <tr>\n",
              "      <th>543050</th>\n",
              "      <td>1</td>\n",
              "      <td>Parda</td>\n",
              "      <td>1.0</td>\n",
              "      <td>Ceará</td>\n",
              "      <td>Fortaleza</td>\n",
              "      <td>NaN</td>\n",
              "      <td>NaN</td>\n",
              "      <td>NaN</td>\n",
              "      <td>None</td>\n",
              "      <td>None</td>\n",
              "      <td>32.0</td>\n",
              "    </tr>\n",
              "  </tbody>\n",
              "</table>\n",
              "</div>\n",
              "      <button class=\"colab-df-convert\" onclick=\"convertToInteractive('df-a66009ac-ab7f-4ced-8bc3-985a780f05ef')\"\n",
              "              title=\"Convert this dataframe to an interactive table.\"\n",
              "              style=\"display:none;\">\n",
              "        \n",
              "  <svg xmlns=\"http://www.w3.org/2000/svg\" height=\"24px\"viewBox=\"0 0 24 24\"\n",
              "       width=\"24px\">\n",
              "    <path d=\"M0 0h24v24H0V0z\" fill=\"none\"/>\n",
              "    <path d=\"M18.56 5.44l.94 2.06.94-2.06 2.06-.94-2.06-.94-.94-2.06-.94 2.06-2.06.94zm-11 1L8.5 8.5l.94-2.06 2.06-.94-2.06-.94L8.5 2.5l-.94 2.06-2.06.94zm10 10l.94 2.06.94-2.06 2.06-.94-2.06-.94-.94-2.06-.94 2.06-2.06.94z\"/><path d=\"M17.41 7.96l-1.37-1.37c-.4-.4-.92-.59-1.43-.59-.52 0-1.04.2-1.43.59L10.3 9.45l-7.72 7.72c-.78.78-.78 2.05 0 2.83L4 21.41c.39.39.9.59 1.41.59.51 0 1.02-.2 1.41-.59l7.78-7.78 2.81-2.81c.8-.78.8-2.07 0-2.86zM5.41 20L4 18.59l7.72-7.72 1.47 1.35L5.41 20z\"/>\n",
              "  </svg>\n",
              "      </button>\n",
              "      \n",
              "  <style>\n",
              "    .colab-df-container {\n",
              "      display:flex;\n",
              "      flex-wrap:wrap;\n",
              "      gap: 12px;\n",
              "    }\n",
              "\n",
              "    .colab-df-convert {\n",
              "      background-color: #E8F0FE;\n",
              "      border: none;\n",
              "      border-radius: 50%;\n",
              "      cursor: pointer;\n",
              "      display: none;\n",
              "      fill: #1967D2;\n",
              "      height: 32px;\n",
              "      padding: 0 0 0 0;\n",
              "      width: 32px;\n",
              "    }\n",
              "\n",
              "    .colab-df-convert:hover {\n",
              "      background-color: #E2EBFA;\n",
              "      box-shadow: 0px 1px 2px rgba(60, 64, 67, 0.3), 0px 1px 3px 1px rgba(60, 64, 67, 0.15);\n",
              "      fill: #174EA6;\n",
              "    }\n",
              "\n",
              "    [theme=dark] .colab-df-convert {\n",
              "      background-color: #3B4455;\n",
              "      fill: #D2E3FC;\n",
              "    }\n",
              "\n",
              "    [theme=dark] .colab-df-convert:hover {\n",
              "      background-color: #434B5C;\n",
              "      box-shadow: 0px 1px 3px 1px rgba(0, 0, 0, 0.15);\n",
              "      filter: drop-shadow(0px 1px 2px rgba(0, 0, 0, 0.3));\n",
              "      fill: #FFFFFF;\n",
              "    }\n",
              "  </style>\n",
              "\n",
              "      <script>\n",
              "        const buttonEl =\n",
              "          document.querySelector('#df-a66009ac-ab7f-4ced-8bc3-985a780f05ef button.colab-df-convert');\n",
              "        buttonEl.style.display =\n",
              "          google.colab.kernel.accessAllowed ? 'block' : 'none';\n",
              "\n",
              "        async function convertToInteractive(key) {\n",
              "          const element = document.querySelector('#df-a66009ac-ab7f-4ced-8bc3-985a780f05ef');\n",
              "          const dataTable =\n",
              "            await google.colab.kernel.invokeFunction('convertToInteractive',\n",
              "                                                     [key], {});\n",
              "          if (!dataTable) return;\n",
              "\n",
              "          const docLinkHtml = 'Like what you see? Visit the ' +\n",
              "            '<a target=\"_blank\" href=https://colab.research.google.com/notebooks/data_table.ipynb>data table notebook</a>'\n",
              "            + ' to learn more about interactive tables.';\n",
              "          element.innerHTML = '';\n",
              "          dataTable['output_type'] = 'display_data';\n",
              "          await google.colab.output.renderOutput(dataTable, element);\n",
              "          const docLink = document.createElement('div');\n",
              "          docLink.innerHTML = docLinkHtml;\n",
              "          element.appendChild(docLink);\n",
              "        }\n",
              "      </script>\n",
              "    </div>\n",
              "  </div>\n",
              "  "
            ]
          },
          "metadata": {},
          "execution_count": 21
        }
      ]
    },
    {
      "cell_type": "code",
      "source": [
        "#Checagem dos valores que existem na coluna evolucaoCaso\n",
        "valores = df02['evolucaoCaso'].value_counts()\n",
        "print(valores)"
      ],
      "metadata": {
        "colab": {
          "base_uri": "https://localhost:8080/"
        },
        "id": "fWtO-ZKCLhl2",
        "outputId": "756b96f0-adb8-4b69-ae7d-9643e02ff97c"
      },
      "execution_count": null,
      "outputs": [
        {
          "output_type": "stream",
          "name": "stdout",
          "text": [
            "Cura                        6742\n",
            "Cancelado                    764\n",
            "Em tratamento domiciliar     593\n",
            "Ignorado                     585\n",
            "Internado                    232\n",
            "Óbito                        124\n",
            "Internado em UTI               2\n",
            "Name: evolucaoCaso, dtype: int64\n"
          ]
        }
      ]
    },
    {
      "cell_type": "code",
      "source": [
        "#Transformando todos os casos de cura em 1 e os demais em 0.\n",
        "df02.loc[df02['evolucaoCaso'] == 'Cura', 'evolucaoCaso'] = 1\n",
        "df02.loc[df02['evolucaoCaso'] != 1, 'evolucaoCaso'] = 0"
      ],
      "metadata": {
        "id": "I5FuJ9lHMN6b"
      },
      "execution_count": null,
      "outputs": []
    },
    {
      "cell_type": "code",
      "source": [
        "df02.tail(10)"
      ],
      "metadata": {
        "colab": {
          "base_uri": "https://localhost:8080/",
          "height": 363
        },
        "id": "oAvMWIYMMS2X",
        "outputId": "f745b4e1-a107-4722-e944-ae583782bf82"
      },
      "execution_count": null,
      "outputs": [
        {
          "output_type": "execute_result",
          "data": {
            "text/plain": [
              "       sintomas   racaCor  sexo estado  municipio evolucaoCaso  \\\n",
              "543015        1    Branca   0.0  Ceará  Fortaleza            0   \n",
              "543017        1     Parda   0.0  Ceará  Fortaleza            0   \n",
              "543024        0     Parda   0.0  Ceará  Fortaleza            0   \n",
              "543026        0     Parda   1.0  Ceará  Fortaleza            0   \n",
              "543027        1     Parda   1.0  Ceará  Fortaleza            0   \n",
              "543029        1     Parda   0.0  Ceará  Fortaleza            0   \n",
              "543030        1  Ignorado   1.0  Ceará  Fortaleza            0   \n",
              "543043        0    Branca   1.0  Ceará  Fortaleza            0   \n",
              "543049        1     Parda   0.0  Ceará  Fortaleza            1   \n",
              "543050        1     Parda   1.0  Ceará  Fortaleza            0   \n",
              "\n",
              "       lotePrimeiraDose loteSegundaDose dataPrimeiraDose dataSegundaDose  \\\n",
              "543015           FD7209         31045BD       2021-08-14      2021-10-13   \n",
              "543017              NaN             NaN             None            None   \n",
              "543024       214VCD064Z          210121       2021-05-29      2021-08-23   \n",
              "543026              NaN             NaN             None            None   \n",
              "543027              NaN             NaN             None            None   \n",
              "543029        202010034          210133       2021-02-05      2021-04-24   \n",
              "543030              NaN             NaN             None            None   \n",
              "543043              NaN          210121             None      2021-08-30   \n",
              "543049           EX2405          FD7221       2021-05-17      2021-08-02   \n",
              "543050              NaN             NaN             None            None   \n",
              "\n",
              "        idade  \n",
              "543015   22.0  \n",
              "543017    NaN  \n",
              "543024   27.0  \n",
              "543026    0.0  \n",
              "543027    NaN  \n",
              "543029   27.0  \n",
              "543030   16.0  \n",
              "543043   50.0  \n",
              "543049   51.0  \n",
              "543050   32.0  "
            ],
            "text/html": [
              "\n",
              "  <div id=\"df-91d8f95c-56fc-461b-b497-e6f43ff2b9f9\">\n",
              "    <div class=\"colab-df-container\">\n",
              "      <div>\n",
              "<style scoped>\n",
              "    .dataframe tbody tr th:only-of-type {\n",
              "        vertical-align: middle;\n",
              "    }\n",
              "\n",
              "    .dataframe tbody tr th {\n",
              "        vertical-align: top;\n",
              "    }\n",
              "\n",
              "    .dataframe thead th {\n",
              "        text-align: right;\n",
              "    }\n",
              "</style>\n",
              "<table border=\"1\" class=\"dataframe\">\n",
              "  <thead>\n",
              "    <tr style=\"text-align: right;\">\n",
              "      <th></th>\n",
              "      <th>sintomas</th>\n",
              "      <th>racaCor</th>\n",
              "      <th>sexo</th>\n",
              "      <th>estado</th>\n",
              "      <th>municipio</th>\n",
              "      <th>evolucaoCaso</th>\n",
              "      <th>lotePrimeiraDose</th>\n",
              "      <th>loteSegundaDose</th>\n",
              "      <th>dataPrimeiraDose</th>\n",
              "      <th>dataSegundaDose</th>\n",
              "      <th>idade</th>\n",
              "    </tr>\n",
              "  </thead>\n",
              "  <tbody>\n",
              "    <tr>\n",
              "      <th>543015</th>\n",
              "      <td>1</td>\n",
              "      <td>Branca</td>\n",
              "      <td>0.0</td>\n",
              "      <td>Ceará</td>\n",
              "      <td>Fortaleza</td>\n",
              "      <td>0</td>\n",
              "      <td>FD7209</td>\n",
              "      <td>31045BD</td>\n",
              "      <td>2021-08-14</td>\n",
              "      <td>2021-10-13</td>\n",
              "      <td>22.0</td>\n",
              "    </tr>\n",
              "    <tr>\n",
              "      <th>543017</th>\n",
              "      <td>1</td>\n",
              "      <td>Parda</td>\n",
              "      <td>0.0</td>\n",
              "      <td>Ceará</td>\n",
              "      <td>Fortaleza</td>\n",
              "      <td>0</td>\n",
              "      <td>NaN</td>\n",
              "      <td>NaN</td>\n",
              "      <td>None</td>\n",
              "      <td>None</td>\n",
              "      <td>NaN</td>\n",
              "    </tr>\n",
              "    <tr>\n",
              "      <th>543024</th>\n",
              "      <td>0</td>\n",
              "      <td>Parda</td>\n",
              "      <td>0.0</td>\n",
              "      <td>Ceará</td>\n",
              "      <td>Fortaleza</td>\n",
              "      <td>0</td>\n",
              "      <td>214VCD064Z</td>\n",
              "      <td>210121</td>\n",
              "      <td>2021-05-29</td>\n",
              "      <td>2021-08-23</td>\n",
              "      <td>27.0</td>\n",
              "    </tr>\n",
              "    <tr>\n",
              "      <th>543026</th>\n",
              "      <td>0</td>\n",
              "      <td>Parda</td>\n",
              "      <td>1.0</td>\n",
              "      <td>Ceará</td>\n",
              "      <td>Fortaleza</td>\n",
              "      <td>0</td>\n",
              "      <td>NaN</td>\n",
              "      <td>NaN</td>\n",
              "      <td>None</td>\n",
              "      <td>None</td>\n",
              "      <td>0.0</td>\n",
              "    </tr>\n",
              "    <tr>\n",
              "      <th>543027</th>\n",
              "      <td>1</td>\n",
              "      <td>Parda</td>\n",
              "      <td>1.0</td>\n",
              "      <td>Ceará</td>\n",
              "      <td>Fortaleza</td>\n",
              "      <td>0</td>\n",
              "      <td>NaN</td>\n",
              "      <td>NaN</td>\n",
              "      <td>None</td>\n",
              "      <td>None</td>\n",
              "      <td>NaN</td>\n",
              "    </tr>\n",
              "    <tr>\n",
              "      <th>543029</th>\n",
              "      <td>1</td>\n",
              "      <td>Parda</td>\n",
              "      <td>0.0</td>\n",
              "      <td>Ceará</td>\n",
              "      <td>Fortaleza</td>\n",
              "      <td>0</td>\n",
              "      <td>202010034</td>\n",
              "      <td>210133</td>\n",
              "      <td>2021-02-05</td>\n",
              "      <td>2021-04-24</td>\n",
              "      <td>27.0</td>\n",
              "    </tr>\n",
              "    <tr>\n",
              "      <th>543030</th>\n",
              "      <td>1</td>\n",
              "      <td>Ignorado</td>\n",
              "      <td>1.0</td>\n",
              "      <td>Ceará</td>\n",
              "      <td>Fortaleza</td>\n",
              "      <td>0</td>\n",
              "      <td>NaN</td>\n",
              "      <td>NaN</td>\n",
              "      <td>None</td>\n",
              "      <td>None</td>\n",
              "      <td>16.0</td>\n",
              "    </tr>\n",
              "    <tr>\n",
              "      <th>543043</th>\n",
              "      <td>0</td>\n",
              "      <td>Branca</td>\n",
              "      <td>1.0</td>\n",
              "      <td>Ceará</td>\n",
              "      <td>Fortaleza</td>\n",
              "      <td>0</td>\n",
              "      <td>NaN</td>\n",
              "      <td>210121</td>\n",
              "      <td>None</td>\n",
              "      <td>2021-08-30</td>\n",
              "      <td>50.0</td>\n",
              "    </tr>\n",
              "    <tr>\n",
              "      <th>543049</th>\n",
              "      <td>1</td>\n",
              "      <td>Parda</td>\n",
              "      <td>0.0</td>\n",
              "      <td>Ceará</td>\n",
              "      <td>Fortaleza</td>\n",
              "      <td>1</td>\n",
              "      <td>EX2405</td>\n",
              "      <td>FD7221</td>\n",
              "      <td>2021-05-17</td>\n",
              "      <td>2021-08-02</td>\n",
              "      <td>51.0</td>\n",
              "    </tr>\n",
              "    <tr>\n",
              "      <th>543050</th>\n",
              "      <td>1</td>\n",
              "      <td>Parda</td>\n",
              "      <td>1.0</td>\n",
              "      <td>Ceará</td>\n",
              "      <td>Fortaleza</td>\n",
              "      <td>0</td>\n",
              "      <td>NaN</td>\n",
              "      <td>NaN</td>\n",
              "      <td>None</td>\n",
              "      <td>None</td>\n",
              "      <td>32.0</td>\n",
              "    </tr>\n",
              "  </tbody>\n",
              "</table>\n",
              "</div>\n",
              "      <button class=\"colab-df-convert\" onclick=\"convertToInteractive('df-91d8f95c-56fc-461b-b497-e6f43ff2b9f9')\"\n",
              "              title=\"Convert this dataframe to an interactive table.\"\n",
              "              style=\"display:none;\">\n",
              "        \n",
              "  <svg xmlns=\"http://www.w3.org/2000/svg\" height=\"24px\"viewBox=\"0 0 24 24\"\n",
              "       width=\"24px\">\n",
              "    <path d=\"M0 0h24v24H0V0z\" fill=\"none\"/>\n",
              "    <path d=\"M18.56 5.44l.94 2.06.94-2.06 2.06-.94-2.06-.94-.94-2.06-.94 2.06-2.06.94zm-11 1L8.5 8.5l.94-2.06 2.06-.94-2.06-.94L8.5 2.5l-.94 2.06-2.06.94zm10 10l.94 2.06.94-2.06 2.06-.94-2.06-.94-.94-2.06-.94 2.06-2.06.94z\"/><path d=\"M17.41 7.96l-1.37-1.37c-.4-.4-.92-.59-1.43-.59-.52 0-1.04.2-1.43.59L10.3 9.45l-7.72 7.72c-.78.78-.78 2.05 0 2.83L4 21.41c.39.39.9.59 1.41.59.51 0 1.02-.2 1.41-.59l7.78-7.78 2.81-2.81c.8-.78.8-2.07 0-2.86zM5.41 20L4 18.59l7.72-7.72 1.47 1.35L5.41 20z\"/>\n",
              "  </svg>\n",
              "      </button>\n",
              "      \n",
              "  <style>\n",
              "    .colab-df-container {\n",
              "      display:flex;\n",
              "      flex-wrap:wrap;\n",
              "      gap: 12px;\n",
              "    }\n",
              "\n",
              "    .colab-df-convert {\n",
              "      background-color: #E8F0FE;\n",
              "      border: none;\n",
              "      border-radius: 50%;\n",
              "      cursor: pointer;\n",
              "      display: none;\n",
              "      fill: #1967D2;\n",
              "      height: 32px;\n",
              "      padding: 0 0 0 0;\n",
              "      width: 32px;\n",
              "    }\n",
              "\n",
              "    .colab-df-convert:hover {\n",
              "      background-color: #E2EBFA;\n",
              "      box-shadow: 0px 1px 2px rgba(60, 64, 67, 0.3), 0px 1px 3px 1px rgba(60, 64, 67, 0.15);\n",
              "      fill: #174EA6;\n",
              "    }\n",
              "\n",
              "    [theme=dark] .colab-df-convert {\n",
              "      background-color: #3B4455;\n",
              "      fill: #D2E3FC;\n",
              "    }\n",
              "\n",
              "    [theme=dark] .colab-df-convert:hover {\n",
              "      background-color: #434B5C;\n",
              "      box-shadow: 0px 1px 3px 1px rgba(0, 0, 0, 0.15);\n",
              "      filter: drop-shadow(0px 1px 2px rgba(0, 0, 0, 0.3));\n",
              "      fill: #FFFFFF;\n",
              "    }\n",
              "  </style>\n",
              "\n",
              "      <script>\n",
              "        const buttonEl =\n",
              "          document.querySelector('#df-91d8f95c-56fc-461b-b497-e6f43ff2b9f9 button.colab-df-convert');\n",
              "        buttonEl.style.display =\n",
              "          google.colab.kernel.accessAllowed ? 'block' : 'none';\n",
              "\n",
              "        async function convertToInteractive(key) {\n",
              "          const element = document.querySelector('#df-91d8f95c-56fc-461b-b497-e6f43ff2b9f9');\n",
              "          const dataTable =\n",
              "            await google.colab.kernel.invokeFunction('convertToInteractive',\n",
              "                                                     [key], {});\n",
              "          if (!dataTable) return;\n",
              "\n",
              "          const docLinkHtml = 'Like what you see? Visit the ' +\n",
              "            '<a target=\"_blank\" href=https://colab.research.google.com/notebooks/data_table.ipynb>data table notebook</a>'\n",
              "            + ' to learn more about interactive tables.';\n",
              "          element.innerHTML = '';\n",
              "          dataTable['output_type'] = 'display_data';\n",
              "          await google.colab.output.renderOutput(dataTable, element);\n",
              "          const docLink = document.createElement('div');\n",
              "          docLink.innerHTML = docLinkHtml;\n",
              "          element.appendChild(docLink);\n",
              "        }\n",
              "      </script>\n",
              "    </div>\n",
              "  </div>\n",
              "  "
            ]
          },
          "metadata": {},
          "execution_count": 24
        }
      ]
    },
    {
      "cell_type": "code",
      "source": [
        "#Agrupando em uma nova coluna a quantidade de doses que o paciente tomou.\n",
        "df02.loc[df02['lotePrimeiraDose'].notna() & df02['loteSegundaDose'].notna(), 'numeroDose'] = 2\n",
        "df02.loc[df02['lotePrimeiraDose'].notna() & df02['loteSegundaDose'].isna(), 'numeroDose'] = 1\n",
        "df02.loc[df02['lotePrimeiraDose'].isna() & df02['loteSegundaDose'].notna(), 'numeroDose'] = 1\n",
        "df02['numeroDose'].fillna(0, inplace=True)"
      ],
      "metadata": {
        "colab": {
          "base_uri": "https://localhost:8080/"
        },
        "id": "I_ZKkyO8N5zf",
        "outputId": "315e82ae-4bf5-43ae-ef80-769a1394435e"
      },
      "execution_count": null,
      "outputs": [
        {
          "output_type": "stream",
          "name": "stderr",
          "text": [
            "<ipython-input-25-4af1db050f5b>:2: SettingWithCopyWarning: \n",
            "A value is trying to be set on a copy of a slice from a DataFrame.\n",
            "Try using .loc[row_indexer,col_indexer] = value instead\n",
            "\n",
            "See the caveats in the documentation: https://pandas.pydata.org/pandas-docs/stable/user_guide/indexing.html#returning-a-view-versus-a-copy\n",
            "  df02.loc[df02['lotePrimeiraDose'].notna() & df02['loteSegundaDose'].notna(), 'numeroDose'] = 2\n",
            "<ipython-input-25-4af1db050f5b>:5: SettingWithCopyWarning: \n",
            "A value is trying to be set on a copy of a slice from a DataFrame\n",
            "\n",
            "See the caveats in the documentation: https://pandas.pydata.org/pandas-docs/stable/user_guide/indexing.html#returning-a-view-versus-a-copy\n",
            "  df02['numeroDose'].fillna(0, inplace=True)\n"
          ]
        }
      ]
    },
    {
      "cell_type": "code",
      "source": [
        "df02.tail(10)"
      ],
      "metadata": {
        "colab": {
          "base_uri": "https://localhost:8080/",
          "height": 363
        },
        "id": "WeqCZ6eKP8Ib",
        "outputId": "366ba61f-6fcd-4867-ae26-9da0426de80e"
      },
      "execution_count": null,
      "outputs": [
        {
          "output_type": "execute_result",
          "data": {
            "text/plain": [
              "       sintomas   racaCor  sexo estado  municipio evolucaoCaso  \\\n",
              "543015        1    Branca   0.0  Ceará  Fortaleza            0   \n",
              "543017        1     Parda   0.0  Ceará  Fortaleza            0   \n",
              "543024        0     Parda   0.0  Ceará  Fortaleza            0   \n",
              "543026        0     Parda   1.0  Ceará  Fortaleza            0   \n",
              "543027        1     Parda   1.0  Ceará  Fortaleza            0   \n",
              "543029        1     Parda   0.0  Ceará  Fortaleza            0   \n",
              "543030        1  Ignorado   1.0  Ceará  Fortaleza            0   \n",
              "543043        0    Branca   1.0  Ceará  Fortaleza            0   \n",
              "543049        1     Parda   0.0  Ceará  Fortaleza            1   \n",
              "543050        1     Parda   1.0  Ceará  Fortaleza            0   \n",
              "\n",
              "       lotePrimeiraDose loteSegundaDose dataPrimeiraDose dataSegundaDose  \\\n",
              "543015           FD7209         31045BD       2021-08-14      2021-10-13   \n",
              "543017              NaN             NaN             None            None   \n",
              "543024       214VCD064Z          210121       2021-05-29      2021-08-23   \n",
              "543026              NaN             NaN             None            None   \n",
              "543027              NaN             NaN             None            None   \n",
              "543029        202010034          210133       2021-02-05      2021-04-24   \n",
              "543030              NaN             NaN             None            None   \n",
              "543043              NaN          210121             None      2021-08-30   \n",
              "543049           EX2405          FD7221       2021-05-17      2021-08-02   \n",
              "543050              NaN             NaN             None            None   \n",
              "\n",
              "        idade  numeroDose  \n",
              "543015   22.0         2.0  \n",
              "543017    NaN         0.0  \n",
              "543024   27.0         2.0  \n",
              "543026    0.0         0.0  \n",
              "543027    NaN         0.0  \n",
              "543029   27.0         2.0  \n",
              "543030   16.0         0.0  \n",
              "543043   50.0         1.0  \n",
              "543049   51.0         2.0  \n",
              "543050   32.0         0.0  "
            ],
            "text/html": [
              "\n",
              "  <div id=\"df-8e3244ba-7df8-44bf-9207-1c352e780343\">\n",
              "    <div class=\"colab-df-container\">\n",
              "      <div>\n",
              "<style scoped>\n",
              "    .dataframe tbody tr th:only-of-type {\n",
              "        vertical-align: middle;\n",
              "    }\n",
              "\n",
              "    .dataframe tbody tr th {\n",
              "        vertical-align: top;\n",
              "    }\n",
              "\n",
              "    .dataframe thead th {\n",
              "        text-align: right;\n",
              "    }\n",
              "</style>\n",
              "<table border=\"1\" class=\"dataframe\">\n",
              "  <thead>\n",
              "    <tr style=\"text-align: right;\">\n",
              "      <th></th>\n",
              "      <th>sintomas</th>\n",
              "      <th>racaCor</th>\n",
              "      <th>sexo</th>\n",
              "      <th>estado</th>\n",
              "      <th>municipio</th>\n",
              "      <th>evolucaoCaso</th>\n",
              "      <th>lotePrimeiraDose</th>\n",
              "      <th>loteSegundaDose</th>\n",
              "      <th>dataPrimeiraDose</th>\n",
              "      <th>dataSegundaDose</th>\n",
              "      <th>idade</th>\n",
              "      <th>numeroDose</th>\n",
              "    </tr>\n",
              "  </thead>\n",
              "  <tbody>\n",
              "    <tr>\n",
              "      <th>543015</th>\n",
              "      <td>1</td>\n",
              "      <td>Branca</td>\n",
              "      <td>0.0</td>\n",
              "      <td>Ceará</td>\n",
              "      <td>Fortaleza</td>\n",
              "      <td>0</td>\n",
              "      <td>FD7209</td>\n",
              "      <td>31045BD</td>\n",
              "      <td>2021-08-14</td>\n",
              "      <td>2021-10-13</td>\n",
              "      <td>22.0</td>\n",
              "      <td>2.0</td>\n",
              "    </tr>\n",
              "    <tr>\n",
              "      <th>543017</th>\n",
              "      <td>1</td>\n",
              "      <td>Parda</td>\n",
              "      <td>0.0</td>\n",
              "      <td>Ceará</td>\n",
              "      <td>Fortaleza</td>\n",
              "      <td>0</td>\n",
              "      <td>NaN</td>\n",
              "      <td>NaN</td>\n",
              "      <td>None</td>\n",
              "      <td>None</td>\n",
              "      <td>NaN</td>\n",
              "      <td>0.0</td>\n",
              "    </tr>\n",
              "    <tr>\n",
              "      <th>543024</th>\n",
              "      <td>0</td>\n",
              "      <td>Parda</td>\n",
              "      <td>0.0</td>\n",
              "      <td>Ceará</td>\n",
              "      <td>Fortaleza</td>\n",
              "      <td>0</td>\n",
              "      <td>214VCD064Z</td>\n",
              "      <td>210121</td>\n",
              "      <td>2021-05-29</td>\n",
              "      <td>2021-08-23</td>\n",
              "      <td>27.0</td>\n",
              "      <td>2.0</td>\n",
              "    </tr>\n",
              "    <tr>\n",
              "      <th>543026</th>\n",
              "      <td>0</td>\n",
              "      <td>Parda</td>\n",
              "      <td>1.0</td>\n",
              "      <td>Ceará</td>\n",
              "      <td>Fortaleza</td>\n",
              "      <td>0</td>\n",
              "      <td>NaN</td>\n",
              "      <td>NaN</td>\n",
              "      <td>None</td>\n",
              "      <td>None</td>\n",
              "      <td>0.0</td>\n",
              "      <td>0.0</td>\n",
              "    </tr>\n",
              "    <tr>\n",
              "      <th>543027</th>\n",
              "      <td>1</td>\n",
              "      <td>Parda</td>\n",
              "      <td>1.0</td>\n",
              "      <td>Ceará</td>\n",
              "      <td>Fortaleza</td>\n",
              "      <td>0</td>\n",
              "      <td>NaN</td>\n",
              "      <td>NaN</td>\n",
              "      <td>None</td>\n",
              "      <td>None</td>\n",
              "      <td>NaN</td>\n",
              "      <td>0.0</td>\n",
              "    </tr>\n",
              "    <tr>\n",
              "      <th>543029</th>\n",
              "      <td>1</td>\n",
              "      <td>Parda</td>\n",
              "      <td>0.0</td>\n",
              "      <td>Ceará</td>\n",
              "      <td>Fortaleza</td>\n",
              "      <td>0</td>\n",
              "      <td>202010034</td>\n",
              "      <td>210133</td>\n",
              "      <td>2021-02-05</td>\n",
              "      <td>2021-04-24</td>\n",
              "      <td>27.0</td>\n",
              "      <td>2.0</td>\n",
              "    </tr>\n",
              "    <tr>\n",
              "      <th>543030</th>\n",
              "      <td>1</td>\n",
              "      <td>Ignorado</td>\n",
              "      <td>1.0</td>\n",
              "      <td>Ceará</td>\n",
              "      <td>Fortaleza</td>\n",
              "      <td>0</td>\n",
              "      <td>NaN</td>\n",
              "      <td>NaN</td>\n",
              "      <td>None</td>\n",
              "      <td>None</td>\n",
              "      <td>16.0</td>\n",
              "      <td>0.0</td>\n",
              "    </tr>\n",
              "    <tr>\n",
              "      <th>543043</th>\n",
              "      <td>0</td>\n",
              "      <td>Branca</td>\n",
              "      <td>1.0</td>\n",
              "      <td>Ceará</td>\n",
              "      <td>Fortaleza</td>\n",
              "      <td>0</td>\n",
              "      <td>NaN</td>\n",
              "      <td>210121</td>\n",
              "      <td>None</td>\n",
              "      <td>2021-08-30</td>\n",
              "      <td>50.0</td>\n",
              "      <td>1.0</td>\n",
              "    </tr>\n",
              "    <tr>\n",
              "      <th>543049</th>\n",
              "      <td>1</td>\n",
              "      <td>Parda</td>\n",
              "      <td>0.0</td>\n",
              "      <td>Ceará</td>\n",
              "      <td>Fortaleza</td>\n",
              "      <td>1</td>\n",
              "      <td>EX2405</td>\n",
              "      <td>FD7221</td>\n",
              "      <td>2021-05-17</td>\n",
              "      <td>2021-08-02</td>\n",
              "      <td>51.0</td>\n",
              "      <td>2.0</td>\n",
              "    </tr>\n",
              "    <tr>\n",
              "      <th>543050</th>\n",
              "      <td>1</td>\n",
              "      <td>Parda</td>\n",
              "      <td>1.0</td>\n",
              "      <td>Ceará</td>\n",
              "      <td>Fortaleza</td>\n",
              "      <td>0</td>\n",
              "      <td>NaN</td>\n",
              "      <td>NaN</td>\n",
              "      <td>None</td>\n",
              "      <td>None</td>\n",
              "      <td>32.0</td>\n",
              "      <td>0.0</td>\n",
              "    </tr>\n",
              "  </tbody>\n",
              "</table>\n",
              "</div>\n",
              "      <button class=\"colab-df-convert\" onclick=\"convertToInteractive('df-8e3244ba-7df8-44bf-9207-1c352e780343')\"\n",
              "              title=\"Convert this dataframe to an interactive table.\"\n",
              "              style=\"display:none;\">\n",
              "        \n",
              "  <svg xmlns=\"http://www.w3.org/2000/svg\" height=\"24px\"viewBox=\"0 0 24 24\"\n",
              "       width=\"24px\">\n",
              "    <path d=\"M0 0h24v24H0V0z\" fill=\"none\"/>\n",
              "    <path d=\"M18.56 5.44l.94 2.06.94-2.06 2.06-.94-2.06-.94-.94-2.06-.94 2.06-2.06.94zm-11 1L8.5 8.5l.94-2.06 2.06-.94-2.06-.94L8.5 2.5l-.94 2.06-2.06.94zm10 10l.94 2.06.94-2.06 2.06-.94-2.06-.94-.94-2.06-.94 2.06-2.06.94z\"/><path d=\"M17.41 7.96l-1.37-1.37c-.4-.4-.92-.59-1.43-.59-.52 0-1.04.2-1.43.59L10.3 9.45l-7.72 7.72c-.78.78-.78 2.05 0 2.83L4 21.41c.39.39.9.59 1.41.59.51 0 1.02-.2 1.41-.59l7.78-7.78 2.81-2.81c.8-.78.8-2.07 0-2.86zM5.41 20L4 18.59l7.72-7.72 1.47 1.35L5.41 20z\"/>\n",
              "  </svg>\n",
              "      </button>\n",
              "      \n",
              "  <style>\n",
              "    .colab-df-container {\n",
              "      display:flex;\n",
              "      flex-wrap:wrap;\n",
              "      gap: 12px;\n",
              "    }\n",
              "\n",
              "    .colab-df-convert {\n",
              "      background-color: #E8F0FE;\n",
              "      border: none;\n",
              "      border-radius: 50%;\n",
              "      cursor: pointer;\n",
              "      display: none;\n",
              "      fill: #1967D2;\n",
              "      height: 32px;\n",
              "      padding: 0 0 0 0;\n",
              "      width: 32px;\n",
              "    }\n",
              "\n",
              "    .colab-df-convert:hover {\n",
              "      background-color: #E2EBFA;\n",
              "      box-shadow: 0px 1px 2px rgba(60, 64, 67, 0.3), 0px 1px 3px 1px rgba(60, 64, 67, 0.15);\n",
              "      fill: #174EA6;\n",
              "    }\n",
              "\n",
              "    [theme=dark] .colab-df-convert {\n",
              "      background-color: #3B4455;\n",
              "      fill: #D2E3FC;\n",
              "    }\n",
              "\n",
              "    [theme=dark] .colab-df-convert:hover {\n",
              "      background-color: #434B5C;\n",
              "      box-shadow: 0px 1px 3px 1px rgba(0, 0, 0, 0.15);\n",
              "      filter: drop-shadow(0px 1px 2px rgba(0, 0, 0, 0.3));\n",
              "      fill: #FFFFFF;\n",
              "    }\n",
              "  </style>\n",
              "\n",
              "      <script>\n",
              "        const buttonEl =\n",
              "          document.querySelector('#df-8e3244ba-7df8-44bf-9207-1c352e780343 button.colab-df-convert');\n",
              "        buttonEl.style.display =\n",
              "          google.colab.kernel.accessAllowed ? 'block' : 'none';\n",
              "\n",
              "        async function convertToInteractive(key) {\n",
              "          const element = document.querySelector('#df-8e3244ba-7df8-44bf-9207-1c352e780343');\n",
              "          const dataTable =\n",
              "            await google.colab.kernel.invokeFunction('convertToInteractive',\n",
              "                                                     [key], {});\n",
              "          if (!dataTable) return;\n",
              "\n",
              "          const docLinkHtml = 'Like what you see? Visit the ' +\n",
              "            '<a target=\"_blank\" href=https://colab.research.google.com/notebooks/data_table.ipynb>data table notebook</a>'\n",
              "            + ' to learn more about interactive tables.';\n",
              "          element.innerHTML = '';\n",
              "          dataTable['output_type'] = 'display_data';\n",
              "          await google.colab.output.renderOutput(dataTable, element);\n",
              "          const docLink = document.createElement('div');\n",
              "          docLink.innerHTML = docLinkHtml;\n",
              "          element.appendChild(docLink);\n",
              "        }\n",
              "      </script>\n",
              "    </div>\n",
              "  </div>\n",
              "  "
            ]
          },
          "metadata": {},
          "execution_count": 26
        }
      ]
    },
    {
      "cell_type": "code",
      "source": [
        "valores = df02['idade'].value_counts()\n",
        "valores"
      ],
      "metadata": {
        "colab": {
          "base_uri": "https://localhost:8080/"
        },
        "id": "6MCf_tlhd-ll",
        "outputId": "c9a74456-441f-4596-95ea-0330b6f4b110"
      },
      "execution_count": null,
      "outputs": [
        {
          "output_type": "execute_result",
          "data": {
            "text/plain": [
              "33.0    2898\n",
              "34.0    2882\n",
              "35.0    2838\n",
              "36.0    2778\n",
              "41.0    2768\n",
              "        ... \n",
              "94.0       1\n",
              "96.0       1\n",
              "89.0       1\n",
              "80.0       1\n",
              "77.0       1\n",
              "Name: idade, Length: 92, dtype: int64"
            ]
          },
          "metadata": {},
          "execution_count": 27
        }
      ]
    },
    {
      "cell_type": "code",
      "source": [
        "#Checando a quantidade de valores nulos na coluna idade.\n",
        "df02['idade'].isnull().sum()"
      ],
      "metadata": {
        "colab": {
          "base_uri": "https://localhost:8080/"
        },
        "id": "JcMdZGWjeFMM",
        "outputId": "6ee37a99-08c3-4da9-ce52-3fef6b45f1e7"
      },
      "execution_count": null,
      "outputs": [
        {
          "output_type": "execute_result",
          "data": {
            "text/plain": [
              "34683"
            ]
          },
          "metadata": {},
          "execution_count": 28
        }
      ]
    },
    {
      "cell_type": "code",
      "source": [
        "df02.shape"
      ],
      "metadata": {
        "colab": {
          "base_uri": "https://localhost:8080/"
        },
        "id": "JIplwBK5vA0b",
        "outputId": "53ac2553-9c8e-4dc6-9d54-d373442f55ee"
      },
      "execution_count": null,
      "outputs": [
        {
          "output_type": "execute_result",
          "data": {
            "text/plain": [
              "(129392, 12)"
            ]
          },
          "metadata": {},
          "execution_count": 29
        }
      ]
    },
    {
      "cell_type": "code",
      "source": [
        "#Removendo valores nulos da coluna idade.\n",
        "df02.dropna(subset=['idade'], inplace=True)"
      ],
      "metadata": {
        "colab": {
          "base_uri": "https://localhost:8080/"
        },
        "id": "n695OPUvvEra",
        "outputId": "ba21591c-45bb-45ac-dd95-a0bea1d08160"
      },
      "execution_count": null,
      "outputs": [
        {
          "output_type": "stream",
          "name": "stderr",
          "text": [
            "<ipython-input-30-a99ff37075a4>:2: SettingWithCopyWarning: \n",
            "A value is trying to be set on a copy of a slice from a DataFrame\n",
            "\n",
            "See the caveats in the documentation: https://pandas.pydata.org/pandas-docs/stable/user_guide/indexing.html#returning-a-view-versus-a-copy\n",
            "  df02.dropna(subset=['idade'], inplace=True)\n"
          ]
        }
      ]
    },
    {
      "cell_type": "code",
      "source": [
        "df02.isnull().sum()"
      ],
      "metadata": {
        "colab": {
          "base_uri": "https://localhost:8080/"
        },
        "id": "EekbnAbPvXYb",
        "outputId": "386fa723-5055-41b0-a42c-b3064a683c4a"
      },
      "execution_count": null,
      "outputs": [
        {
          "output_type": "execute_result",
          "data": {
            "text/plain": [
              "sintomas                0\n",
              "racaCor                 5\n",
              "sexo                   11\n",
              "estado                  0\n",
              "municipio               0\n",
              "evolucaoCaso            0\n",
              "lotePrimeiraDose    32956\n",
              "loteSegundaDose     33747\n",
              "dataPrimeiraDose        0\n",
              "dataSegundaDose         0\n",
              "idade                   0\n",
              "numeroDose              0\n",
              "dtype: int64"
            ]
          },
          "metadata": {},
          "execution_count": 31
        }
      ]
    },
    {
      "cell_type": "code",
      "source": [
        "df02.shape"
      ],
      "metadata": {
        "colab": {
          "base_uri": "https://localhost:8080/"
        },
        "id": "6Qn_xNzFvZ3x",
        "outputId": "fd3a2fb2-4057-441d-a1a9-03dd95fa89da"
      },
      "execution_count": null,
      "outputs": [
        {
          "output_type": "execute_result",
          "data": {
            "text/plain": [
              "(94709, 12)"
            ]
          },
          "metadata": {},
          "execution_count": 32
        }
      ]
    },
    {
      "cell_type": "code",
      "source": [
        "df02.sample(5)"
      ],
      "metadata": {
        "colab": {
          "base_uri": "https://localhost:8080/",
          "height": 206
        },
        "id": "YRPUN-dyvcN6",
        "outputId": "d22a6a92-bf4e-4c8c-8be5-a2a1b7bbaf03"
      },
      "execution_count": null,
      "outputs": [
        {
          "output_type": "execute_result",
          "data": {
            "text/plain": [
              "       sintomas   racaCor  sexo estado  municipio evolucaoCaso  \\\n",
              "465369        0     Parda   0.0  Ceará  Fortaleza            0   \n",
              "239031        1     Parda   1.0  Ceará  Fortaleza            0   \n",
              "197306        1     Parda   0.0  Ceará  Fortaleza            0   \n",
              "155202        1  Ignorado   1.0  Ceará  Fortaleza            0   \n",
              "266775        1     Parda   1.0  Ceará  Fortaleza            0   \n",
              "\n",
              "       lotePrimeiraDose loteSegundaDose dataPrimeiraDose dataSegundaDose  \\\n",
              "465369           EW0199          FD7221       2021-05-29      2021-08-16   \n",
              "239031              NaN             NaN             None            None   \n",
              "197306       214VCD064Z        210198AZ       2021-06-03      2021-08-09   \n",
              "155202              NaN             NaN             None            None   \n",
              "266775              NaN             NaN             None            None   \n",
              "\n",
              "        idade  numeroDose  \n",
              "465369   51.0         2.0  \n",
              "239031   38.0         0.0  \n",
              "197306   28.0         2.0  \n",
              "155202    3.0         0.0  \n",
              "266775   16.0         0.0  "
            ],
            "text/html": [
              "\n",
              "  <div id=\"df-b117c216-304c-463f-9d9f-55cb457790c9\">\n",
              "    <div class=\"colab-df-container\">\n",
              "      <div>\n",
              "<style scoped>\n",
              "    .dataframe tbody tr th:only-of-type {\n",
              "        vertical-align: middle;\n",
              "    }\n",
              "\n",
              "    .dataframe tbody tr th {\n",
              "        vertical-align: top;\n",
              "    }\n",
              "\n",
              "    .dataframe thead th {\n",
              "        text-align: right;\n",
              "    }\n",
              "</style>\n",
              "<table border=\"1\" class=\"dataframe\">\n",
              "  <thead>\n",
              "    <tr style=\"text-align: right;\">\n",
              "      <th></th>\n",
              "      <th>sintomas</th>\n",
              "      <th>racaCor</th>\n",
              "      <th>sexo</th>\n",
              "      <th>estado</th>\n",
              "      <th>municipio</th>\n",
              "      <th>evolucaoCaso</th>\n",
              "      <th>lotePrimeiraDose</th>\n",
              "      <th>loteSegundaDose</th>\n",
              "      <th>dataPrimeiraDose</th>\n",
              "      <th>dataSegundaDose</th>\n",
              "      <th>idade</th>\n",
              "      <th>numeroDose</th>\n",
              "    </tr>\n",
              "  </thead>\n",
              "  <tbody>\n",
              "    <tr>\n",
              "      <th>465369</th>\n",
              "      <td>0</td>\n",
              "      <td>Parda</td>\n",
              "      <td>0.0</td>\n",
              "      <td>Ceará</td>\n",
              "      <td>Fortaleza</td>\n",
              "      <td>0</td>\n",
              "      <td>EW0199</td>\n",
              "      <td>FD7221</td>\n",
              "      <td>2021-05-29</td>\n",
              "      <td>2021-08-16</td>\n",
              "      <td>51.0</td>\n",
              "      <td>2.0</td>\n",
              "    </tr>\n",
              "    <tr>\n",
              "      <th>239031</th>\n",
              "      <td>1</td>\n",
              "      <td>Parda</td>\n",
              "      <td>1.0</td>\n",
              "      <td>Ceará</td>\n",
              "      <td>Fortaleza</td>\n",
              "      <td>0</td>\n",
              "      <td>NaN</td>\n",
              "      <td>NaN</td>\n",
              "      <td>None</td>\n",
              "      <td>None</td>\n",
              "      <td>38.0</td>\n",
              "      <td>0.0</td>\n",
              "    </tr>\n",
              "    <tr>\n",
              "      <th>197306</th>\n",
              "      <td>1</td>\n",
              "      <td>Parda</td>\n",
              "      <td>0.0</td>\n",
              "      <td>Ceará</td>\n",
              "      <td>Fortaleza</td>\n",
              "      <td>0</td>\n",
              "      <td>214VCD064Z</td>\n",
              "      <td>210198AZ</td>\n",
              "      <td>2021-06-03</td>\n",
              "      <td>2021-08-09</td>\n",
              "      <td>28.0</td>\n",
              "      <td>2.0</td>\n",
              "    </tr>\n",
              "    <tr>\n",
              "      <th>155202</th>\n",
              "      <td>1</td>\n",
              "      <td>Ignorado</td>\n",
              "      <td>1.0</td>\n",
              "      <td>Ceará</td>\n",
              "      <td>Fortaleza</td>\n",
              "      <td>0</td>\n",
              "      <td>NaN</td>\n",
              "      <td>NaN</td>\n",
              "      <td>None</td>\n",
              "      <td>None</td>\n",
              "      <td>3.0</td>\n",
              "      <td>0.0</td>\n",
              "    </tr>\n",
              "    <tr>\n",
              "      <th>266775</th>\n",
              "      <td>1</td>\n",
              "      <td>Parda</td>\n",
              "      <td>1.0</td>\n",
              "      <td>Ceará</td>\n",
              "      <td>Fortaleza</td>\n",
              "      <td>0</td>\n",
              "      <td>NaN</td>\n",
              "      <td>NaN</td>\n",
              "      <td>None</td>\n",
              "      <td>None</td>\n",
              "      <td>16.0</td>\n",
              "      <td>0.0</td>\n",
              "    </tr>\n",
              "  </tbody>\n",
              "</table>\n",
              "</div>\n",
              "      <button class=\"colab-df-convert\" onclick=\"convertToInteractive('df-b117c216-304c-463f-9d9f-55cb457790c9')\"\n",
              "              title=\"Convert this dataframe to an interactive table.\"\n",
              "              style=\"display:none;\">\n",
              "        \n",
              "  <svg xmlns=\"http://www.w3.org/2000/svg\" height=\"24px\"viewBox=\"0 0 24 24\"\n",
              "       width=\"24px\">\n",
              "    <path d=\"M0 0h24v24H0V0z\" fill=\"none\"/>\n",
              "    <path d=\"M18.56 5.44l.94 2.06.94-2.06 2.06-.94-2.06-.94-.94-2.06-.94 2.06-2.06.94zm-11 1L8.5 8.5l.94-2.06 2.06-.94-2.06-.94L8.5 2.5l-.94 2.06-2.06.94zm10 10l.94 2.06.94-2.06 2.06-.94-2.06-.94-.94-2.06-.94 2.06-2.06.94z\"/><path d=\"M17.41 7.96l-1.37-1.37c-.4-.4-.92-.59-1.43-.59-.52 0-1.04.2-1.43.59L10.3 9.45l-7.72 7.72c-.78.78-.78 2.05 0 2.83L4 21.41c.39.39.9.59 1.41.59.51 0 1.02-.2 1.41-.59l7.78-7.78 2.81-2.81c.8-.78.8-2.07 0-2.86zM5.41 20L4 18.59l7.72-7.72 1.47 1.35L5.41 20z\"/>\n",
              "  </svg>\n",
              "      </button>\n",
              "      \n",
              "  <style>\n",
              "    .colab-df-container {\n",
              "      display:flex;\n",
              "      flex-wrap:wrap;\n",
              "      gap: 12px;\n",
              "    }\n",
              "\n",
              "    .colab-df-convert {\n",
              "      background-color: #E8F0FE;\n",
              "      border: none;\n",
              "      border-radius: 50%;\n",
              "      cursor: pointer;\n",
              "      display: none;\n",
              "      fill: #1967D2;\n",
              "      height: 32px;\n",
              "      padding: 0 0 0 0;\n",
              "      width: 32px;\n",
              "    }\n",
              "\n",
              "    .colab-df-convert:hover {\n",
              "      background-color: #E2EBFA;\n",
              "      box-shadow: 0px 1px 2px rgba(60, 64, 67, 0.3), 0px 1px 3px 1px rgba(60, 64, 67, 0.15);\n",
              "      fill: #174EA6;\n",
              "    }\n",
              "\n",
              "    [theme=dark] .colab-df-convert {\n",
              "      background-color: #3B4455;\n",
              "      fill: #D2E3FC;\n",
              "    }\n",
              "\n",
              "    [theme=dark] .colab-df-convert:hover {\n",
              "      background-color: #434B5C;\n",
              "      box-shadow: 0px 1px 3px 1px rgba(0, 0, 0, 0.15);\n",
              "      filter: drop-shadow(0px 1px 2px rgba(0, 0, 0, 0.3));\n",
              "      fill: #FFFFFF;\n",
              "    }\n",
              "  </style>\n",
              "\n",
              "      <script>\n",
              "        const buttonEl =\n",
              "          document.querySelector('#df-b117c216-304c-463f-9d9f-55cb457790c9 button.colab-df-convert');\n",
              "        buttonEl.style.display =\n",
              "          google.colab.kernel.accessAllowed ? 'block' : 'none';\n",
              "\n",
              "        async function convertToInteractive(key) {\n",
              "          const element = document.querySelector('#df-b117c216-304c-463f-9d9f-55cb457790c9');\n",
              "          const dataTable =\n",
              "            await google.colab.kernel.invokeFunction('convertToInteractive',\n",
              "                                                     [key], {});\n",
              "          if (!dataTable) return;\n",
              "\n",
              "          const docLinkHtml = 'Like what you see? Visit the ' +\n",
              "            '<a target=\"_blank\" href=https://colab.research.google.com/notebooks/data_table.ipynb>data table notebook</a>'\n",
              "            + ' to learn more about interactive tables.';\n",
              "          element.innerHTML = '';\n",
              "          dataTable['output_type'] = 'display_data';\n",
              "          await google.colab.output.renderOutput(dataTable, element);\n",
              "          const docLink = document.createElement('div');\n",
              "          docLink.innerHTML = docLinkHtml;\n",
              "          element.appendChild(docLink);\n",
              "        }\n",
              "      </script>\n",
              "    </div>\n",
              "  </div>\n",
              "  "
            ]
          },
          "metadata": {},
          "execution_count": 33
        }
      ]
    },
    {
      "cell_type": "code",
      "source": [
        "df02.dtypes"
      ],
      "metadata": {
        "colab": {
          "base_uri": "https://localhost:8080/"
        },
        "id": "vGj_lGxKvyUm",
        "outputId": "f5201b64-9bb3-4a38-f0df-a3dbe665d700"
      },
      "execution_count": null,
      "outputs": [
        {
          "output_type": "execute_result",
          "data": {
            "text/plain": [
              "sintomas             object\n",
              "racaCor              object\n",
              "sexo                float64\n",
              "estado               object\n",
              "municipio            object\n",
              "evolucaoCaso         object\n",
              "lotePrimeiraDose     object\n",
              "loteSegundaDose      object\n",
              "dataPrimeiraDose     object\n",
              "dataSegundaDose      object\n",
              "idade               float64\n",
              "numeroDose          float64\n",
              "dtype: object"
            ]
          },
          "metadata": {},
          "execution_count": 34
        }
      ]
    },
    {
      "cell_type": "code",
      "source": [
        "#Mudando os tipos das  colunas de sintomas e evolucaoCaso para float.\n",
        "df02['sintomas'] = df02['sintomas'].astype(float)\n",
        "df02['evolucaoCaso'] = df02['evolucaoCaso'].astype(float)"
      ],
      "metadata": {
        "colab": {
          "base_uri": "https://localhost:8080/"
        },
        "id": "s_R3EU08wLFB",
        "outputId": "ac28c30d-1619-43a3-d051-78b0c6495d1d"
      },
      "execution_count": null,
      "outputs": [
        {
          "output_type": "stream",
          "name": "stderr",
          "text": [
            "<ipython-input-35-945eca16b1b2>:2: SettingWithCopyWarning: \n",
            "A value is trying to be set on a copy of a slice from a DataFrame.\n",
            "Try using .loc[row_indexer,col_indexer] = value instead\n",
            "\n",
            "See the caveats in the documentation: https://pandas.pydata.org/pandas-docs/stable/user_guide/indexing.html#returning-a-view-versus-a-copy\n",
            "  df02['sintomas'] = df02['sintomas'].astype(float)\n",
            "<ipython-input-35-945eca16b1b2>:3: SettingWithCopyWarning: \n",
            "A value is trying to be set on a copy of a slice from a DataFrame.\n",
            "Try using .loc[row_indexer,col_indexer] = value instead\n",
            "\n",
            "See the caveats in the documentation: https://pandas.pydata.org/pandas-docs/stable/user_guide/indexing.html#returning-a-view-versus-a-copy\n",
            "  df02['evolucaoCaso'] = df02['evolucaoCaso'].astype(float)\n"
          ]
        }
      ]
    },
    {
      "cell_type": "code",
      "source": [
        "df02.dtypes"
      ],
      "metadata": {
        "colab": {
          "base_uri": "https://localhost:8080/"
        },
        "id": "fAjR66wBwOYv",
        "outputId": "5f698e1d-6f95-482f-b40f-f1a0510a9258"
      },
      "execution_count": null,
      "outputs": [
        {
          "output_type": "execute_result",
          "data": {
            "text/plain": [
              "sintomas            float64\n",
              "racaCor              object\n",
              "sexo                float64\n",
              "estado               object\n",
              "municipio            object\n",
              "evolucaoCaso        float64\n",
              "lotePrimeiraDose     object\n",
              "loteSegundaDose      object\n",
              "dataPrimeiraDose     object\n",
              "dataSegundaDose      object\n",
              "idade               float64\n",
              "numeroDose          float64\n",
              "dtype: object"
            ]
          },
          "metadata": {},
          "execution_count": 36
        }
      ]
    },
    {
      "cell_type": "code",
      "source": [
        "df02.isnull().sum()"
      ],
      "metadata": {
        "colab": {
          "base_uri": "https://localhost:8080/"
        },
        "id": "rSOX0V5QwTU1",
        "outputId": "c0f37176-7512-4d7c-dcc5-402d06e29c2d"
      },
      "execution_count": null,
      "outputs": [
        {
          "output_type": "execute_result",
          "data": {
            "text/plain": [
              "sintomas                0\n",
              "racaCor                 5\n",
              "sexo                   11\n",
              "estado                  0\n",
              "municipio               0\n",
              "evolucaoCaso            0\n",
              "lotePrimeiraDose    32956\n",
              "loteSegundaDose     33747\n",
              "dataPrimeiraDose        0\n",
              "dataSegundaDose         0\n",
              "idade                   0\n",
              "numeroDose              0\n",
              "dtype: int64"
            ]
          },
          "metadata": {},
          "execution_count": 37
        }
      ]
    },
    {
      "cell_type": "code",
      "source": [
        "#Removendo valores nulos da coluna sexo.\n",
        "df02.dropna(subset=['sexo'], inplace=True)"
      ],
      "metadata": {
        "colab": {
          "base_uri": "https://localhost:8080/"
        },
        "id": "fQdwyeHHwZm7",
        "outputId": "f139bd54-2142-41ad-d9d7-3b99ba90a628"
      },
      "execution_count": null,
      "outputs": [
        {
          "output_type": "stream",
          "name": "stderr",
          "text": [
            "<ipython-input-38-95031af75e47>:2: SettingWithCopyWarning: \n",
            "A value is trying to be set on a copy of a slice from a DataFrame\n",
            "\n",
            "See the caveats in the documentation: https://pandas.pydata.org/pandas-docs/stable/user_guide/indexing.html#returning-a-view-versus-a-copy\n",
            "  df02.dropna(subset=['sexo'], inplace=True)\n"
          ]
        }
      ]
    },
    {
      "cell_type": "code",
      "source": [
        "df02.isnull().sum()"
      ],
      "metadata": {
        "colab": {
          "base_uri": "https://localhost:8080/"
        },
        "id": "JLVgz4GvwmMn",
        "outputId": "1f317cbf-4dc9-46dc-9548-0e5e7dc565c1"
      },
      "execution_count": null,
      "outputs": [
        {
          "output_type": "execute_result",
          "data": {
            "text/plain": [
              "sintomas                0\n",
              "racaCor                 5\n",
              "sexo                    0\n",
              "estado                  0\n",
              "municipio               0\n",
              "evolucaoCaso            0\n",
              "lotePrimeiraDose    32945\n",
              "loteSegundaDose     33736\n",
              "dataPrimeiraDose        0\n",
              "dataSegundaDose         0\n",
              "idade                   0\n",
              "numeroDose              0\n",
              "dtype: int64"
            ]
          },
          "metadata": {},
          "execution_count": 39
        }
      ]
    },
    {
      "cell_type": "code",
      "source": [
        "df02.describe"
      ],
      "metadata": {
        "colab": {
          "base_uri": "https://localhost:8080/"
        },
        "id": "UMZN6TqCydKr",
        "outputId": "439f98e3-5cba-4296-faa4-4cc72c883484"
      },
      "execution_count": null,
      "outputs": [
        {
          "output_type": "execute_result",
          "data": {
            "text/plain": [
              "<bound method NDFrame.describe of         sintomas   racaCor  sexo estado  municipio  evolucaoCaso  \\\n",
              "3            1.0  Ignorado   1.0  Ceará  Fortaleza           0.0   \n",
              "4            1.0     Parda   0.0  Ceará  Fortaleza           0.0   \n",
              "8            1.0  Ignorado   1.0  Ceará  Fortaleza           0.0   \n",
              "10           1.0  Ignorado   1.0  Ceará  Fortaleza           0.0   \n",
              "11           1.0     Parda   0.0  Ceará  Fortaleza           0.0   \n",
              "...          ...       ...   ...    ...        ...           ...   \n",
              "543029       1.0     Parda   0.0  Ceará  Fortaleza           0.0   \n",
              "543030       1.0  Ignorado   1.0  Ceará  Fortaleza           0.0   \n",
              "543043       0.0    Branca   1.0  Ceará  Fortaleza           0.0   \n",
              "543049       1.0     Parda   0.0  Ceará  Fortaleza           1.0   \n",
              "543050       1.0     Parda   1.0  Ceará  Fortaleza           0.0   \n",
              "\n",
              "       lotePrimeiraDose loteSegundaDose dataPrimeiraDose dataSegundaDose  \\\n",
              "3                FE2083          FF8848       2021-07-01      2021-09-29   \n",
              "4                   NaN             NaN             None            None   \n",
              "8                   NaN        210198AZ             None      2021-08-03   \n",
              "10               210012          FH4750       2021-02-27      2021-11-03   \n",
              "11              28230BD          FG3528       2021-08-20      2021-10-15   \n",
              "...                 ...             ...              ...             ...   \n",
              "543029        202010034          210133       2021-02-05      2021-04-24   \n",
              "543030              NaN             NaN             None            None   \n",
              "543043              NaN          210121             None      2021-08-30   \n",
              "543049           EX2405          FD7221       2021-05-17      2021-08-02   \n",
              "543050              NaN             NaN             None            None   \n",
              "\n",
              "        idade  numeroDose  \n",
              "3        37.0         2.0  \n",
              "4        15.0         0.0  \n",
              "8        49.0         1.0  \n",
              "10       33.0         2.0  \n",
              "11       41.0         2.0  \n",
              "...       ...         ...  \n",
              "543029   27.0         2.0  \n",
              "543030   16.0         0.0  \n",
              "543043   50.0         1.0  \n",
              "543049   51.0         2.0  \n",
              "543050   32.0         0.0  \n",
              "\n",
              "[94698 rows x 12 columns]>"
            ]
          },
          "metadata": {},
          "execution_count": 40
        }
      ]
    },
    {
      "cell_type": "code",
      "source": [
        "df02.sample(5)"
      ],
      "metadata": {
        "colab": {
          "base_uri": "https://localhost:8080/",
          "height": 206
        },
        "id": "6HrAeY6swpeA",
        "outputId": "f89d9255-5b76-4cb2-8034-6291502593f7"
      },
      "execution_count": null,
      "outputs": [
        {
          "output_type": "execute_result",
          "data": {
            "text/plain": [
              "        sintomas   racaCor  sexo estado  municipio  evolucaoCaso  \\\n",
              "481807       1.0    Branca   0.0  Ceará  Fortaleza           0.0   \n",
              "379326       1.0    Branca   0.0  Ceará  Fortaleza           0.0   \n",
              "430256       1.0  Ignorado   1.0  Ceará  Fortaleza           0.0   \n",
              "217870       1.0     Parda   0.0  Ceará  Fortaleza           0.0   \n",
              "23769        1.0     Parda   0.0  Ceará  Fortaleza           0.0   \n",
              "\n",
              "       lotePrimeiraDose loteSegundaDose dataPrimeiraDose dataSegundaDose  \\\n",
              "481807           FA9090          FF8843       2021-07-03      2021-09-16   \n",
              "379326           FA9095          FF8848       2021-07-12      2021-10-02   \n",
              "430256              NaN             NaN             None            None   \n",
              "217870      216VCD014VA      219vcd273z       2021-07-21      2021-10-19   \n",
              "23769         202010034             NaN       2021-01-21            None   \n",
              "\n",
              "        idade  numeroDose  \n",
              "481807   35.0         2.0  \n",
              "379326   35.0         2.0  \n",
              "430256   46.0         0.0  \n",
              "217870   30.0         2.0  \n",
              "23769    27.0         1.0  "
            ],
            "text/html": [
              "\n",
              "  <div id=\"df-ebcedb3d-2305-47fb-a092-6397f92b9fa4\">\n",
              "    <div class=\"colab-df-container\">\n",
              "      <div>\n",
              "<style scoped>\n",
              "    .dataframe tbody tr th:only-of-type {\n",
              "        vertical-align: middle;\n",
              "    }\n",
              "\n",
              "    .dataframe tbody tr th {\n",
              "        vertical-align: top;\n",
              "    }\n",
              "\n",
              "    .dataframe thead th {\n",
              "        text-align: right;\n",
              "    }\n",
              "</style>\n",
              "<table border=\"1\" class=\"dataframe\">\n",
              "  <thead>\n",
              "    <tr style=\"text-align: right;\">\n",
              "      <th></th>\n",
              "      <th>sintomas</th>\n",
              "      <th>racaCor</th>\n",
              "      <th>sexo</th>\n",
              "      <th>estado</th>\n",
              "      <th>municipio</th>\n",
              "      <th>evolucaoCaso</th>\n",
              "      <th>lotePrimeiraDose</th>\n",
              "      <th>loteSegundaDose</th>\n",
              "      <th>dataPrimeiraDose</th>\n",
              "      <th>dataSegundaDose</th>\n",
              "      <th>idade</th>\n",
              "      <th>numeroDose</th>\n",
              "    </tr>\n",
              "  </thead>\n",
              "  <tbody>\n",
              "    <tr>\n",
              "      <th>481807</th>\n",
              "      <td>1.0</td>\n",
              "      <td>Branca</td>\n",
              "      <td>0.0</td>\n",
              "      <td>Ceará</td>\n",
              "      <td>Fortaleza</td>\n",
              "      <td>0.0</td>\n",
              "      <td>FA9090</td>\n",
              "      <td>FF8843</td>\n",
              "      <td>2021-07-03</td>\n",
              "      <td>2021-09-16</td>\n",
              "      <td>35.0</td>\n",
              "      <td>2.0</td>\n",
              "    </tr>\n",
              "    <tr>\n",
              "      <th>379326</th>\n",
              "      <td>1.0</td>\n",
              "      <td>Branca</td>\n",
              "      <td>0.0</td>\n",
              "      <td>Ceará</td>\n",
              "      <td>Fortaleza</td>\n",
              "      <td>0.0</td>\n",
              "      <td>FA9095</td>\n",
              "      <td>FF8848</td>\n",
              "      <td>2021-07-12</td>\n",
              "      <td>2021-10-02</td>\n",
              "      <td>35.0</td>\n",
              "      <td>2.0</td>\n",
              "    </tr>\n",
              "    <tr>\n",
              "      <th>430256</th>\n",
              "      <td>1.0</td>\n",
              "      <td>Ignorado</td>\n",
              "      <td>1.0</td>\n",
              "      <td>Ceará</td>\n",
              "      <td>Fortaleza</td>\n",
              "      <td>0.0</td>\n",
              "      <td>NaN</td>\n",
              "      <td>NaN</td>\n",
              "      <td>None</td>\n",
              "      <td>None</td>\n",
              "      <td>46.0</td>\n",
              "      <td>0.0</td>\n",
              "    </tr>\n",
              "    <tr>\n",
              "      <th>217870</th>\n",
              "      <td>1.0</td>\n",
              "      <td>Parda</td>\n",
              "      <td>0.0</td>\n",
              "      <td>Ceará</td>\n",
              "      <td>Fortaleza</td>\n",
              "      <td>0.0</td>\n",
              "      <td>216VCD014VA</td>\n",
              "      <td>219vcd273z</td>\n",
              "      <td>2021-07-21</td>\n",
              "      <td>2021-10-19</td>\n",
              "      <td>30.0</td>\n",
              "      <td>2.0</td>\n",
              "    </tr>\n",
              "    <tr>\n",
              "      <th>23769</th>\n",
              "      <td>1.0</td>\n",
              "      <td>Parda</td>\n",
              "      <td>0.0</td>\n",
              "      <td>Ceará</td>\n",
              "      <td>Fortaleza</td>\n",
              "      <td>0.0</td>\n",
              "      <td>202010034</td>\n",
              "      <td>NaN</td>\n",
              "      <td>2021-01-21</td>\n",
              "      <td>None</td>\n",
              "      <td>27.0</td>\n",
              "      <td>1.0</td>\n",
              "    </tr>\n",
              "  </tbody>\n",
              "</table>\n",
              "</div>\n",
              "      <button class=\"colab-df-convert\" onclick=\"convertToInteractive('df-ebcedb3d-2305-47fb-a092-6397f92b9fa4')\"\n",
              "              title=\"Convert this dataframe to an interactive table.\"\n",
              "              style=\"display:none;\">\n",
              "        \n",
              "  <svg xmlns=\"http://www.w3.org/2000/svg\" height=\"24px\"viewBox=\"0 0 24 24\"\n",
              "       width=\"24px\">\n",
              "    <path d=\"M0 0h24v24H0V0z\" fill=\"none\"/>\n",
              "    <path d=\"M18.56 5.44l.94 2.06.94-2.06 2.06-.94-2.06-.94-.94-2.06-.94 2.06-2.06.94zm-11 1L8.5 8.5l.94-2.06 2.06-.94-2.06-.94L8.5 2.5l-.94 2.06-2.06.94zm10 10l.94 2.06.94-2.06 2.06-.94-2.06-.94-.94-2.06-.94 2.06-2.06.94z\"/><path d=\"M17.41 7.96l-1.37-1.37c-.4-.4-.92-.59-1.43-.59-.52 0-1.04.2-1.43.59L10.3 9.45l-7.72 7.72c-.78.78-.78 2.05 0 2.83L4 21.41c.39.39.9.59 1.41.59.51 0 1.02-.2 1.41-.59l7.78-7.78 2.81-2.81c.8-.78.8-2.07 0-2.86zM5.41 20L4 18.59l7.72-7.72 1.47 1.35L5.41 20z\"/>\n",
              "  </svg>\n",
              "      </button>\n",
              "      \n",
              "  <style>\n",
              "    .colab-df-container {\n",
              "      display:flex;\n",
              "      flex-wrap:wrap;\n",
              "      gap: 12px;\n",
              "    }\n",
              "\n",
              "    .colab-df-convert {\n",
              "      background-color: #E8F0FE;\n",
              "      border: none;\n",
              "      border-radius: 50%;\n",
              "      cursor: pointer;\n",
              "      display: none;\n",
              "      fill: #1967D2;\n",
              "      height: 32px;\n",
              "      padding: 0 0 0 0;\n",
              "      width: 32px;\n",
              "    }\n",
              "\n",
              "    .colab-df-convert:hover {\n",
              "      background-color: #E2EBFA;\n",
              "      box-shadow: 0px 1px 2px rgba(60, 64, 67, 0.3), 0px 1px 3px 1px rgba(60, 64, 67, 0.15);\n",
              "      fill: #174EA6;\n",
              "    }\n",
              "\n",
              "    [theme=dark] .colab-df-convert {\n",
              "      background-color: #3B4455;\n",
              "      fill: #D2E3FC;\n",
              "    }\n",
              "\n",
              "    [theme=dark] .colab-df-convert:hover {\n",
              "      background-color: #434B5C;\n",
              "      box-shadow: 0px 1px 3px 1px rgba(0, 0, 0, 0.15);\n",
              "      filter: drop-shadow(0px 1px 2px rgba(0, 0, 0, 0.3));\n",
              "      fill: #FFFFFF;\n",
              "    }\n",
              "  </style>\n",
              "\n",
              "      <script>\n",
              "        const buttonEl =\n",
              "          document.querySelector('#df-ebcedb3d-2305-47fb-a092-6397f92b9fa4 button.colab-df-convert');\n",
              "        buttonEl.style.display =\n",
              "          google.colab.kernel.accessAllowed ? 'block' : 'none';\n",
              "\n",
              "        async function convertToInteractive(key) {\n",
              "          const element = document.querySelector('#df-ebcedb3d-2305-47fb-a092-6397f92b9fa4');\n",
              "          const dataTable =\n",
              "            await google.colab.kernel.invokeFunction('convertToInteractive',\n",
              "                                                     [key], {});\n",
              "          if (!dataTable) return;\n",
              "\n",
              "          const docLinkHtml = 'Like what you see? Visit the ' +\n",
              "            '<a target=\"_blank\" href=https://colab.research.google.com/notebooks/data_table.ipynb>data table notebook</a>'\n",
              "            + ' to learn more about interactive tables.';\n",
              "          element.innerHTML = '';\n",
              "          dataTable['output_type'] = 'display_data';\n",
              "          await google.colab.output.renderOutput(dataTable, element);\n",
              "          const docLink = document.createElement('div');\n",
              "          docLink.innerHTML = docLinkHtml;\n",
              "          element.appendChild(docLink);\n",
              "        }\n",
              "      </script>\n",
              "    </div>\n",
              "  </div>\n",
              "  "
            ]
          },
          "metadata": {},
          "execution_count": 41
        }
      ]
    },
    {
      "cell_type": "markdown",
      "source": [
        "## **Treinamento dos dados**"
      ],
      "metadata": {
        "id": "OqBDIFxkx8LP"
      }
    },
    {
      "cell_type": "code",
      "source": [
        "#Importando as bibliotecas.\n",
        "from sklearn.model_selection import train_test_split\n",
        "from sklearn.tree import export_graphviz\n",
        "import graphviz\n",
        "from sklearn.tree import DecisionTreeClassifier\n",
        "from sklearn import metrics\n",
        "from sklearn import preprocessing\n",
        "from sklearn.model_selection import GridSearchCV"
      ],
      "metadata": {
        "id": "hAk5HQ5jzycm"
      },
      "execution_count": null,
      "outputs": []
    },
    {
      "cell_type": "code",
      "source": [
        "dfTrain = df02"
      ],
      "metadata": {
        "id": "fGCE5FOByfH4"
      },
      "execution_count": null,
      "outputs": []
    },
    {
      "cell_type": "code",
      "source": [
        "dfTrain.shape"
      ],
      "metadata": {
        "colab": {
          "base_uri": "https://localhost:8080/"
        },
        "id": "UpbzrfCxyqb6",
        "outputId": "da5a855e-4004-48ef-b302-85bb0a4caa6c"
      },
      "execution_count": null,
      "outputs": [
        {
          "output_type": "execute_result",
          "data": {
            "text/plain": [
              "(94698, 12)"
            ]
          },
          "metadata": {},
          "execution_count": 44
        }
      ]
    },
    {
      "cell_type": "code",
      "source": [
        "dfTrain.isnull().sum()"
      ],
      "metadata": {
        "colab": {
          "base_uri": "https://localhost:8080/"
        },
        "id": "VmHo0wxCysqz",
        "outputId": "a61d7ebc-843f-48df-dc25-e5b159eeb488"
      },
      "execution_count": null,
      "outputs": [
        {
          "output_type": "execute_result",
          "data": {
            "text/plain": [
              "sintomas                0\n",
              "racaCor                 5\n",
              "sexo                    0\n",
              "estado                  0\n",
              "municipio               0\n",
              "evolucaoCaso            0\n",
              "lotePrimeiraDose    32945\n",
              "loteSegundaDose     33736\n",
              "dataPrimeiraDose        0\n",
              "dataSegundaDose         0\n",
              "idade                   0\n",
              "numeroDose              0\n",
              "dtype: int64"
            ]
          },
          "metadata": {},
          "execution_count": 45
        }
      ]
    },
    {
      "cell_type": "code",
      "source": [
        "dfTrain.dtypes"
      ],
      "metadata": {
        "colab": {
          "base_uri": "https://localhost:8080/"
        },
        "id": "NX8TVwGaywlB",
        "outputId": "def0f5ee-5516-4468-f8df-38693420ff49"
      },
      "execution_count": null,
      "outputs": [
        {
          "output_type": "execute_result",
          "data": {
            "text/plain": [
              "sintomas            float64\n",
              "racaCor              object\n",
              "sexo                float64\n",
              "estado               object\n",
              "municipio            object\n",
              "evolucaoCaso        float64\n",
              "lotePrimeiraDose     object\n",
              "loteSegundaDose      object\n",
              "dataPrimeiraDose     object\n",
              "dataSegundaDose      object\n",
              "idade               float64\n",
              "numeroDose          float64\n",
              "dtype: object"
            ]
          },
          "metadata": {},
          "execution_count": 46
        }
      ]
    },
    {
      "cell_type": "code",
      "source": [
        "#Selecionando as features para o treino.\n",
        "X = dfTrain.drop(columns=['racaCor', 'estado', 'municipio', 'lotePrimeiraDose', 'loteSegundaDose', 'dataPrimeiraDose', 'dataSegundaDose', 'evolucaoCaso'])\n",
        "y= dfTrain['evolucaoCaso']"
      ],
      "metadata": {
        "id": "-uU7twbQy5UN"
      },
      "execution_count": null,
      "outputs": []
    },
    {
      "cell_type": "code",
      "source": [
        "X.head()"
      ],
      "metadata": {
        "colab": {
          "base_uri": "https://localhost:8080/",
          "height": 206
        },
        "id": "oU6HyOByzfWN",
        "outputId": "cf95707b-26db-403d-efb7-b8d1c8fbe407"
      },
      "execution_count": null,
      "outputs": [
        {
          "output_type": "execute_result",
          "data": {
            "text/plain": [
              "    sintomas  sexo  idade  numeroDose\n",
              "3        1.0   1.0   37.0         2.0\n",
              "4        1.0   0.0   15.0         0.0\n",
              "8        1.0   1.0   49.0         1.0\n",
              "10       1.0   1.0   33.0         2.0\n",
              "11       1.0   0.0   41.0         2.0"
            ],
            "text/html": [
              "\n",
              "  <div id=\"df-2169c979-1028-4c5f-ab36-f7a5966693c8\">\n",
              "    <div class=\"colab-df-container\">\n",
              "      <div>\n",
              "<style scoped>\n",
              "    .dataframe tbody tr th:only-of-type {\n",
              "        vertical-align: middle;\n",
              "    }\n",
              "\n",
              "    .dataframe tbody tr th {\n",
              "        vertical-align: top;\n",
              "    }\n",
              "\n",
              "    .dataframe thead th {\n",
              "        text-align: right;\n",
              "    }\n",
              "</style>\n",
              "<table border=\"1\" class=\"dataframe\">\n",
              "  <thead>\n",
              "    <tr style=\"text-align: right;\">\n",
              "      <th></th>\n",
              "      <th>sintomas</th>\n",
              "      <th>sexo</th>\n",
              "      <th>idade</th>\n",
              "      <th>numeroDose</th>\n",
              "    </tr>\n",
              "  </thead>\n",
              "  <tbody>\n",
              "    <tr>\n",
              "      <th>3</th>\n",
              "      <td>1.0</td>\n",
              "      <td>1.0</td>\n",
              "      <td>37.0</td>\n",
              "      <td>2.0</td>\n",
              "    </tr>\n",
              "    <tr>\n",
              "      <th>4</th>\n",
              "      <td>1.0</td>\n",
              "      <td>0.0</td>\n",
              "      <td>15.0</td>\n",
              "      <td>0.0</td>\n",
              "    </tr>\n",
              "    <tr>\n",
              "      <th>8</th>\n",
              "      <td>1.0</td>\n",
              "      <td>1.0</td>\n",
              "      <td>49.0</td>\n",
              "      <td>1.0</td>\n",
              "    </tr>\n",
              "    <tr>\n",
              "      <th>10</th>\n",
              "      <td>1.0</td>\n",
              "      <td>1.0</td>\n",
              "      <td>33.0</td>\n",
              "      <td>2.0</td>\n",
              "    </tr>\n",
              "    <tr>\n",
              "      <th>11</th>\n",
              "      <td>1.0</td>\n",
              "      <td>0.0</td>\n",
              "      <td>41.0</td>\n",
              "      <td>2.0</td>\n",
              "    </tr>\n",
              "  </tbody>\n",
              "</table>\n",
              "</div>\n",
              "      <button class=\"colab-df-convert\" onclick=\"convertToInteractive('df-2169c979-1028-4c5f-ab36-f7a5966693c8')\"\n",
              "              title=\"Convert this dataframe to an interactive table.\"\n",
              "              style=\"display:none;\">\n",
              "        \n",
              "  <svg xmlns=\"http://www.w3.org/2000/svg\" height=\"24px\"viewBox=\"0 0 24 24\"\n",
              "       width=\"24px\">\n",
              "    <path d=\"M0 0h24v24H0V0z\" fill=\"none\"/>\n",
              "    <path d=\"M18.56 5.44l.94 2.06.94-2.06 2.06-.94-2.06-.94-.94-2.06-.94 2.06-2.06.94zm-11 1L8.5 8.5l.94-2.06 2.06-.94-2.06-.94L8.5 2.5l-.94 2.06-2.06.94zm10 10l.94 2.06.94-2.06 2.06-.94-2.06-.94-.94-2.06-.94 2.06-2.06.94z\"/><path d=\"M17.41 7.96l-1.37-1.37c-.4-.4-.92-.59-1.43-.59-.52 0-1.04.2-1.43.59L10.3 9.45l-7.72 7.72c-.78.78-.78 2.05 0 2.83L4 21.41c.39.39.9.59 1.41.59.51 0 1.02-.2 1.41-.59l7.78-7.78 2.81-2.81c.8-.78.8-2.07 0-2.86zM5.41 20L4 18.59l7.72-7.72 1.47 1.35L5.41 20z\"/>\n",
              "  </svg>\n",
              "      </button>\n",
              "      \n",
              "  <style>\n",
              "    .colab-df-container {\n",
              "      display:flex;\n",
              "      flex-wrap:wrap;\n",
              "      gap: 12px;\n",
              "    }\n",
              "\n",
              "    .colab-df-convert {\n",
              "      background-color: #E8F0FE;\n",
              "      border: none;\n",
              "      border-radius: 50%;\n",
              "      cursor: pointer;\n",
              "      display: none;\n",
              "      fill: #1967D2;\n",
              "      height: 32px;\n",
              "      padding: 0 0 0 0;\n",
              "      width: 32px;\n",
              "    }\n",
              "\n",
              "    .colab-df-convert:hover {\n",
              "      background-color: #E2EBFA;\n",
              "      box-shadow: 0px 1px 2px rgba(60, 64, 67, 0.3), 0px 1px 3px 1px rgba(60, 64, 67, 0.15);\n",
              "      fill: #174EA6;\n",
              "    }\n",
              "\n",
              "    [theme=dark] .colab-df-convert {\n",
              "      background-color: #3B4455;\n",
              "      fill: #D2E3FC;\n",
              "    }\n",
              "\n",
              "    [theme=dark] .colab-df-convert:hover {\n",
              "      background-color: #434B5C;\n",
              "      box-shadow: 0px 1px 3px 1px rgba(0, 0, 0, 0.15);\n",
              "      filter: drop-shadow(0px 1px 2px rgba(0, 0, 0, 0.3));\n",
              "      fill: #FFFFFF;\n",
              "    }\n",
              "  </style>\n",
              "\n",
              "      <script>\n",
              "        const buttonEl =\n",
              "          document.querySelector('#df-2169c979-1028-4c5f-ab36-f7a5966693c8 button.colab-df-convert');\n",
              "        buttonEl.style.display =\n",
              "          google.colab.kernel.accessAllowed ? 'block' : 'none';\n",
              "\n",
              "        async function convertToInteractive(key) {\n",
              "          const element = document.querySelector('#df-2169c979-1028-4c5f-ab36-f7a5966693c8');\n",
              "          const dataTable =\n",
              "            await google.colab.kernel.invokeFunction('convertToInteractive',\n",
              "                                                     [key], {});\n",
              "          if (!dataTable) return;\n",
              "\n",
              "          const docLinkHtml = 'Like what you see? Visit the ' +\n",
              "            '<a target=\"_blank\" href=https://colab.research.google.com/notebooks/data_table.ipynb>data table notebook</a>'\n",
              "            + ' to learn more about interactive tables.';\n",
              "          element.innerHTML = '';\n",
              "          dataTable['output_type'] = 'display_data';\n",
              "          await google.colab.output.renderOutput(dataTable, element);\n",
              "          const docLink = document.createElement('div');\n",
              "          docLink.innerHTML = docLinkHtml;\n",
              "          element.appendChild(docLink);\n",
              "        }\n",
              "      </script>\n",
              "    </div>\n",
              "  </div>\n",
              "  "
            ]
          },
          "metadata": {},
          "execution_count": 48
        }
      ]
    },
    {
      "cell_type": "code",
      "source": [
        "X.dtypes"
      ],
      "metadata": {
        "colab": {
          "base_uri": "https://localhost:8080/"
        },
        "id": "6HW7MzpNzjzo",
        "outputId": "a44f975e-bf5f-4c66-9686-1365bdeb7a26"
      },
      "execution_count": null,
      "outputs": [
        {
          "output_type": "execute_result",
          "data": {
            "text/plain": [
              "sintomas      float64\n",
              "sexo          float64\n",
              "idade         float64\n",
              "numeroDose    float64\n",
              "dtype: object"
            ]
          },
          "metadata": {},
          "execution_count": 49
        }
      ]
    },
    {
      "cell_type": "code",
      "source": [
        "y.head()"
      ],
      "metadata": {
        "colab": {
          "base_uri": "https://localhost:8080/"
        },
        "id": "tG1NFJgKzgr8",
        "outputId": "6f13438c-7474-4e12-dc47-4d11c858c5c7"
      },
      "execution_count": null,
      "outputs": [
        {
          "output_type": "execute_result",
          "data": {
            "text/plain": [
              "3     0.0\n",
              "4     0.0\n",
              "8     0.0\n",
              "10    0.0\n",
              "11    0.0\n",
              "Name: evolucaoCaso, dtype: float64"
            ]
          },
          "metadata": {},
          "execution_count": 50
        }
      ]
    },
    {
      "cell_type": "code",
      "source": [
        "#Dividindo os dados de treino e teste.\n",
        "X_train, X_test, y_train, y_test = train_test_split(X,y, test_size=0.3, random_state=21)"
      ],
      "metadata": {
        "id": "LuIWwFuRzqIR"
      },
      "execution_count": null,
      "outputs": []
    },
    {
      "cell_type": "code",
      "source": [
        "#Verificando a quantidade de dados de treino."
      ],
      "metadata": {
        "id": "Viwt6t6i0OKD"
      },
      "execution_count": null,
      "outputs": []
    },
    {
      "cell_type": "code",
      "source": [
        "X_train.shape, X_test.shape"
      ],
      "metadata": {
        "colab": {
          "base_uri": "https://localhost:8080/"
        },
        "id": "TSEwhuWJ0ELn",
        "outputId": "37ac2628-7f59-4cf0-c910-8cd565f5897d"
      },
      "execution_count": null,
      "outputs": [
        {
          "output_type": "execute_result",
          "data": {
            "text/plain": [
              "((66288, 4), (28410, 4))"
            ]
          },
          "metadata": {},
          "execution_count": 53
        }
      ]
    },
    {
      "cell_type": "code",
      "source": [
        "y_train.shape, y_test.shape"
      ],
      "metadata": {
        "colab": {
          "base_uri": "https://localhost:8080/"
        },
        "id": "Wt4wdYs70J5G",
        "outputId": "8f8ba37e-50a2-41e2-94c1-be45c2c74714"
      },
      "execution_count": null,
      "outputs": [
        {
          "output_type": "execute_result",
          "data": {
            "text/plain": [
              "((66288,), (28410,))"
            ]
          },
          "metadata": {},
          "execution_count": 54
        }
      ]
    },
    {
      "cell_type": "code",
      "source": [
        "#Instanciando o objeto classificador para árvore de decisão.\n",
        "decisionTree = DecisionTreeClassifier()"
      ],
      "metadata": {
        "id": "3pS9fEsP0R63"
      },
      "execution_count": null,
      "outputs": []
    },
    {
      "cell_type": "code",
      "source": [
        "#Treinando o modelo.\n",
        "decisionTree.fit(X_train, y_train)"
      ],
      "metadata": {
        "colab": {
          "base_uri": "https://localhost:8080/",
          "height": 75
        },
        "id": "9YphqBdE0cF_",
        "outputId": "ca1b5092-54aa-4c11-9971-bd48dc59f91d"
      },
      "execution_count": null,
      "outputs": [
        {
          "output_type": "execute_result",
          "data": {
            "text/plain": [
              "DecisionTreeClassifier()"
            ],
            "text/html": [
              "<style>#sk-container-id-1 {color: black;background-color: white;}#sk-container-id-1 pre{padding: 0;}#sk-container-id-1 div.sk-toggleable {background-color: white;}#sk-container-id-1 label.sk-toggleable__label {cursor: pointer;display: block;width: 100%;margin-bottom: 0;padding: 0.3em;box-sizing: border-box;text-align: center;}#sk-container-id-1 label.sk-toggleable__label-arrow:before {content: \"▸\";float: left;margin-right: 0.25em;color: #696969;}#sk-container-id-1 label.sk-toggleable__label-arrow:hover:before {color: black;}#sk-container-id-1 div.sk-estimator:hover label.sk-toggleable__label-arrow:before {color: black;}#sk-container-id-1 div.sk-toggleable__content {max-height: 0;max-width: 0;overflow: hidden;text-align: left;background-color: #f0f8ff;}#sk-container-id-1 div.sk-toggleable__content pre {margin: 0.2em;color: black;border-radius: 0.25em;background-color: #f0f8ff;}#sk-container-id-1 input.sk-toggleable__control:checked~div.sk-toggleable__content {max-height: 200px;max-width: 100%;overflow: auto;}#sk-container-id-1 input.sk-toggleable__control:checked~label.sk-toggleable__label-arrow:before {content: \"▾\";}#sk-container-id-1 div.sk-estimator input.sk-toggleable__control:checked~label.sk-toggleable__label {background-color: #d4ebff;}#sk-container-id-1 div.sk-label input.sk-toggleable__control:checked~label.sk-toggleable__label {background-color: #d4ebff;}#sk-container-id-1 input.sk-hidden--visually {border: 0;clip: rect(1px 1px 1px 1px);clip: rect(1px, 1px, 1px, 1px);height: 1px;margin: -1px;overflow: hidden;padding: 0;position: absolute;width: 1px;}#sk-container-id-1 div.sk-estimator {font-family: monospace;background-color: #f0f8ff;border: 1px dotted black;border-radius: 0.25em;box-sizing: border-box;margin-bottom: 0.5em;}#sk-container-id-1 div.sk-estimator:hover {background-color: #d4ebff;}#sk-container-id-1 div.sk-parallel-item::after {content: \"\";width: 100%;border-bottom: 1px solid gray;flex-grow: 1;}#sk-container-id-1 div.sk-label:hover label.sk-toggleable__label {background-color: #d4ebff;}#sk-container-id-1 div.sk-serial::before {content: \"\";position: absolute;border-left: 1px solid gray;box-sizing: border-box;top: 0;bottom: 0;left: 50%;z-index: 0;}#sk-container-id-1 div.sk-serial {display: flex;flex-direction: column;align-items: center;background-color: white;padding-right: 0.2em;padding-left: 0.2em;position: relative;}#sk-container-id-1 div.sk-item {position: relative;z-index: 1;}#sk-container-id-1 div.sk-parallel {display: flex;align-items: stretch;justify-content: center;background-color: white;position: relative;}#sk-container-id-1 div.sk-item::before, #sk-container-id-1 div.sk-parallel-item::before {content: \"\";position: absolute;border-left: 1px solid gray;box-sizing: border-box;top: 0;bottom: 0;left: 50%;z-index: -1;}#sk-container-id-1 div.sk-parallel-item {display: flex;flex-direction: column;z-index: 1;position: relative;background-color: white;}#sk-container-id-1 div.sk-parallel-item:first-child::after {align-self: flex-end;width: 50%;}#sk-container-id-1 div.sk-parallel-item:last-child::after {align-self: flex-start;width: 50%;}#sk-container-id-1 div.sk-parallel-item:only-child::after {width: 0;}#sk-container-id-1 div.sk-dashed-wrapped {border: 1px dashed gray;margin: 0 0.4em 0.5em 0.4em;box-sizing: border-box;padding-bottom: 0.4em;background-color: white;}#sk-container-id-1 div.sk-label label {font-family: monospace;font-weight: bold;display: inline-block;line-height: 1.2em;}#sk-container-id-1 div.sk-label-container {text-align: center;}#sk-container-id-1 div.sk-container {/* jupyter's `normalize.less` sets `[hidden] { display: none; }` but bootstrap.min.css set `[hidden] { display: none !important; }` so we also need the `!important` here to be able to override the default hidden behavior on the sphinx rendered scikit-learn.org. See: https://github.com/scikit-learn/scikit-learn/issues/21755 */display: inline-block !important;position: relative;}#sk-container-id-1 div.sk-text-repr-fallback {display: none;}</style><div id=\"sk-container-id-1\" class=\"sk-top-container\"><div class=\"sk-text-repr-fallback\"><pre>DecisionTreeClassifier()</pre><b>In a Jupyter environment, please rerun this cell to show the HTML representation or trust the notebook. <br />On GitHub, the HTML representation is unable to render, please try loading this page with nbviewer.org.</b></div><div class=\"sk-container\" hidden><div class=\"sk-item\"><div class=\"sk-estimator sk-toggleable\"><input class=\"sk-toggleable__control sk-hidden--visually\" id=\"sk-estimator-id-1\" type=\"checkbox\" checked><label for=\"sk-estimator-id-1\" class=\"sk-toggleable__label sk-toggleable__label-arrow\">DecisionTreeClassifier</label><div class=\"sk-toggleable__content\"><pre>DecisionTreeClassifier()</pre></div></div></div></div></div>"
            ]
          },
          "metadata": {},
          "execution_count": 56
        }
      ]
    },
    {
      "cell_type": "code",
      "source": [
        "#Resultado dos testes para cura, 1 = Cura e 0 Não Curado.\n",
        "dTree = decisionTree.predict(X_test)\n",
        "dTree"
      ],
      "metadata": {
        "colab": {
          "base_uri": "https://localhost:8080/"
        },
        "id": "3xFCQaK_0hQx",
        "outputId": "b5934f63-d135-4b9e-a0fe-36ac524b3678"
      },
      "execution_count": null,
      "outputs": [
        {
          "output_type": "execute_result",
          "data": {
            "text/plain": [
              "array([0., 0., 0., ..., 0., 0., 0.])"
            ]
          },
          "metadata": {},
          "execution_count": 57
        }
      ]
    },
    {
      "cell_type": "code",
      "source": [
        "#Verificação de dados.\n",
        "decisionTree.feature_importances_"
      ],
      "metadata": {
        "colab": {
          "base_uri": "https://localhost:8080/"
        },
        "id": "JUDwo1dA1Gr8",
        "outputId": "0b47f3f0-d919-41c9-e9d5-1f1de00590e9"
      },
      "execution_count": null,
      "outputs": [
        {
          "output_type": "execute_result",
          "data": {
            "text/plain": [
              "array([0.111532  , 0.06065938, 0.56838029, 0.25942833])"
            ]
          },
          "metadata": {},
          "execution_count": 58
        }
      ]
    },
    {
      "cell_type": "code",
      "source": [
        "#Verificando os dados mais importantes de treino.\n",
        "importanceValue = pd.Series(decisionTree.feature_importances_, index=X_train.columns).sort_values(ascending=False)\n",
        "importanceValue"
      ],
      "metadata": {
        "colab": {
          "base_uri": "https://localhost:8080/"
        },
        "id": "a7zXg1hG1VYA",
        "outputId": "0a95df8a-f77a-4b41-f4dd-178f5199bf62"
      },
      "execution_count": null,
      "outputs": [
        {
          "output_type": "execute_result",
          "data": {
            "text/plain": [
              "idade         0.568380\n",
              "numeroDose    0.259428\n",
              "sintomas      0.111532\n",
              "sexo          0.060659\n",
              "dtype: float64"
            ]
          },
          "metadata": {},
          "execution_count": 59
        }
      ]
    },
    {
      "cell_type": "code",
      "source": [
        "print(metrics.classification_report(y_test, dTree))"
      ],
      "metadata": {
        "colab": {
          "base_uri": "https://localhost:8080/"
        },
        "id": "TxQ6-FUX1hFe",
        "outputId": "b59b04eb-50d8-443d-8cf0-92c09f00253c"
      },
      "execution_count": null,
      "outputs": [
        {
          "output_type": "stream",
          "name": "stdout",
          "text": [
            "              precision    recall  f1-score   support\n",
            "\n",
            "         0.0       0.95      1.00      0.97     26937\n",
            "         1.0       0.50      0.00      0.00      1473\n",
            "\n",
            "    accuracy                           0.95     28410\n",
            "   macro avg       0.72      0.50      0.49     28410\n",
            "weighted avg       0.92      0.95      0.92     28410\n",
            "\n"
          ]
        }
      ]
    },
    {
      "cell_type": "code",
      "source": [
        "print(metrics.recall_score(y_test, dTree))"
      ],
      "metadata": {
        "colab": {
          "base_uri": "https://localhost:8080/"
        },
        "id": "HZRA1bIs4ecX",
        "outputId": "e1c35dd3-fcdb-4a93-8c8f-43b7cc9b4acb"
      },
      "execution_count": null,
      "outputs": [
        {
          "output_type": "stream",
          "name": "stdout",
          "text": [
            "0.0006788866259334691\n"
          ]
        }
      ]
    },
    {
      "cell_type": "code",
      "source": [
        "from sklearn.ensemble import RandomForestClassifier"
      ],
      "metadata": {
        "id": "gVjohYFN4pWP"
      },
      "execution_count": null,
      "outputs": []
    },
    {
      "cell_type": "code",
      "source": [
        "#Instanciando o objeto classificador para random forest.\n",
        "randomForest =  RandomForestClassifier()"
      ],
      "metadata": {
        "id": "qBZG2y-R4t7w"
      },
      "execution_count": null,
      "outputs": []
    },
    {
      "cell_type": "code",
      "source": [
        "#Treinando o modelo.\n",
        "randomForest.fit(X_train, y_train)"
      ],
      "metadata": {
        "colab": {
          "base_uri": "https://localhost:8080/",
          "height": 75
        },
        "id": "6g_2DaMd4zF9",
        "outputId": "c0a427e7-077a-4e07-f805-9dede5d2600b"
      },
      "execution_count": null,
      "outputs": [
        {
          "output_type": "execute_result",
          "data": {
            "text/plain": [
              "RandomForestClassifier()"
            ],
            "text/html": [
              "<style>#sk-container-id-2 {color: black;background-color: white;}#sk-container-id-2 pre{padding: 0;}#sk-container-id-2 div.sk-toggleable {background-color: white;}#sk-container-id-2 label.sk-toggleable__label {cursor: pointer;display: block;width: 100%;margin-bottom: 0;padding: 0.3em;box-sizing: border-box;text-align: center;}#sk-container-id-2 label.sk-toggleable__label-arrow:before {content: \"▸\";float: left;margin-right: 0.25em;color: #696969;}#sk-container-id-2 label.sk-toggleable__label-arrow:hover:before {color: black;}#sk-container-id-2 div.sk-estimator:hover label.sk-toggleable__label-arrow:before {color: black;}#sk-container-id-2 div.sk-toggleable__content {max-height: 0;max-width: 0;overflow: hidden;text-align: left;background-color: #f0f8ff;}#sk-container-id-2 div.sk-toggleable__content pre {margin: 0.2em;color: black;border-radius: 0.25em;background-color: #f0f8ff;}#sk-container-id-2 input.sk-toggleable__control:checked~div.sk-toggleable__content {max-height: 200px;max-width: 100%;overflow: auto;}#sk-container-id-2 input.sk-toggleable__control:checked~label.sk-toggleable__label-arrow:before {content: \"▾\";}#sk-container-id-2 div.sk-estimator input.sk-toggleable__control:checked~label.sk-toggleable__label {background-color: #d4ebff;}#sk-container-id-2 div.sk-label input.sk-toggleable__control:checked~label.sk-toggleable__label {background-color: #d4ebff;}#sk-container-id-2 input.sk-hidden--visually {border: 0;clip: rect(1px 1px 1px 1px);clip: rect(1px, 1px, 1px, 1px);height: 1px;margin: -1px;overflow: hidden;padding: 0;position: absolute;width: 1px;}#sk-container-id-2 div.sk-estimator {font-family: monospace;background-color: #f0f8ff;border: 1px dotted black;border-radius: 0.25em;box-sizing: border-box;margin-bottom: 0.5em;}#sk-container-id-2 div.sk-estimator:hover {background-color: #d4ebff;}#sk-container-id-2 div.sk-parallel-item::after {content: \"\";width: 100%;border-bottom: 1px solid gray;flex-grow: 1;}#sk-container-id-2 div.sk-label:hover label.sk-toggleable__label {background-color: #d4ebff;}#sk-container-id-2 div.sk-serial::before {content: \"\";position: absolute;border-left: 1px solid gray;box-sizing: border-box;top: 0;bottom: 0;left: 50%;z-index: 0;}#sk-container-id-2 div.sk-serial {display: flex;flex-direction: column;align-items: center;background-color: white;padding-right: 0.2em;padding-left: 0.2em;position: relative;}#sk-container-id-2 div.sk-item {position: relative;z-index: 1;}#sk-container-id-2 div.sk-parallel {display: flex;align-items: stretch;justify-content: center;background-color: white;position: relative;}#sk-container-id-2 div.sk-item::before, #sk-container-id-2 div.sk-parallel-item::before {content: \"\";position: absolute;border-left: 1px solid gray;box-sizing: border-box;top: 0;bottom: 0;left: 50%;z-index: -1;}#sk-container-id-2 div.sk-parallel-item {display: flex;flex-direction: column;z-index: 1;position: relative;background-color: white;}#sk-container-id-2 div.sk-parallel-item:first-child::after {align-self: flex-end;width: 50%;}#sk-container-id-2 div.sk-parallel-item:last-child::after {align-self: flex-start;width: 50%;}#sk-container-id-2 div.sk-parallel-item:only-child::after {width: 0;}#sk-container-id-2 div.sk-dashed-wrapped {border: 1px dashed gray;margin: 0 0.4em 0.5em 0.4em;box-sizing: border-box;padding-bottom: 0.4em;background-color: white;}#sk-container-id-2 div.sk-label label {font-family: monospace;font-weight: bold;display: inline-block;line-height: 1.2em;}#sk-container-id-2 div.sk-label-container {text-align: center;}#sk-container-id-2 div.sk-container {/* jupyter's `normalize.less` sets `[hidden] { display: none; }` but bootstrap.min.css set `[hidden] { display: none !important; }` so we also need the `!important` here to be able to override the default hidden behavior on the sphinx rendered scikit-learn.org. See: https://github.com/scikit-learn/scikit-learn/issues/21755 */display: inline-block !important;position: relative;}#sk-container-id-2 div.sk-text-repr-fallback {display: none;}</style><div id=\"sk-container-id-2\" class=\"sk-top-container\"><div class=\"sk-text-repr-fallback\"><pre>RandomForestClassifier()</pre><b>In a Jupyter environment, please rerun this cell to show the HTML representation or trust the notebook. <br />On GitHub, the HTML representation is unable to render, please try loading this page with nbviewer.org.</b></div><div class=\"sk-container\" hidden><div class=\"sk-item\"><div class=\"sk-estimator sk-toggleable\"><input class=\"sk-toggleable__control sk-hidden--visually\" id=\"sk-estimator-id-2\" type=\"checkbox\" checked><label for=\"sk-estimator-id-2\" class=\"sk-toggleable__label sk-toggleable__label-arrow\">RandomForestClassifier</label><div class=\"sk-toggleable__content\"><pre>RandomForestClassifier()</pre></div></div></div></div></div>"
            ]
          },
          "metadata": {},
          "execution_count": 64
        }
      ]
    },
    {
      "cell_type": "code",
      "source": [
        "rForest = randomForest.predict(X_test)"
      ],
      "metadata": {
        "id": "v2qZHgIg44Np"
      },
      "execution_count": null,
      "outputs": []
    },
    {
      "cell_type": "code",
      "source": [
        "rForest"
      ],
      "metadata": {
        "colab": {
          "base_uri": "https://localhost:8080/"
        },
        "id": "HOhy_4PP5DDK",
        "outputId": "67107374-3364-484d-ea7a-36d7eb232749"
      },
      "execution_count": null,
      "outputs": [
        {
          "output_type": "execute_result",
          "data": {
            "text/plain": [
              "array([0., 0., 0., ..., 0., 0., 0.])"
            ]
          },
          "metadata": {},
          "execution_count": 66
        }
      ]
    },
    {
      "cell_type": "code",
      "source": [
        "print(metrics.classification_report(y_test, rForest))"
      ],
      "metadata": {
        "colab": {
          "base_uri": "https://localhost:8080/"
        },
        "id": "5B3rJh9t5GD4",
        "outputId": "963e69f9-a9fb-4e9d-82c7-e3180b40bc79"
      },
      "execution_count": null,
      "outputs": [
        {
          "output_type": "stream",
          "name": "stdout",
          "text": [
            "              precision    recall  f1-score   support\n",
            "\n",
            "         0.0       0.95      1.00      0.97     26937\n",
            "         1.0       0.50      0.00      0.00      1473\n",
            "\n",
            "    accuracy                           0.95     28410\n",
            "   macro avg       0.72      0.50      0.49     28410\n",
            "weighted avg       0.92      0.95      0.92     28410\n",
            "\n"
          ]
        }
      ]
    },
    {
      "cell_type": "code",
      "source": [
        "print(metrics.recall_score(y_test, rForest))"
      ],
      "metadata": {
        "colab": {
          "base_uri": "https://localhost:8080/"
        },
        "id": "lT2-nobt5KoO",
        "outputId": "8268c655-fc2a-404c-cd64-e6fabdf5fbec"
      },
      "execution_count": null,
      "outputs": [
        {
          "output_type": "stream",
          "name": "stdout",
          "text": [
            "0.0006788866259334691\n"
          ]
        }
      ]
    },
    {
      "cell_type": "code",
      "source": [
        "from sklearn.neighbors import KNeighborsClassifier"
      ],
      "metadata": {
        "id": "N3KQ3q7T5RmB"
      },
      "execution_count": null,
      "outputs": []
    },
    {
      "cell_type": "code",
      "source": [
        "#Instanciando o objeto classificador para o K Nearest-Neighbor.\n",
        "KNN = KNeighborsClassifier()"
      ],
      "metadata": {
        "id": "mD61XIWu5TlI"
      },
      "execution_count": null,
      "outputs": []
    },
    {
      "cell_type": "code",
      "source": [
        "#Treinando o modelo.\n",
        "KNN.fit(X_train, y_train)"
      ],
      "metadata": {
        "colab": {
          "base_uri": "https://localhost:8080/",
          "height": 75
        },
        "id": "K7drPaFXE1Xw",
        "outputId": "d28a5c04-3ee0-4295-a484-1c8d3130e878"
      },
      "execution_count": null,
      "outputs": [
        {
          "output_type": "execute_result",
          "data": {
            "text/plain": [
              "KNeighborsClassifier()"
            ],
            "text/html": [
              "<style>#sk-container-id-3 {color: black;background-color: white;}#sk-container-id-3 pre{padding: 0;}#sk-container-id-3 div.sk-toggleable {background-color: white;}#sk-container-id-3 label.sk-toggleable__label {cursor: pointer;display: block;width: 100%;margin-bottom: 0;padding: 0.3em;box-sizing: border-box;text-align: center;}#sk-container-id-3 label.sk-toggleable__label-arrow:before {content: \"▸\";float: left;margin-right: 0.25em;color: #696969;}#sk-container-id-3 label.sk-toggleable__label-arrow:hover:before {color: black;}#sk-container-id-3 div.sk-estimator:hover label.sk-toggleable__label-arrow:before {color: black;}#sk-container-id-3 div.sk-toggleable__content {max-height: 0;max-width: 0;overflow: hidden;text-align: left;background-color: #f0f8ff;}#sk-container-id-3 div.sk-toggleable__content pre {margin: 0.2em;color: black;border-radius: 0.25em;background-color: #f0f8ff;}#sk-container-id-3 input.sk-toggleable__control:checked~div.sk-toggleable__content {max-height: 200px;max-width: 100%;overflow: auto;}#sk-container-id-3 input.sk-toggleable__control:checked~label.sk-toggleable__label-arrow:before {content: \"▾\";}#sk-container-id-3 div.sk-estimator input.sk-toggleable__control:checked~label.sk-toggleable__label {background-color: #d4ebff;}#sk-container-id-3 div.sk-label input.sk-toggleable__control:checked~label.sk-toggleable__label {background-color: #d4ebff;}#sk-container-id-3 input.sk-hidden--visually {border: 0;clip: rect(1px 1px 1px 1px);clip: rect(1px, 1px, 1px, 1px);height: 1px;margin: -1px;overflow: hidden;padding: 0;position: absolute;width: 1px;}#sk-container-id-3 div.sk-estimator {font-family: monospace;background-color: #f0f8ff;border: 1px dotted black;border-radius: 0.25em;box-sizing: border-box;margin-bottom: 0.5em;}#sk-container-id-3 div.sk-estimator:hover {background-color: #d4ebff;}#sk-container-id-3 div.sk-parallel-item::after {content: \"\";width: 100%;border-bottom: 1px solid gray;flex-grow: 1;}#sk-container-id-3 div.sk-label:hover label.sk-toggleable__label {background-color: #d4ebff;}#sk-container-id-3 div.sk-serial::before {content: \"\";position: absolute;border-left: 1px solid gray;box-sizing: border-box;top: 0;bottom: 0;left: 50%;z-index: 0;}#sk-container-id-3 div.sk-serial {display: flex;flex-direction: column;align-items: center;background-color: white;padding-right: 0.2em;padding-left: 0.2em;position: relative;}#sk-container-id-3 div.sk-item {position: relative;z-index: 1;}#sk-container-id-3 div.sk-parallel {display: flex;align-items: stretch;justify-content: center;background-color: white;position: relative;}#sk-container-id-3 div.sk-item::before, #sk-container-id-3 div.sk-parallel-item::before {content: \"\";position: absolute;border-left: 1px solid gray;box-sizing: border-box;top: 0;bottom: 0;left: 50%;z-index: -1;}#sk-container-id-3 div.sk-parallel-item {display: flex;flex-direction: column;z-index: 1;position: relative;background-color: white;}#sk-container-id-3 div.sk-parallel-item:first-child::after {align-self: flex-end;width: 50%;}#sk-container-id-3 div.sk-parallel-item:last-child::after {align-self: flex-start;width: 50%;}#sk-container-id-3 div.sk-parallel-item:only-child::after {width: 0;}#sk-container-id-3 div.sk-dashed-wrapped {border: 1px dashed gray;margin: 0 0.4em 0.5em 0.4em;box-sizing: border-box;padding-bottom: 0.4em;background-color: white;}#sk-container-id-3 div.sk-label label {font-family: monospace;font-weight: bold;display: inline-block;line-height: 1.2em;}#sk-container-id-3 div.sk-label-container {text-align: center;}#sk-container-id-3 div.sk-container {/* jupyter's `normalize.less` sets `[hidden] { display: none; }` but bootstrap.min.css set `[hidden] { display: none !important; }` so we also need the `!important` here to be able to override the default hidden behavior on the sphinx rendered scikit-learn.org. See: https://github.com/scikit-learn/scikit-learn/issues/21755 */display: inline-block !important;position: relative;}#sk-container-id-3 div.sk-text-repr-fallback {display: none;}</style><div id=\"sk-container-id-3\" class=\"sk-top-container\"><div class=\"sk-text-repr-fallback\"><pre>KNeighborsClassifier()</pre><b>In a Jupyter environment, please rerun this cell to show the HTML representation or trust the notebook. <br />On GitHub, the HTML representation is unable to render, please try loading this page with nbviewer.org.</b></div><div class=\"sk-container\" hidden><div class=\"sk-item\"><div class=\"sk-estimator sk-toggleable\"><input class=\"sk-toggleable__control sk-hidden--visually\" id=\"sk-estimator-id-3\" type=\"checkbox\" checked><label for=\"sk-estimator-id-3\" class=\"sk-toggleable__label sk-toggleable__label-arrow\">KNeighborsClassifier</label><div class=\"sk-toggleable__content\"><pre>KNeighborsClassifier()</pre></div></div></div></div></div>"
            ]
          },
          "metadata": {},
          "execution_count": 71
        }
      ]
    },
    {
      "cell_type": "code",
      "source": [
        "rKNN = KNN.predict(X_test)"
      ],
      "metadata": {
        "id": "3-Cs4C2V5X6I"
      },
      "execution_count": null,
      "outputs": []
    },
    {
      "cell_type": "code",
      "source": [
        "rKNN"
      ],
      "metadata": {
        "colab": {
          "base_uri": "https://localhost:8080/"
        },
        "id": "Q0ZI0NVh5deQ",
        "outputId": "16fc6e52-aaf5-4af8-9631-b5e9934999e9"
      },
      "execution_count": null,
      "outputs": [
        {
          "output_type": "execute_result",
          "data": {
            "text/plain": [
              "array([0., 0., 0., ..., 0., 0., 0.])"
            ]
          },
          "metadata": {},
          "execution_count": 73
        }
      ]
    },
    {
      "cell_type": "code",
      "source": [
        "print(metrics.classification_report(y_test, rKNN))"
      ],
      "metadata": {
        "colab": {
          "base_uri": "https://localhost:8080/"
        },
        "id": "oItnTH3K5gFK",
        "outputId": "830c7f5c-b35d-47d4-a22a-9d5b59651526"
      },
      "execution_count": null,
      "outputs": [
        {
          "output_type": "stream",
          "name": "stdout",
          "text": [
            "              precision    recall  f1-score   support\n",
            "\n",
            "         0.0       0.95      1.00      0.97     26937\n",
            "         1.0       0.00      0.00      0.00      1473\n",
            "\n",
            "    accuracy                           0.95     28410\n",
            "   macro avg       0.47      0.50      0.49     28410\n",
            "weighted avg       0.90      0.95      0.92     28410\n",
            "\n"
          ]
        }
      ]
    },
    {
      "cell_type": "code",
      "source": [
        "print(metrics.recall_score(y_test, rKNN))"
      ],
      "metadata": {
        "colab": {
          "base_uri": "https://localhost:8080/"
        },
        "id": "PNJ7v44o5iuf",
        "outputId": "9ed567c9-186c-4ad7-c781-5e64a98ce192"
      },
      "execution_count": null,
      "outputs": [
        {
          "output_type": "stream",
          "name": "stdout",
          "text": [
            "0.0\n"
          ]
        }
      ]
    },
    {
      "cell_type": "markdown",
      "source": [
        "## Analise dos **resultados**"
      ],
      "metadata": {
        "id": "Ngm8psHtA6wq"
      }
    },
    {
      "cell_type": "code",
      "source": [
        "#Decision Tree"
      ],
      "metadata": {
        "id": "oqv9kvjnBAER"
      },
      "execution_count": null,
      "outputs": []
    },
    {
      "cell_type": "code",
      "source": [
        "decisionTree.feature_importances_"
      ],
      "metadata": {
        "colab": {
          "base_uri": "https://localhost:8080/"
        },
        "id": "fnVnviAyBB3C",
        "outputId": "5b84294d-7bc3-4255-d8da-ebd2fb0140e1"
      },
      "execution_count": null,
      "outputs": [
        {
          "output_type": "execute_result",
          "data": {
            "text/plain": [
              "array([0.111532  , 0.06065938, 0.56838029, 0.25942833])"
            ]
          },
          "metadata": {},
          "execution_count": 77
        }
      ]
    },
    {
      "cell_type": "code",
      "source": [
        "importanceValue = pd.Series(decisionTree.feature_importances_, index=X_train.columns).sort_values(ascending=False)\n",
        "importanceValue"
      ],
      "metadata": {
        "colab": {
          "base_uri": "https://localhost:8080/"
        },
        "id": "6K_vhYIgBFUN",
        "outputId": "95576350-79b7-48bd-9222-a229443a041e"
      },
      "execution_count": null,
      "outputs": [
        {
          "output_type": "execute_result",
          "data": {
            "text/plain": [
              "idade         0.568380\n",
              "numeroDose    0.259428\n",
              "sintomas      0.111532\n",
              "sexo          0.060659\n",
              "dtype: float64"
            ]
          },
          "metadata": {},
          "execution_count": 78
        }
      ]
    },
    {
      "cell_type": "code",
      "source": [
        "print(metrics.classification_report(y_test, dTree))"
      ],
      "metadata": {
        "colab": {
          "base_uri": "https://localhost:8080/"
        },
        "id": "l3poz4spBHX8",
        "outputId": "b2e4a5d5-959c-4348-fcda-2fcd47f5f357"
      },
      "execution_count": null,
      "outputs": [
        {
          "output_type": "stream",
          "name": "stdout",
          "text": [
            "              precision    recall  f1-score   support\n",
            "\n",
            "         0.0       0.95      1.00      0.97     26937\n",
            "         1.0       0.50      0.00      0.00      1473\n",
            "\n",
            "    accuracy                           0.95     28410\n",
            "   macro avg       0.72      0.50      0.49     28410\n",
            "weighted avg       0.92      0.95      0.92     28410\n",
            "\n"
          ]
        }
      ]
    },
    {
      "cell_type": "code",
      "source": [
        "print(metrics.recall_score(y_test, dTree))"
      ],
      "metadata": {
        "colab": {
          "base_uri": "https://localhost:8080/"
        },
        "id": "DmQbA0CGBMLz",
        "outputId": "61c1a5cf-61e0-44eb-b0a2-6d1e89440f9b"
      },
      "execution_count": null,
      "outputs": [
        {
          "output_type": "stream",
          "name": "stdout",
          "text": [
            "0.0006788866259334691\n"
          ]
        }
      ]
    },
    {
      "cell_type": "code",
      "source": [
        "#Random Forest"
      ],
      "metadata": {
        "id": "ZPaGoPh3BO_R"
      },
      "execution_count": null,
      "outputs": []
    },
    {
      "cell_type": "code",
      "source": [
        "randomForest.feature_importances_"
      ],
      "metadata": {
        "colab": {
          "base_uri": "https://localhost:8080/"
        },
        "id": "2xA6jet0BQnI",
        "outputId": "1de225d6-7e06-44f2-d26c-3e7104a6db80"
      },
      "execution_count": null,
      "outputs": [
        {
          "output_type": "execute_result",
          "data": {
            "text/plain": [
              "array([0.0478999 , 0.03586783, 0.7142388 , 0.20199347])"
            ]
          },
          "metadata": {},
          "execution_count": 82
        }
      ]
    },
    {
      "cell_type": "code",
      "source": [
        "importanceValue = pd.Series(randomForest.feature_importances_, index=X_train.columns).sort_values(ascending=False)\n",
        "importanceValue"
      ],
      "metadata": {
        "colab": {
          "base_uri": "https://localhost:8080/"
        },
        "id": "SRnXXiDzBbLK",
        "outputId": "fea154da-ad31-453d-eada-734ecaf8646a"
      },
      "execution_count": null,
      "outputs": [
        {
          "output_type": "execute_result",
          "data": {
            "text/plain": [
              "idade         0.714239\n",
              "numeroDose    0.201993\n",
              "sintomas      0.047900\n",
              "sexo          0.035868\n",
              "dtype: float64"
            ]
          },
          "metadata": {},
          "execution_count": 83
        }
      ]
    },
    {
      "cell_type": "code",
      "source": [
        "print(metrics.classification_report(y_test, rForest))"
      ],
      "metadata": {
        "colab": {
          "base_uri": "https://localhost:8080/"
        },
        "id": "5w04x_qLBfgc",
        "outputId": "8ec47fbe-b4ec-4c02-9725-f786da1796cd"
      },
      "execution_count": null,
      "outputs": [
        {
          "output_type": "stream",
          "name": "stdout",
          "text": [
            "              precision    recall  f1-score   support\n",
            "\n",
            "         0.0       0.95      1.00      0.97     26937\n",
            "         1.0       0.50      0.00      0.00      1473\n",
            "\n",
            "    accuracy                           0.95     28410\n",
            "   macro avg       0.72      0.50      0.49     28410\n",
            "weighted avg       0.92      0.95      0.92     28410\n",
            "\n"
          ]
        }
      ]
    },
    {
      "cell_type": "code",
      "source": [
        "print(metrics.recall_score(y_test, rForest))"
      ],
      "metadata": {
        "colab": {
          "base_uri": "https://localhost:8080/"
        },
        "id": "-BRj5HF4BiG6",
        "outputId": "b9929735-d22b-4bdb-f905-2b42d74143af"
      },
      "execution_count": null,
      "outputs": [
        {
          "output_type": "stream",
          "name": "stdout",
          "text": [
            "0.0006788866259334691\n"
          ]
        }
      ]
    },
    {
      "cell_type": "code",
      "source": [
        "#KNN"
      ],
      "metadata": {
        "id": "nEOvv4moBsoT"
      },
      "execution_count": null,
      "outputs": []
    },
    {
      "cell_type": "code",
      "source": [
        "print(metrics.classification_report(y_test, rKNN))"
      ],
      "metadata": {
        "colab": {
          "base_uri": "https://localhost:8080/"
        },
        "id": "tQZie3ycBtkZ",
        "outputId": "69449efa-8310-4c81-9e69-446391fa32cb"
      },
      "execution_count": null,
      "outputs": [
        {
          "output_type": "stream",
          "name": "stdout",
          "text": [
            "              precision    recall  f1-score   support\n",
            "\n",
            "         0.0       0.95      1.00      0.97     26937\n",
            "         1.0       0.00      0.00      0.00      1473\n",
            "\n",
            "    accuracy                           0.95     28410\n",
            "   macro avg       0.47      0.50      0.49     28410\n",
            "weighted avg       0.90      0.95      0.92     28410\n",
            "\n"
          ]
        }
      ]
    },
    {
      "cell_type": "code",
      "source": [
        "print(metrics.recall_score(y_test, rKNN))"
      ],
      "metadata": {
        "colab": {
          "base_uri": "https://localhost:8080/"
        },
        "id": "YQie-v1pBwrK",
        "outputId": "c59998a7-99d8-43f5-8c57-3fe9a130632a"
      },
      "execution_count": null,
      "outputs": [
        {
          "output_type": "stream",
          "name": "stdout",
          "text": [
            "0.0\n"
          ]
        }
      ]
    },
    {
      "cell_type": "markdown",
      "source": [
        "## **Finalização**"
      ],
      "metadata": {
        "id": "pM-gfqUdB1-P"
      }
    },
    {
      "cell_type": "code",
      "source": [
        "import matplotlib.pyplot as plt\n",
        "import seaborn as sns"
      ],
      "metadata": {
        "id": "BQ2dLitBB5d2"
      },
      "execution_count": null,
      "outputs": []
    },
    {
      "cell_type": "code",
      "source": [
        "sns.countplot(x=\"sexo\", data=dfTrain)\n",
        "plt.title(\"Total de pacientes por sexo.\");\n",
        "plt.xticks(ticks=[0, 1], labels=[\"Feminino\", \"Masculino\"])"
      ],
      "metadata": {
        "colab": {
          "base_uri": "https://localhost:8080/",
          "height": 524
        },
        "id": "2so2OPeSB_AH",
        "outputId": "744366c0-99e9-4e71-8908-a2c9a2296e36"
      },
      "execution_count": null,
      "outputs": [
        {
          "output_type": "execute_result",
          "data": {
            "text/plain": [
              "([<matplotlib.axis.XTick at 0x7f0c0dd8e320>,\n",
              "  <matplotlib.axis.XTick at 0x7f0c0dd8f580>],\n",
              " [Text(0, 0, 'Feminino'), Text(1, 0, 'Masculino')])"
            ]
          },
          "metadata": {},
          "execution_count": 94
        },
        {
          "output_type": "display_data",
          "data": {
            "text/plain": [
              "<Figure size 640x480 with 1 Axes>"
            ],
            "image/png": "[encoded data removed]"
          },
          "metadata": {}
        }
      ]
    },
    {
      "cell_type": "code",
      "source": [
        "sns.countplot(x=\"sexo\", data=dfTrain, hue=\"evolucaoCaso\", palette = \"viridis\")\n",
        "plt.title(\"Taxa de curados por gênero\");\n",
        "plt.xticks(ticks=[0, 1], labels=[\"Feminino\", \"Masculino\"])"
      ],
      "metadata": {
        "colab": {
          "base_uri": "https://localhost:8080/",
          "height": 524
        },
        "id": "JWi_Do_2CQ47",
        "outputId": "991046ae-c7aa-4597-f398-dc231ca4f630"
      },
      "execution_count": null,
      "outputs": [
        {
          "output_type": "execute_result",
          "data": {
            "text/plain": [
              "([<matplotlib.axis.XTick at 0x7f0c0eda2080>,\n",
              "  <matplotlib.axis.XTick at 0x7f0c0eda1870>],\n",
              " [Text(0, 0, 'Feminino'), Text(1, 0, 'Masculino')])"
            ]
          },
          "metadata": {},
          "execution_count": 95
        },
        {
          "output_type": "display_data",
          "data": {
            "text/plain": [
              "<Figure size 640x480 with 1 Axes>"
            ],
            "image/png": "[encoded data removed]"
          },
          "metadata": {}
        }
      ]
    },
    {
      "cell_type": "code",
      "source": [
        "dfTrain[\"idade\"].hist(bins=30);\n",
        "plt.title(\"Faixa Etária\")\n",
        "plt.xlabel(\"Idade\")\n",
        "plt.ylabel(\"Total\")"
      ],
      "metadata": {
        "colab": {
          "base_uri": "https://localhost:8080/",
          "height": 489
        },
        "id": "J0_AZnZQC7cY",
        "outputId": "262630d8-75ba-43d7-e4cd-68471a8cc85c"
      },
      "execution_count": null,
      "outputs": [
        {
          "output_type": "execute_result",
          "data": {
            "text/plain": [
              "Text(0, 0.5, 'Total')"
            ]
          },
          "metadata": {},
          "execution_count": 106
        },
        {
          "output_type": "display_data",
          "data": {
            "text/plain": [
              "<Figure size 640x480 with 1 Axes>"
            ],
            "image/png": "[encoded data removed]"
          },
          "metadata": {}
        }
      ]
    },
    {
      "cell_type": "code",
      "source": [
        "plt.figure(figsize=(10, 5))\n",
        "plt.subplot(1, 2, 1)\n",
        "dfTrain[dfTrain[\"evolucaoCaso\"] == 0.0][\"idade\"].hist()\n",
        "plt.title(\"Não Curados\")\n",
        "plt.xlabel(\"Idade\")\n",
        "plt.subplot(1, 2, 2)\n",
        "dfTrain[dfTrain[\"evolucaoCaso\"] == 1.0][\"idade\"].hist()\n",
        "plt.title(\"Curados\")\n",
        "plt.xlabel(\"Idade\")\n",
        "plt.show()"
      ],
      "metadata": {
        "colab": {
          "base_uri": "https://localhost:8080/",
          "height": 487
        },
        "id": "tt_0b3qtOPSH",
        "outputId": "4213cafc-d6e8-4a49-b890-1a431cd6b82f"
      },
      "execution_count": null,
      "outputs": [
        {
          "output_type": "display_data",
          "data": {
            "text/plain": [
              "<Figure size 1000x500 with 2 Axes>"
            ],
            "image/png": "[encoded data removed]"
          },
          "metadata": {}
        }
      ]
    },
    {
      "cell_type": "code",
      "source": [
        "#Taxa de cura por idade. Curados = 1.\n",
        "dfTrain[\"idade\"].hist(by=dfTrain[\"evolucaoCaso\"]);"
      ],
      "metadata": {
        "colab": {
          "base_uri": "https://localhost:8080/",
          "height": 455
        },
        "id": "6zUrSaNSDPFK",
        "outputId": "bb9c4c9e-1342-4f25-afa3-2dfcbc1a6bea"
      },
      "execution_count": null,
      "outputs": [
        {
          "output_type": "display_data",
          "data": {
            "text/plain": [
              "<Figure size 640x480 with 2 Axes>"
            ],
            "image/png": "[encoded data removed]"
          },
          "metadata": {}
        }
      ]
    },
    {
      "cell_type": "code",
      "source": [
        "dfTrain.sample(13)"
      ],
      "metadata": {
        "colab": {
          "base_uri": "https://localhost:8080/",
          "height": 457
        },
        "id": "kpSqObzZIHp8",
        "outputId": "838d7d38-0d57-4169-8e86-0f45b5cecdfb"
      },
      "execution_count": null,
      "outputs": [
        {
          "output_type": "execute_result",
          "data": {
            "text/plain": [
              "        sintomas   racaCor  sexo estado  municipio  evolucaoCaso  \\\n",
              "352692       1.0  Ignorado   0.0  Ceará  Fortaleza           0.0   \n",
              "132016       1.0     Parda   0.0  Ceará  Fortaleza           1.0   \n",
              "385825       1.0     Parda   1.0  Ceará  Fortaleza           0.0   \n",
              "262911       1.0     Parda   0.0  Ceará  Fortaleza           0.0   \n",
              "435633       1.0    Branca   0.0  Ceará  Fortaleza           0.0   \n",
              "156342       1.0     Parda   0.0  Ceará  Fortaleza           1.0   \n",
              "16763        0.0     Parda   1.0  Ceará  Fortaleza           1.0   \n",
              "143152       1.0     Preta   0.0  Ceará  Fortaleza           0.0   \n",
              "525128       1.0     Parda   0.0  Ceará  Fortaleza           0.0   \n",
              "325735       1.0     Parda   1.0  Ceará  Fortaleza           0.0   \n",
              "474860       1.0  Ignorado   0.0  Ceará  Fortaleza           0.0   \n",
              "121726       1.0    Branca   0.0  Ceará  Fortaleza           0.0   \n",
              "64935        1.0   Amarela   0.0  Ceará  Fortaleza           0.0   \n",
              "\n",
              "       lotePrimeiraDose loteSegundaDose dataPrimeiraDose dataSegundaDose  \\\n",
              "352692       214VCD064Z     216VCD014VA       2021-05-22      2021-07-23   \n",
              "132016           210384             NaN       2021-08-31            None   \n",
              "385825              NaN             NaN             None            None   \n",
              "262911           FD7219          FG3528       2021-08-12      2021-10-23   \n",
              "435633       214VCD064Z          FM3457       2021-05-27      2021-12-16   \n",
              "156342          210439A      B202107085       2021-12-20      2022-06-26   \n",
              "16763        214VCD106W          210121       2021-06-16      2021-08-26   \n",
              "143152           FE3591          FH8023       2021-08-14      2021-10-27   \n",
              "525128       216VCD215W      219VCD285W       2021-08-14      2021-11-20   \n",
              "325735       c202107128      C202107128       2022-02-20      2022-04-03   \n",
              "474860           EX2405          FA9096       2021-05-09      2021-07-23   \n",
              "121726              NaN             NaN             None            None   \n",
              "64935            FD7219          FG3528       2021-08-12      2021-10-15   \n",
              "\n",
              "        idade  numeroDose  \n",
              "352692   30.0         2.0  \n",
              "132016   27.0         1.0  \n",
              "385825    5.0         0.0  \n",
              "262911   23.0         2.0  \n",
              "435633   32.0         2.0  \n",
              "156342   44.0         2.0  \n",
              "16763    22.0         2.0  \n",
              "143152   23.0         2.0  \n",
              "525128   22.0         2.0  \n",
              "325735    8.0         2.0  \n",
              "474860   38.0         2.0  \n",
              "121726   20.0         0.0  \n",
              "64935    24.0         2.0  "
            ],
            "text/html": [
              "\n",
              "  <div id=\"df-2b54721e-05c9-4d06-97b3-a4dc99d039d9\">\n",
              "    <div class=\"colab-df-container\">\n",
              "      <div>\n",
              "<style scoped>\n",
              "    .dataframe tbody tr th:only-of-type {\n",
              "        vertical-align: middle;\n",
              "    }\n",
              "\n",
              "    .dataframe tbody tr th {\n",
              "        vertical-align: top;\n",
              "    }\n",
              "\n",
              "    .dataframe thead th {\n",
              "        text-align: right;\n",
              "    }\n",
              "</style>\n",
              "<table border=\"1\" class=\"dataframe\">\n",
              "  <thead>\n",
              "    <tr style=\"text-align: right;\">\n",
              "      <th></th>\n",
              "      <th>sintomas</th>\n",
              "      <th>racaCor</th>\n",
              "      <th>sexo</th>\n",
              "      <th>estado</th>\n",
              "      <th>municipio</th>\n",
              "      <th>evolucaoCaso</th>\n",
              "      <th>lotePrimeiraDose</th>\n",
              "      <th>loteSegundaDose</th>\n",
              "      <th>dataPrimeiraDose</th>\n",
              "      <th>dataSegundaDose</th>\n",
              "      <th>idade</th>\n",
              "      <th>numeroDose</th>\n",
              "    </tr>\n",
              "  </thead>\n",
              "  <tbody>\n",
              "    <tr>\n",
              "      <th>352692</th>\n",
              "      <td>1.0</td>\n",
              "      <td>Ignorado</td>\n",
              "      <td>0.0</td>\n",
              "      <td>Ceará</td>\n",
              "      <td>Fortaleza</td>\n",
              "      <td>0.0</td>\n",
              "      <td>214VCD064Z</td>\n",
              "      <td>216VCD014VA</td>\n",
              "      <td>2021-05-22</td>\n",
              "      <td>2021-07-23</td>\n",
              "      <td>30.0</td>\n",
              "      <td>2.0</td>\n",
              "    </tr>\n",
              "    <tr>\n",
              "      <th>132016</th>\n",
              "      <td>1.0</td>\n",
              "      <td>Parda</td>\n",
              "      <td>0.0</td>\n",
              "      <td>Ceará</td>\n",
              "      <td>Fortaleza</td>\n",
              "      <td>1.0</td>\n",
              "      <td>210384</td>\n",
              "      <td>NaN</td>\n",
              "      <td>2021-08-31</td>\n",
              "      <td>None</td>\n",
              "      <td>27.0</td>\n",
              "      <td>1.0</td>\n",
              "    </tr>\n",
              "    <tr>\n",
              "      <th>385825</th>\n",
              "      <td>1.0</td>\n",
              "      <td>Parda</td>\n",
              "      <td>1.0</td>\n",
              "      <td>Ceará</td>\n",
              "      <td>Fortaleza</td>\n",
              "      <td>0.0</td>\n",
              "      <td>NaN</td>\n",
              "      <td>NaN</td>\n",
              "      <td>None</td>\n",
              "      <td>None</td>\n",
              "      <td>5.0</td>\n",
              "      <td>0.0</td>\n",
              "    </tr>\n",
              "    <tr>\n",
              "      <th>262911</th>\n",
              "      <td>1.0</td>\n",
              "      <td>Parda</td>\n",
              "      <td>0.0</td>\n",
              "      <td>Ceará</td>\n",
              "      <td>Fortaleza</td>\n",
              "      <td>0.0</td>\n",
              "      <td>FD7219</td>\n",
              "      <td>FG3528</td>\n",
              "      <td>2021-08-12</td>\n",
              "      <td>2021-10-23</td>\n",
              "      <td>23.0</td>\n",
              "      <td>2.0</td>\n",
              "    </tr>\n",
              "    <tr>\n",
              "      <th>435633</th>\n",
              "      <td>1.0</td>\n",
              "      <td>Branca</td>\n",
              "      <td>0.0</td>\n",
              "      <td>Ceará</td>\n",
              "      <td>Fortaleza</td>\n",
              "      <td>0.0</td>\n",
              "      <td>214VCD064Z</td>\n",
              "      <td>FM3457</td>\n",
              "      <td>2021-05-27</td>\n",
              "      <td>2021-12-16</td>\n",
              "      <td>32.0</td>\n",
              "      <td>2.0</td>\n",
              "    </tr>\n",
              "    <tr>\n",
              "      <th>156342</th>\n",
              "      <td>1.0</td>\n",
              "      <td>Parda</td>\n",
              "      <td>0.0</td>\n",
              "      <td>Ceará</td>\n",
              "      <td>Fortaleza</td>\n",
              "      <td>1.0</td>\n",
              "      <td>210439A</td>\n",
              "      <td>B202107085</td>\n",
              "      <td>2021-12-20</td>\n",
              "      <td>2022-06-26</td>\n",
              "      <td>44.0</td>\n",
              "      <td>2.0</td>\n",
              "    </tr>\n",
              "    <tr>\n",
              "      <th>16763</th>\n",
              "      <td>0.0</td>\n",
              "      <td>Parda</td>\n",
              "      <td>1.0</td>\n",
              "      <td>Ceará</td>\n",
              "      <td>Fortaleza</td>\n",
              "      <td>1.0</td>\n",
              "      <td>214VCD106W</td>\n",
              "      <td>210121</td>\n",
              "      <td>2021-06-16</td>\n",
              "      <td>2021-08-26</td>\n",
              "      <td>22.0</td>\n",
              "      <td>2.0</td>\n",
              "    </tr>\n",
              "    <tr>\n",
              "      <th>143152</th>\n",
              "      <td>1.0</td>\n",
              "      <td>Preta</td>\n",
              "      <td>0.0</td>\n",
              "      <td>Ceará</td>\n",
              "      <td>Fortaleza</td>\n",
              "      <td>0.0</td>\n",
              "      <td>FE3591</td>\n",
              "      <td>FH8023</td>\n",
              "      <td>2021-08-14</td>\n",
              "      <td>2021-10-27</td>\n",
              "      <td>23.0</td>\n",
              "      <td>2.0</td>\n",
              "    </tr>\n",
              "    <tr>\n",
              "      <th>525128</th>\n",
              "      <td>1.0</td>\n",
              "      <td>Parda</td>\n",
              "      <td>0.0</td>\n",
              "      <td>Ceará</td>\n",
              "      <td>Fortaleza</td>\n",
              "      <td>0.0</td>\n",
              "      <td>216VCD215W</td>\n",
              "      <td>219VCD285W</td>\n",
              "      <td>2021-08-14</td>\n",
              "      <td>2021-11-20</td>\n",
              "      <td>22.0</td>\n",
              "      <td>2.0</td>\n",
              "    </tr>\n",
              "    <tr>\n",
              "      <th>325735</th>\n",
              "      <td>1.0</td>\n",
              "      <td>Parda</td>\n",
              "      <td>1.0</td>\n",
              "      <td>Ceará</td>\n",
              "      <td>Fortaleza</td>\n",
              "      <td>0.0</td>\n",
              "      <td>c202107128</td>\n",
              "      <td>C202107128</td>\n",
              "      <td>2022-02-20</td>\n",
              "      <td>2022-04-03</td>\n",
              "      <td>8.0</td>\n",
              "      <td>2.0</td>\n",
              "    </tr>\n",
              "    <tr>\n",
              "      <th>474860</th>\n",
              "      <td>1.0</td>\n",
              "      <td>Ignorado</td>\n",
              "      <td>0.0</td>\n",
              "      <td>Ceará</td>\n",
              "      <td>Fortaleza</td>\n",
              "      <td>0.0</td>\n",
              "      <td>EX2405</td>\n",
              "      <td>FA9096</td>\n",
              "      <td>2021-05-09</td>\n",
              "      <td>2021-07-23</td>\n",
              "      <td>38.0</td>\n",
              "      <td>2.0</td>\n",
              "    </tr>\n",
              "    <tr>\n",
              "      <th>121726</th>\n",
              "      <td>1.0</td>\n",
              "      <td>Branca</td>\n",
              "      <td>0.0</td>\n",
              "      <td>Ceará</td>\n",
              "      <td>Fortaleza</td>\n",
              "      <td>0.0</td>\n",
              "      <td>NaN</td>\n",
              "      <td>NaN</td>\n",
              "      <td>None</td>\n",
              "      <td>None</td>\n",
              "      <td>20.0</td>\n",
              "      <td>0.0</td>\n",
              "    </tr>\n",
              "    <tr>\n",
              "      <th>64935</th>\n",
              "      <td>1.0</td>\n",
              "      <td>Amarela</td>\n",
              "      <td>0.0</td>\n",
              "      <td>Ceará</td>\n",
              "      <td>Fortaleza</td>\n",
              "      <td>0.0</td>\n",
              "      <td>FD7219</td>\n",
              "      <td>FG3528</td>\n",
              "      <td>2021-08-12</td>\n",
              "      <td>2021-10-15</td>\n",
              "      <td>24.0</td>\n",
              "      <td>2.0</td>\n",
              "    </tr>\n",
              "  </tbody>\n",
              "</table>\n",
              "</div>\n",
              "      <button class=\"colab-df-convert\" onclick=\"convertToInteractive('df-2b54721e-05c9-4d06-97b3-a4dc99d039d9')\"\n",
              "              title=\"Convert this dataframe to an interactive table.\"\n",
              "              style=\"display:none;\">\n",
              "        \n",
              "  <svg xmlns=\"http://www.w3.org/2000/svg\" height=\"24px\"viewBox=\"0 0 24 24\"\n",
              "       width=\"24px\">\n",
              "    <path d=\"M0 0h24v24H0V0z\" fill=\"none\"/>\n",
              "    <path d=\"M18.56 5.44l.94 2.06.94-2.06 2.06-.94-2.06-.94-.94-2.06-.94 2.06-2.06.94zm-11 1L8.5 8.5l.94-2.06 2.06-.94-2.06-.94L8.5 2.5l-.94 2.06-2.06.94zm10 10l.94 2.06.94-2.06 2.06-.94-2.06-.94-.94-2.06-.94 2.06-2.06.94z\"/><path d=\"M17.41 7.96l-1.37-1.37c-.4-.4-.92-.59-1.43-.59-.52 0-1.04.2-1.43.59L10.3 9.45l-7.72 7.72c-.78.78-.78 2.05 0 2.83L4 21.41c.39.39.9.59 1.41.59.51 0 1.02-.2 1.41-.59l7.78-7.78 2.81-2.81c.8-.78.8-2.07 0-2.86zM5.41 20L4 18.59l7.72-7.72 1.47 1.35L5.41 20z\"/>\n",
              "  </svg>\n",
              "      </button>\n",
              "      \n",
              "  <style>\n",
              "    .colab-df-container {\n",
              "      display:flex;\n",
              "      flex-wrap:wrap;\n",
              "      gap: 12px;\n",
              "    }\n",
              "\n",
              "    .colab-df-convert {\n",
              "      background-color: #E8F0FE;\n",
              "      border: none;\n",
              "      border-radius: 50%;\n",
              "      cursor: pointer;\n",
              "      display: none;\n",
              "      fill: #1967D2;\n",
              "      height: 32px;\n",
              "      padding: 0 0 0 0;\n",
              "      width: 32px;\n",
              "    }\n",
              "\n",
              "    .colab-df-convert:hover {\n",
              "      background-color: #E2EBFA;\n",
              "      box-shadow: 0px 1px 2px rgba(60, 64, 67, 0.3), 0px 1px 3px 1px rgba(60, 64, 67, 0.15);\n",
              "      fill: #174EA6;\n",
              "    }\n",
              "\n",
              "    [theme=dark] .colab-df-convert {\n",
              "      background-color: #3B4455;\n",
              "      fill: #D2E3FC;\n",
              "    }\n",
              "\n",
              "    [theme=dark] .colab-df-convert:hover {\n",
              "      background-color: #434B5C;\n",
              "      box-shadow: 0px 1px 3px 1px rgba(0, 0, 0, 0.15);\n",
              "      filter: drop-shadow(0px 1px 2px rgba(0, 0, 0, 0.3));\n",
              "      fill: #FFFFFF;\n",
              "    }\n",
              "  </style>\n",
              "\n",
              "      <script>\n",
              "        const buttonEl =\n",
              "          document.querySelector('#df-2b54721e-05c9-4d06-97b3-a4dc99d039d9 button.colab-df-convert');\n",
              "        buttonEl.style.display =\n",
              "          google.colab.kernel.accessAllowed ? 'block' : 'none';\n",
              "\n",
              "        async function convertToInteractive(key) {\n",
              "          const element = document.querySelector('#df-2b54721e-05c9-4d06-97b3-a4dc99d039d9');\n",
              "          const dataTable =\n",
              "            await google.colab.kernel.invokeFunction('convertToInteractive',\n",
              "                                                     [key], {});\n",
              "          if (!dataTable) return;\n",
              "\n",
              "          const docLinkHtml = 'Like what you see? Visit the ' +\n",
              "            '<a target=\"_blank\" href=https://colab.research.google.com/notebooks/data_table.ipynb>data table notebook</a>'\n",
              "            + ' to learn more about interactive tables.';\n",
              "          element.innerHTML = '';\n",
              "          dataTable['output_type'] = 'display_data';\n",
              "          await google.colab.output.renderOutput(dataTable, element);\n",
              "          const docLink = document.createElement('div');\n",
              "          docLink.innerHTML = docLinkHtml;\n",
              "          element.appendChild(docLink);\n",
              "        }\n",
              "      </script>\n",
              "    </div>\n",
              "  </div>\n",
              "  "
            ]
          },
          "metadata": {},
          "execution_count": 280
        }
      ]
    },
    {
      "cell_type": "markdown",
      "source": [
        "Resultado não satisfatório pelo grande desbalanceamento dos dados na coluna de evolucaoCaso, possível solução seria adicionar um dataset de óbitos no mesmo período com alguns dados simples de sobre os pacientes, como nome, endereço, CPF, etc. Após isso seria feito uma comparação de cada linha dos 2 datasets com esses dados e posteriormente adicionar os dados de óbito a uma nova coluna juntamente com os dados de fator cura, depois faria uma filtragem nova entre essa nova coluna com valores 0 para óbito e 1 para o restante. Com isso acredito que o desbalanceamento desses dados seria reduzido, assim me dando uma precisão melhor dos resultados."
      ],
      "metadata": {
        "id": "8_2pT3mmaRlP"
      }
    }
  ]
}
